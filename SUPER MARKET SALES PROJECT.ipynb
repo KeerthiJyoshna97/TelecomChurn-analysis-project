{
  "nbformat": 4,
  "nbformat_minor": 0,
  "metadata": {
    "colab": {
      "name": "ALURI_KEERTHI_JYOSHNA_Project_DS15.ipynb",
      "provenance": []
    },
    "kernelspec": {
      "name": "python3",
      "display_name": "Python 3"
    },
    "language_info": {
      "name": "python"
    }
  },
  "cells": [
    {
      "cell_type": "markdown",
      "source": [
        "## **INTRODUCTION**:\n",
        "\n",
        "Supermarketsales dataset explains about the supermarket analysis which includes the growth of increasing supermarkets in cities as well as its profits,loses and also about the competitions between the increasing supermarkets.It also gives brief description about invoice identification number,supermarketbranches,city in which the supermarket is located,customer type,about product line,unit price,quantity,tax,cost of goods sold,gross margin percentage,gross income and about rating of the supermarket.\n",
        "\n",
        "  This dataset consists of data from 3 cities in Myanmar namely:\n",
        "  \n",
        "  A)Yangon with city code CT1\n",
        "\n",
        "  B)Naypyitaw with city code CT3\n",
        "\n",
        "  C)Mandalay with city code CT9\n",
        "\n",
        "\n",
        "\n",
        "## **variables used in this dataset**: \n",
        "Invoice Id   : Invoice Indentification number\n",
        "\n",
        "Branch       : Branch of the supermarket\n",
        "\n",
        "City code        : city in which the supermarket is located\n",
        "\n",
        "customer type: About the customers using member card and the customers without member card\n",
        "\n",
        "Gender       : Gender of the customers\n",
        "\n",
        "Product code : general item categorisation groups\n",
        "\n",
        "unit price   : price of each product measured in dollars($)\n",
        "\n",
        "Quantity     : About the no.of products purchased by the customer\n",
        "\n",
        "Tax          : Tax which has to be paid by customer for buying the items.\n",
        "\n",
        "Total        : Total price which has to be paid by the customer including tax\n",
        "\n",
        "Date         : Date of purchase\n",
        "\n",
        "Time         : Time of purchase\n",
        "\n",
        "Payment      : payment method\n",
        "\n",
        "COGS         : Cost of goods sold\n",
        "\n",
        "Gross  margin percentage:Gross margin percentage\n",
        "\n",
        "Gross income:Gross income\n",
        "\n",
        "Rating:Rating given by the customer on their overall shopping.\n",
        "\n",
        "\n",
        "\n",
        "\n",
        "\n",
        "\n",
        "\n"
      ],
      "metadata": {
        "id": "bBDBY2pG2fGm"
      }
    },
    {
      "cell_type": "markdown",
      "source": [
        "##**DATASET EXPLANATION**:\n",
        "Invoice id : 'Invoice id' comes under \"nominal\" data type where there is no order and no magnitude while in python it comes under \"string\" which is the sequence of a character data.\n",
        "\n",
        "Branch :It comes under the \"nominal\" data type.While in python it comes under \"string\".\n",
        "\n",
        "City code : It comes under \"nominal\" data type which is in categorical form.while in python it comes under \"string\".\n",
        "\n",
        "Customer type : It comes under \"nominal\" data type .While in python it comes under \"string\"\n",
        "\n",
        "Gender : It comes under \"nominal\" data type.While in python it comes under \"integer\",as it reads males as'0' and females as'1'.\n",
        "\n",
        "Productcode: It comes under \"nominal\" data type. While in python it comes under \"string\"\n",
        "\n",
        "Unit price : It comes under \"continous\"data type.While in python it comes under\"float\"as decimal values are present.\n",
        "\n",
        "Quantity : It comes under \"continuous\" data type.While in python it comes under\"integer\" as decimal values are absent.\n",
        "\n",
        "Tax : It comes under \"continuous\" data type.While in python it comes under \"float\".\n",
        "\n",
        "Total: it comes under \"continuous\" data type.While in python it comes under \"float\".\n",
        "\n",
        "Date and time : Both comes under \"ordinal\" data type.While in python both comes under \"object\",the basic form of a string.\n",
        "\n",
        "Payment : It comes under \"continuous\" data type.While in python it comes under \"string\".\n",
        "\n",
        "COGS : It comes under \"continuous\" data type.While in python it comes under \"float\".\n",
        "\n",
        "Gross margin percentage : It comes under \"continuous\" data type.While in python it comes under \"float\".\n",
        "\n",
        "Gross income : It comes under \"continuous \" data type.While in python it comes under \"float\".\n",
        "\n",
        "Rating : It comes under \"continuous\" data type.While in python it comes under \"float\".\n"
      ],
      "metadata": {
        "id": "eHMT_zOWFGTg"
      }
    },
    {
      "cell_type": "markdown",
      "source": [
        "##**Importing file from a local folder**"
      ],
      "metadata": {
        "id": "TZj22DgwR3mG"
      }
    },
    {
      "cell_type": "code",
      "execution_count": 3,
      "metadata": {
        "colab": {
          "resources": {
            "http://localhost:8080/nbextensions/google.colab/files.js": {
              "data": "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",
              "ok": true,
              "headers": [
                [
                  "content-type",
                  "application/javascript"
                ]
              ],
              "status": 200,
              "status_text": ""
            }
          },
          "base_uri": "https://localhost:8080/",
          "height": 73
        },
        "id": "y4zjTVbb5a2X",
        "outputId": "45e481e8-5149-4f13-ba27-970c9ad6f2f1"
      },
      "outputs": [
        {
          "output_type": "display_data",
          "data": {
            "text/plain": [
              "<IPython.core.display.HTML object>"
            ],
            "text/html": [
              "\n",
              "     <input type=\"file\" id=\"files-df8bb565-7b49-4400-a29f-7d9b064f5ae4\" name=\"files[]\" multiple disabled\n",
              "        style=\"border:none\" />\n",
              "     <output id=\"result-df8bb565-7b49-4400-a29f-7d9b064f5ae4\">\n",
              "      Upload widget is only available when the cell has been executed in the\n",
              "      current browser session. Please rerun this cell to enable.\n",
              "      </output>\n",
              "      <script src=\"/nbextensions/google.colab/files.js\"></script> "
            ]
          },
          "metadata": {}
        },
        {
          "output_type": "stream",
          "name": "stdout",
          "text": [
            "Saving supermarket_sales.xlsx to supermarket_sales.xlsx\n"
          ]
        }
      ],
      "source": [
        "#importing file from a local folder\n",
        "from google.colab import files\n",
        "uploaded = files.upload()"
      ]
    },
    {
      "cell_type": "markdown",
      "source": [
        "##**Importing necessary library**\n",
        "\n"
      ],
      "metadata": {
        "id": "lA_JWNL-Rttu"
      }
    },
    {
      "cell_type": "code",
      "source": [
        "import pandas as pd\n",
        "import seaborn as sns\n",
        "import matplotlib.pyplot as plt\n",
        "\n",
        "supermarket_sales = pd.read_excel(\"supermarket_sales.xlsx\")##reading the supermarket_sales file\n",
        "#print output\n",
        "supermarket_sales"
      ],
      "metadata": {
        "id": "LOuimlgPyBAJ",
        "colab": {
          "base_uri": "https://localhost:8080/",
          "height": 696
        },
        "outputId": "d7bad166-9ed2-4f38-9dcf-3c4f5baf2dbd"
      },
      "execution_count": 53,
      "outputs": [
        {
          "output_type": "execute_result",
          "data": {
            "text/plain": [
              "      Invoice ID Branch city code  Customer type  Gender Product code  \\\n",
              "0    750-67-8428      A        CT1        Member  Female          PD1   \n",
              "1    226-31-3081      C        CT3        Normal  Female          PD2   \n",
              "2    631-41-3108      A        CT1        Normal    Male          PD3   \n",
              "3    123-19-1176      A        CT1        Member    Male          PD1   \n",
              "4    373-73-7910      A        CT1        Normal    Male          PD4   \n",
              "..           ...    ...        ...           ...     ...          ...   \n",
              "995  233-67-5758      C        CT3        Normal    Male          PD1   \n",
              "996  303-96-2227      B        CT9        Normal  Female          PD3   \n",
              "997  727-02-1313      A        CT1        Member    Male          PD5   \n",
              "998  347-56-2442      A        CT1        Normal    Male          PD3   \n",
              "999  849-09-3807      A        CT1        Member  Female          PD6   \n",
              "\n",
              "    Unit price  Quantity   Tax 5%      Total       Date      Time  \\\n",
              "0        74.69         7  26.1415   548.9715 2019-01-05  13:08:00   \n",
              "1        15.28         5   3.8200    80.2200 2019-03-08  10:29:00   \n",
              "2        46.33         7  16.2155   340.5255 2019-03-03  13:23:00   \n",
              "3        58.22         8  23.2880   489.0480 2019-01-27  20:33:00   \n",
              "4        86.31         7  30.2085   634.3785 2019-02-08  10:37:00   \n",
              "..         ...       ...      ...        ...        ...       ...   \n",
              "995      40.35         1   2.0175    42.3675 2019-01-29  13:46:00   \n",
              "996      97.38        10  48.6900  1022.4900 2019-03-02  17:16:00   \n",
              "997      31.84         1   1.5920    33.4320 2019-02-09  13:22:00   \n",
              "998      65.82         1   3.2910    69.1110 2019-02-22  15:33:00   \n",
              "999      88.34         7  30.9190   649.2990 2019-02-18  13:28:00   \n",
              "\n",
              "         Payment    cogs  gross margin percentage  gross income  Rating  \n",
              "0        Ewallet  522.83                 4.761905       26.1415     9.1  \n",
              "1           Cash   76.40                 4.761905        3.8200     9.6  \n",
              "2    Credit card  324.31                 4.761905       16.2155     7.4  \n",
              "3        Ewallet  465.76                 4.761905       23.2880     8.4  \n",
              "4        Ewallet  604.17                 4.761905       30.2085     5.3  \n",
              "..           ...     ...                      ...           ...     ...  \n",
              "995      Ewallet   40.35                 4.761905        2.0175     6.2  \n",
              "996      Ewallet  973.80                 4.761905       48.6900     4.4  \n",
              "997         Cash   31.84                 4.761905        1.5920     7.7  \n",
              "998         Cash   65.82                 4.761905        3.2910     4.1  \n",
              "999         Cash  618.38                 4.761905       30.9190     6.6  \n",
              "\n",
              "[1000 rows x 17 columns]"
            ],
            "text/html": [
              "\n",
              "  <div id=\"df-8e7e8dfa-0efa-412f-83a7-4977012f40d5\">\n",
              "    <div class=\"colab-df-container\">\n",
              "      <div>\n",
              "<style scoped>\n",
              "    .dataframe tbody tr th:only-of-type {\n",
              "        vertical-align: middle;\n",
              "    }\n",
              "\n",
              "    .dataframe tbody tr th {\n",
              "        vertical-align: top;\n",
              "    }\n",
              "\n",
              "    .dataframe thead th {\n",
              "        text-align: right;\n",
              "    }\n",
              "</style>\n",
              "<table border=\"1\" class=\"dataframe\">\n",
              "  <thead>\n",
              "    <tr style=\"text-align: right;\">\n",
              "      <th></th>\n",
              "      <th>Invoice ID</th>\n",
              "      <th>Branch</th>\n",
              "      <th>city code</th>\n",
              "      <th>Customer type</th>\n",
              "      <th>Gender</th>\n",
              "      <th>Product code</th>\n",
              "      <th>Unit price</th>\n",
              "      <th>Quantity</th>\n",
              "      <th>Tax 5%</th>\n",
              "      <th>Total</th>\n",
              "      <th>Date</th>\n",
              "      <th>Time</th>\n",
              "      <th>Payment</th>\n",
              "      <th>cogs</th>\n",
              "      <th>gross margin percentage</th>\n",
              "      <th>gross income</th>\n",
              "      <th>Rating</th>\n",
              "    </tr>\n",
              "  </thead>\n",
              "  <tbody>\n",
              "    <tr>\n",
              "      <th>0</th>\n",
              "      <td>750-67-8428</td>\n",
              "      <td>A</td>\n",
              "      <td>CT1</td>\n",
              "      <td>Member</td>\n",
              "      <td>Female</td>\n",
              "      <td>PD1</td>\n",
              "      <td>74.69</td>\n",
              "      <td>7</td>\n",
              "      <td>26.1415</td>\n",
              "      <td>548.9715</td>\n",
              "      <td>2019-01-05</td>\n",
              "      <td>13:08:00</td>\n",
              "      <td>Ewallet</td>\n",
              "      <td>522.83</td>\n",
              "      <td>4.761905</td>\n",
              "      <td>26.1415</td>\n",
              "      <td>9.1</td>\n",
              "    </tr>\n",
              "    <tr>\n",
              "      <th>1</th>\n",
              "      <td>226-31-3081</td>\n",
              "      <td>C</td>\n",
              "      <td>CT3</td>\n",
              "      <td>Normal</td>\n",
              "      <td>Female</td>\n",
              "      <td>PD2</td>\n",
              "      <td>15.28</td>\n",
              "      <td>5</td>\n",
              "      <td>3.8200</td>\n",
              "      <td>80.2200</td>\n",
              "      <td>2019-03-08</td>\n",
              "      <td>10:29:00</td>\n",
              "      <td>Cash</td>\n",
              "      <td>76.40</td>\n",
              "      <td>4.761905</td>\n",
              "      <td>3.8200</td>\n",
              "      <td>9.6</td>\n",
              "    </tr>\n",
              "    <tr>\n",
              "      <th>2</th>\n",
              "      <td>631-41-3108</td>\n",
              "      <td>A</td>\n",
              "      <td>CT1</td>\n",
              "      <td>Normal</td>\n",
              "      <td>Male</td>\n",
              "      <td>PD3</td>\n",
              "      <td>46.33</td>\n",
              "      <td>7</td>\n",
              "      <td>16.2155</td>\n",
              "      <td>340.5255</td>\n",
              "      <td>2019-03-03</td>\n",
              "      <td>13:23:00</td>\n",
              "      <td>Credit card</td>\n",
              "      <td>324.31</td>\n",
              "      <td>4.761905</td>\n",
              "      <td>16.2155</td>\n",
              "      <td>7.4</td>\n",
              "    </tr>\n",
              "    <tr>\n",
              "      <th>3</th>\n",
              "      <td>123-19-1176</td>\n",
              "      <td>A</td>\n",
              "      <td>CT1</td>\n",
              "      <td>Member</td>\n",
              "      <td>Male</td>\n",
              "      <td>PD1</td>\n",
              "      <td>58.22</td>\n",
              "      <td>8</td>\n",
              "      <td>23.2880</td>\n",
              "      <td>489.0480</td>\n",
              "      <td>2019-01-27</td>\n",
              "      <td>20:33:00</td>\n",
              "      <td>Ewallet</td>\n",
              "      <td>465.76</td>\n",
              "      <td>4.761905</td>\n",
              "      <td>23.2880</td>\n",
              "      <td>8.4</td>\n",
              "    </tr>\n",
              "    <tr>\n",
              "      <th>4</th>\n",
              "      <td>373-73-7910</td>\n",
              "      <td>A</td>\n",
              "      <td>CT1</td>\n",
              "      <td>Normal</td>\n",
              "      <td>Male</td>\n",
              "      <td>PD4</td>\n",
              "      <td>86.31</td>\n",
              "      <td>7</td>\n",
              "      <td>30.2085</td>\n",
              "      <td>634.3785</td>\n",
              "      <td>2019-02-08</td>\n",
              "      <td>10:37:00</td>\n",
              "      <td>Ewallet</td>\n",
              "      <td>604.17</td>\n",
              "      <td>4.761905</td>\n",
              "      <td>30.2085</td>\n",
              "      <td>5.3</td>\n",
              "    </tr>\n",
              "    <tr>\n",
              "      <th>...</th>\n",
              "      <td>...</td>\n",
              "      <td>...</td>\n",
              "      <td>...</td>\n",
              "      <td>...</td>\n",
              "      <td>...</td>\n",
              "      <td>...</td>\n",
              "      <td>...</td>\n",
              "      <td>...</td>\n",
              "      <td>...</td>\n",
              "      <td>...</td>\n",
              "      <td>...</td>\n",
              "      <td>...</td>\n",
              "      <td>...</td>\n",
              "      <td>...</td>\n",
              "      <td>...</td>\n",
              "      <td>...</td>\n",
              "      <td>...</td>\n",
              "    </tr>\n",
              "    <tr>\n",
              "      <th>995</th>\n",
              "      <td>233-67-5758</td>\n",
              "      <td>C</td>\n",
              "      <td>CT3</td>\n",
              "      <td>Normal</td>\n",
              "      <td>Male</td>\n",
              "      <td>PD1</td>\n",
              "      <td>40.35</td>\n",
              "      <td>1</td>\n",
              "      <td>2.0175</td>\n",
              "      <td>42.3675</td>\n",
              "      <td>2019-01-29</td>\n",
              "      <td>13:46:00</td>\n",
              "      <td>Ewallet</td>\n",
              "      <td>40.35</td>\n",
              "      <td>4.761905</td>\n",
              "      <td>2.0175</td>\n",
              "      <td>6.2</td>\n",
              "    </tr>\n",
              "    <tr>\n",
              "      <th>996</th>\n",
              "      <td>303-96-2227</td>\n",
              "      <td>B</td>\n",
              "      <td>CT9</td>\n",
              "      <td>Normal</td>\n",
              "      <td>Female</td>\n",
              "      <td>PD3</td>\n",
              "      <td>97.38</td>\n",
              "      <td>10</td>\n",
              "      <td>48.6900</td>\n",
              "      <td>1022.4900</td>\n",
              "      <td>2019-03-02</td>\n",
              "      <td>17:16:00</td>\n",
              "      <td>Ewallet</td>\n",
              "      <td>973.80</td>\n",
              "      <td>4.761905</td>\n",
              "      <td>48.6900</td>\n",
              "      <td>4.4</td>\n",
              "    </tr>\n",
              "    <tr>\n",
              "      <th>997</th>\n",
              "      <td>727-02-1313</td>\n",
              "      <td>A</td>\n",
              "      <td>CT1</td>\n",
              "      <td>Member</td>\n",
              "      <td>Male</td>\n",
              "      <td>PD5</td>\n",
              "      <td>31.84</td>\n",
              "      <td>1</td>\n",
              "      <td>1.5920</td>\n",
              "      <td>33.4320</td>\n",
              "      <td>2019-02-09</td>\n",
              "      <td>13:22:00</td>\n",
              "      <td>Cash</td>\n",
              "      <td>31.84</td>\n",
              "      <td>4.761905</td>\n",
              "      <td>1.5920</td>\n",
              "      <td>7.7</td>\n",
              "    </tr>\n",
              "    <tr>\n",
              "      <th>998</th>\n",
              "      <td>347-56-2442</td>\n",
              "      <td>A</td>\n",
              "      <td>CT1</td>\n",
              "      <td>Normal</td>\n",
              "      <td>Male</td>\n",
              "      <td>PD3</td>\n",
              "      <td>65.82</td>\n",
              "      <td>1</td>\n",
              "      <td>3.2910</td>\n",
              "      <td>69.1110</td>\n",
              "      <td>2019-02-22</td>\n",
              "      <td>15:33:00</td>\n",
              "      <td>Cash</td>\n",
              "      <td>65.82</td>\n",
              "      <td>4.761905</td>\n",
              "      <td>3.2910</td>\n",
              "      <td>4.1</td>\n",
              "    </tr>\n",
              "    <tr>\n",
              "      <th>999</th>\n",
              "      <td>849-09-3807</td>\n",
              "      <td>A</td>\n",
              "      <td>CT1</td>\n",
              "      <td>Member</td>\n",
              "      <td>Female</td>\n",
              "      <td>PD6</td>\n",
              "      <td>88.34</td>\n",
              "      <td>7</td>\n",
              "      <td>30.9190</td>\n",
              "      <td>649.2990</td>\n",
              "      <td>2019-02-18</td>\n",
              "      <td>13:28:00</td>\n",
              "      <td>Cash</td>\n",
              "      <td>618.38</td>\n",
              "      <td>4.761905</td>\n",
              "      <td>30.9190</td>\n",
              "      <td>6.6</td>\n",
              "    </tr>\n",
              "  </tbody>\n",
              "</table>\n",
              "<p>1000 rows × 17 columns</p>\n",
              "</div>\n",
              "      <button class=\"colab-df-convert\" onclick=\"convertToInteractive('df-8e7e8dfa-0efa-412f-83a7-4977012f40d5')\"\n",
              "              title=\"Convert this dataframe to an interactive table.\"\n",
              "              style=\"display:none;\">\n",
              "        \n",
              "  <svg xmlns=\"http://www.w3.org/2000/svg\" height=\"24px\"viewBox=\"0 0 24 24\"\n",
              "       width=\"24px\">\n",
              "    <path d=\"M0 0h24v24H0V0z\" fill=\"none\"/>\n",
              "    <path d=\"M18.56 5.44l.94 2.06.94-2.06 2.06-.94-2.06-.94-.94-2.06-.94 2.06-2.06.94zm-11 1L8.5 8.5l.94-2.06 2.06-.94-2.06-.94L8.5 2.5l-.94 2.06-2.06.94zm10 10l.94 2.06.94-2.06 2.06-.94-2.06-.94-.94-2.06-.94 2.06-2.06.94z\"/><path d=\"M17.41 7.96l-1.37-1.37c-.4-.4-.92-.59-1.43-.59-.52 0-1.04.2-1.43.59L10.3 9.45l-7.72 7.72c-.78.78-.78 2.05 0 2.83L4 21.41c.39.39.9.59 1.41.59.51 0 1.02-.2 1.41-.59l7.78-7.78 2.81-2.81c.8-.78.8-2.07 0-2.86zM5.41 20L4 18.59l7.72-7.72 1.47 1.35L5.41 20z\"/>\n",
              "  </svg>\n",
              "      </button>\n",
              "      \n",
              "  <style>\n",
              "    .colab-df-container {\n",
              "      display:flex;\n",
              "      flex-wrap:wrap;\n",
              "      gap: 12px;\n",
              "    }\n",
              "\n",
              "    .colab-df-convert {\n",
              "      background-color: #E8F0FE;\n",
              "      border: none;\n",
              "      border-radius: 50%;\n",
              "      cursor: pointer;\n",
              "      display: none;\n",
              "      fill: #1967D2;\n",
              "      height: 32px;\n",
              "      padding: 0 0 0 0;\n",
              "      width: 32px;\n",
              "    }\n",
              "\n",
              "    .colab-df-convert:hover {\n",
              "      background-color: #E2EBFA;\n",
              "      box-shadow: 0px 1px 2px rgba(60, 64, 67, 0.3), 0px 1px 3px 1px rgba(60, 64, 67, 0.15);\n",
              "      fill: #174EA6;\n",
              "    }\n",
              "\n",
              "    [theme=dark] .colab-df-convert {\n",
              "      background-color: #3B4455;\n",
              "      fill: #D2E3FC;\n",
              "    }\n",
              "\n",
              "    [theme=dark] .colab-df-convert:hover {\n",
              "      background-color: #434B5C;\n",
              "      box-shadow: 0px 1px 3px 1px rgba(0, 0, 0, 0.15);\n",
              "      filter: drop-shadow(0px 1px 2px rgba(0, 0, 0, 0.3));\n",
              "      fill: #FFFFFF;\n",
              "    }\n",
              "  </style>\n",
              "\n",
              "      <script>\n",
              "        const buttonEl =\n",
              "          document.querySelector('#df-8e7e8dfa-0efa-412f-83a7-4977012f40d5 button.colab-df-convert');\n",
              "        buttonEl.style.display =\n",
              "          google.colab.kernel.accessAllowed ? 'block' : 'none';\n",
              "\n",
              "        async function convertToInteractive(key) {\n",
              "          const element = document.querySelector('#df-8e7e8dfa-0efa-412f-83a7-4977012f40d5');\n",
              "          const dataTable =\n",
              "            await google.colab.kernel.invokeFunction('convertToInteractive',\n",
              "                                                     [key], {});\n",
              "          if (!dataTable) return;\n",
              "\n",
              "          const docLinkHtml = 'Like what you see? Visit the ' +\n",
              "            '<a target=\"_blank\" href=https://colab.research.google.com/notebooks/data_table.ipynb>data table notebook</a>'\n",
              "            + ' to learn more about interactive tables.';\n",
              "          element.innerHTML = '';\n",
              "          dataTable['output_type'] = 'display_data';\n",
              "          await google.colab.output.renderOutput(dataTable, element);\n",
              "          const docLink = document.createElement('div');\n",
              "          docLink.innerHTML = docLinkHtml;\n",
              "          element.appendChild(docLink);\n",
              "        }\n",
              "      </script>\n",
              "    </div>\n",
              "  </div>\n",
              "  "
            ]
          },
          "metadata": {},
          "execution_count": 53
        }
      ]
    },
    {
      "cell_type": "code",
      "source": [
        "supermarket_sales.head(5) #head()function gives the first five rows of the dataset "
      ],
      "metadata": {
        "colab": {
          "base_uri": "https://localhost:8080/",
          "height": 391
        },
        "id": "HfQgURIS2gTQ",
        "outputId": "fd0a01bc-3502-4dee-b528-f3ea0875e7d0"
      },
      "execution_count": null,
      "outputs": [
        {
          "output_type": "execute_result",
          "data": {
            "text/plain": [
              "    Invoice ID Branch city code  Customer type  Gender Product code  \\\n",
              "0  750-67-8428      A        CT1        Member  Female          PD1   \n",
              "1  226-31-3081      C        CT3        Normal  Female          PD2   \n",
              "2  631-41-3108      A        CT1        Normal    Male          PD3   \n",
              "3  123-19-1176      A        CT1        Member    Male          PD1   \n",
              "4  373-73-7910      A        CT1        Normal    Male          PD4   \n",
              "\n",
              "  Unit price  Quantity   Tax 5%     Total       Date      Time      Payment  \\\n",
              "0      74.69         7  26.1415  548.9715 2019-01-05  13:08:00      Ewallet   \n",
              "1      15.28         5   3.8200   80.2200 2019-03-08  10:29:00         Cash   \n",
              "2      46.33         7  16.2155  340.5255 2019-03-03  13:23:00  Credit card   \n",
              "3      58.22         8  23.2880  489.0480 2019-01-27  20:33:00      Ewallet   \n",
              "4      86.31         7  30.2085  634.3785 2019-02-08  10:37:00      Ewallet   \n",
              "\n",
              "     cogs  gross margin percentage  gross income  Rating  \n",
              "0  522.83                 4.761905       26.1415     9.1  \n",
              "1   76.40                 4.761905        3.8200     9.6  \n",
              "2  324.31                 4.761905       16.2155     7.4  \n",
              "3  465.76                 4.761905       23.2880     8.4  \n",
              "4  604.17                 4.761905       30.2085     5.3  "
            ],
            "text/html": [
              "\n",
              "  <div id=\"df-7f6044c0-60a7-41ef-8365-9be3d9081a33\">\n",
              "    <div class=\"colab-df-container\">\n",
              "      <div>\n",
              "<style scoped>\n",
              "    .dataframe tbody tr th:only-of-type {\n",
              "        vertical-align: middle;\n",
              "    }\n",
              "\n",
              "    .dataframe tbody tr th {\n",
              "        vertical-align: top;\n",
              "    }\n",
              "\n",
              "    .dataframe thead th {\n",
              "        text-align: right;\n",
              "    }\n",
              "</style>\n",
              "<table border=\"1\" class=\"dataframe\">\n",
              "  <thead>\n",
              "    <tr style=\"text-align: right;\">\n",
              "      <th></th>\n",
              "      <th>Invoice ID</th>\n",
              "      <th>Branch</th>\n",
              "      <th>city code</th>\n",
              "      <th>Customer type</th>\n",
              "      <th>Gender</th>\n",
              "      <th>Product code</th>\n",
              "      <th>Unit price</th>\n",
              "      <th>Quantity</th>\n",
              "      <th>Tax 5%</th>\n",
              "      <th>Total</th>\n",
              "      <th>Date</th>\n",
              "      <th>Time</th>\n",
              "      <th>Payment</th>\n",
              "      <th>cogs</th>\n",
              "      <th>gross margin percentage</th>\n",
              "      <th>gross income</th>\n",
              "      <th>Rating</th>\n",
              "    </tr>\n",
              "  </thead>\n",
              "  <tbody>\n",
              "    <tr>\n",
              "      <th>0</th>\n",
              "      <td>750-67-8428</td>\n",
              "      <td>A</td>\n",
              "      <td>CT1</td>\n",
              "      <td>Member</td>\n",
              "      <td>Female</td>\n",
              "      <td>PD1</td>\n",
              "      <td>74.69</td>\n",
              "      <td>7</td>\n",
              "      <td>26.1415</td>\n",
              "      <td>548.9715</td>\n",
              "      <td>2019-01-05</td>\n",
              "      <td>13:08:00</td>\n",
              "      <td>Ewallet</td>\n",
              "      <td>522.83</td>\n",
              "      <td>4.761905</td>\n",
              "      <td>26.1415</td>\n",
              "      <td>9.1</td>\n",
              "    </tr>\n",
              "    <tr>\n",
              "      <th>1</th>\n",
              "      <td>226-31-3081</td>\n",
              "      <td>C</td>\n",
              "      <td>CT3</td>\n",
              "      <td>Normal</td>\n",
              "      <td>Female</td>\n",
              "      <td>PD2</td>\n",
              "      <td>15.28</td>\n",
              "      <td>5</td>\n",
              "      <td>3.8200</td>\n",
              "      <td>80.2200</td>\n",
              "      <td>2019-03-08</td>\n",
              "      <td>10:29:00</td>\n",
              "      <td>Cash</td>\n",
              "      <td>76.40</td>\n",
              "      <td>4.761905</td>\n",
              "      <td>3.8200</td>\n",
              "      <td>9.6</td>\n",
              "    </tr>\n",
              "    <tr>\n",
              "      <th>2</th>\n",
              "      <td>631-41-3108</td>\n",
              "      <td>A</td>\n",
              "      <td>CT1</td>\n",
              "      <td>Normal</td>\n",
              "      <td>Male</td>\n",
              "      <td>PD3</td>\n",
              "      <td>46.33</td>\n",
              "      <td>7</td>\n",
              "      <td>16.2155</td>\n",
              "      <td>340.5255</td>\n",
              "      <td>2019-03-03</td>\n",
              "      <td>13:23:00</td>\n",
              "      <td>Credit card</td>\n",
              "      <td>324.31</td>\n",
              "      <td>4.761905</td>\n",
              "      <td>16.2155</td>\n",
              "      <td>7.4</td>\n",
              "    </tr>\n",
              "    <tr>\n",
              "      <th>3</th>\n",
              "      <td>123-19-1176</td>\n",
              "      <td>A</td>\n",
              "      <td>CT1</td>\n",
              "      <td>Member</td>\n",
              "      <td>Male</td>\n",
              "      <td>PD1</td>\n",
              "      <td>58.22</td>\n",
              "      <td>8</td>\n",
              "      <td>23.2880</td>\n",
              "      <td>489.0480</td>\n",
              "      <td>2019-01-27</td>\n",
              "      <td>20:33:00</td>\n",
              "      <td>Ewallet</td>\n",
              "      <td>465.76</td>\n",
              "      <td>4.761905</td>\n",
              "      <td>23.2880</td>\n",
              "      <td>8.4</td>\n",
              "    </tr>\n",
              "    <tr>\n",
              "      <th>4</th>\n",
              "      <td>373-73-7910</td>\n",
              "      <td>A</td>\n",
              "      <td>CT1</td>\n",
              "      <td>Normal</td>\n",
              "      <td>Male</td>\n",
              "      <td>PD4</td>\n",
              "      <td>86.31</td>\n",
              "      <td>7</td>\n",
              "      <td>30.2085</td>\n",
              "      <td>634.3785</td>\n",
              "      <td>2019-02-08</td>\n",
              "      <td>10:37:00</td>\n",
              "      <td>Ewallet</td>\n",
              "      <td>604.17</td>\n",
              "      <td>4.761905</td>\n",
              "      <td>30.2085</td>\n",
              "      <td>5.3</td>\n",
              "    </tr>\n",
              "  </tbody>\n",
              "</table>\n",
              "</div>\n",
              "      <button class=\"colab-df-convert\" onclick=\"convertToInteractive('df-7f6044c0-60a7-41ef-8365-9be3d9081a33')\"\n",
              "              title=\"Convert this dataframe to an interactive table.\"\n",
              "              style=\"display:none;\">\n",
              "        \n",
              "  <svg xmlns=\"http://www.w3.org/2000/svg\" height=\"24px\"viewBox=\"0 0 24 24\"\n",
              "       width=\"24px\">\n",
              "    <path d=\"M0 0h24v24H0V0z\" fill=\"none\"/>\n",
              "    <path d=\"M18.56 5.44l.94 2.06.94-2.06 2.06-.94-2.06-.94-.94-2.06-.94 2.06-2.06.94zm-11 1L8.5 8.5l.94-2.06 2.06-.94-2.06-.94L8.5 2.5l-.94 2.06-2.06.94zm10 10l.94 2.06.94-2.06 2.06-.94-2.06-.94-.94-2.06-.94 2.06-2.06.94z\"/><path d=\"M17.41 7.96l-1.37-1.37c-.4-.4-.92-.59-1.43-.59-.52 0-1.04.2-1.43.59L10.3 9.45l-7.72 7.72c-.78.78-.78 2.05 0 2.83L4 21.41c.39.39.9.59 1.41.59.51 0 1.02-.2 1.41-.59l7.78-7.78 2.81-2.81c.8-.78.8-2.07 0-2.86zM5.41 20L4 18.59l7.72-7.72 1.47 1.35L5.41 20z\"/>\n",
              "  </svg>\n",
              "      </button>\n",
              "      \n",
              "  <style>\n",
              "    .colab-df-container {\n",
              "      display:flex;\n",
              "      flex-wrap:wrap;\n",
              "      gap: 12px;\n",
              "    }\n",
              "\n",
              "    .colab-df-convert {\n",
              "      background-color: #E8F0FE;\n",
              "      border: none;\n",
              "      border-radius: 50%;\n",
              "      cursor: pointer;\n",
              "      display: none;\n",
              "      fill: #1967D2;\n",
              "      height: 32px;\n",
              "      padding: 0 0 0 0;\n",
              "      width: 32px;\n",
              "    }\n",
              "\n",
              "    .colab-df-convert:hover {\n",
              "      background-color: #E2EBFA;\n",
              "      box-shadow: 0px 1px 2px rgba(60, 64, 67, 0.3), 0px 1px 3px 1px rgba(60, 64, 67, 0.15);\n",
              "      fill: #174EA6;\n",
              "    }\n",
              "\n",
              "    [theme=dark] .colab-df-convert {\n",
              "      background-color: #3B4455;\n",
              "      fill: #D2E3FC;\n",
              "    }\n",
              "\n",
              "    [theme=dark] .colab-df-convert:hover {\n",
              "      background-color: #434B5C;\n",
              "      box-shadow: 0px 1px 3px 1px rgba(0, 0, 0, 0.15);\n",
              "      filter: drop-shadow(0px 1px 2px rgba(0, 0, 0, 0.3));\n",
              "      fill: #FFFFFF;\n",
              "    }\n",
              "  </style>\n",
              "\n",
              "      <script>\n",
              "        const buttonEl =\n",
              "          document.querySelector('#df-7f6044c0-60a7-41ef-8365-9be3d9081a33 button.colab-df-convert');\n",
              "        buttonEl.style.display =\n",
              "          google.colab.kernel.accessAllowed ? 'block' : 'none';\n",
              "\n",
              "        async function convertToInteractive(key) {\n",
              "          const element = document.querySelector('#df-7f6044c0-60a7-41ef-8365-9be3d9081a33');\n",
              "          const dataTable =\n",
              "            await google.colab.kernel.invokeFunction('convertToInteractive',\n",
              "                                                     [key], {});\n",
              "          if (!dataTable) return;\n",
              "\n",
              "          const docLinkHtml = 'Like what you see? Visit the ' +\n",
              "            '<a target=\"_blank\" href=https://colab.research.google.com/notebooks/data_table.ipynb>data table notebook</a>'\n",
              "            + ' to learn more about interactive tables.';\n",
              "          element.innerHTML = '';\n",
              "          dataTable['output_type'] = 'display_data';\n",
              "          await google.colab.output.renderOutput(dataTable, element);\n",
              "          const docLink = document.createElement('div');\n",
              "          docLink.innerHTML = docLinkHtml;\n",
              "          element.appendChild(docLink);\n",
              "        }\n",
              "      </script>\n",
              "    </div>\n",
              "  </div>\n",
              "  "
            ]
          },
          "metadata": {},
          "execution_count": 102
        }
      ]
    },
    {
      "cell_type": "code",
      "source": [
        "supermarket_sales.shape ##shape function gives us the no of rows and columns"
      ],
      "metadata": {
        "colab": {
          "base_uri": "https://localhost:8080/"
        },
        "id": "hDeJnnAE2MJV",
        "outputId": "fdb02bb6-f8f8-4e51-e5bb-8f2a3ce9bc76"
      },
      "execution_count": null,
      "outputs": [
        {
          "output_type": "execute_result",
          "data": {
            "text/plain": [
              "(1000, 17)"
            ]
          },
          "metadata": {},
          "execution_count": 8
        }
      ]
    },
    {
      "cell_type": "markdown",
      "source": [
        "From the above code, it is to be known that this data set consists of 1000 rows and 17 columns."
      ],
      "metadata": {
        "id": "dNutjsq_VBiA"
      }
    },
    {
      "cell_type": "code",
      "source": [
        "supermarket_sales.describe().T## describe()method is used for calculating some statistical data"
      ],
      "metadata": {
        "colab": {
          "base_uri": "https://localhost:8080/",
          "height": 268
        },
        "id": "SqrockWyJ-r1",
        "outputId": "20db33a2-2e71-45a4-b034-d648f4cad6d6"
      },
      "execution_count": 6,
      "outputs": [
        {
          "output_type": "execute_result",
          "data": {
            "text/plain": [
              "                          count        mean           std        min  \\\n",
              "Quantity                 1000.0    5.510000  2.923431e+00   1.000000   \n",
              "Tax 5%                   1000.0   15.379369  1.170883e+01   0.508500   \n",
              "Total                    1000.0  322.966749  2.458853e+02  10.678500   \n",
              "cogs                     1000.0  307.587380  2.341765e+02  10.170000   \n",
              "gross margin percentage  1000.0    4.761905  6.131498e-14   4.761905   \n",
              "gross income             1000.0   15.379369  1.170883e+01   0.508500   \n",
              "Rating                    993.0    6.966163  1.719300e+00   4.000000   \n",
              "\n",
              "                                25%         50%         75%          max  \n",
              "Quantity                   3.000000    5.000000    8.000000    10.000000  \n",
              "Tax 5%                     5.924875   12.088000   22.445250    49.650000  \n",
              "Total                    124.422375  253.848000  471.350250  1042.650000  \n",
              "cogs                     118.497500  241.760000  448.905000   993.000000  \n",
              "gross margin percentage    4.761905    4.761905    4.761905     4.761905  \n",
              "gross income               5.924875   12.088000   22.445250    49.650000  \n",
              "Rating                     5.500000    6.900000    8.500000    10.000000  "
            ],
            "text/html": [
              "\n",
              "  <div id=\"df-3b5c6612-2466-4680-b689-467e709f34e5\">\n",
              "    <div class=\"colab-df-container\">\n",
              "      <div>\n",
              "<style scoped>\n",
              "    .dataframe tbody tr th:only-of-type {\n",
              "        vertical-align: middle;\n",
              "    }\n",
              "\n",
              "    .dataframe tbody tr th {\n",
              "        vertical-align: top;\n",
              "    }\n",
              "\n",
              "    .dataframe thead th {\n",
              "        text-align: right;\n",
              "    }\n",
              "</style>\n",
              "<table border=\"1\" class=\"dataframe\">\n",
              "  <thead>\n",
              "    <tr style=\"text-align: right;\">\n",
              "      <th></th>\n",
              "      <th>count</th>\n",
              "      <th>mean</th>\n",
              "      <th>std</th>\n",
              "      <th>min</th>\n",
              "      <th>25%</th>\n",
              "      <th>50%</th>\n",
              "      <th>75%</th>\n",
              "      <th>max</th>\n",
              "    </tr>\n",
              "  </thead>\n",
              "  <tbody>\n",
              "    <tr>\n",
              "      <th>Quantity</th>\n",
              "      <td>1000.0</td>\n",
              "      <td>5.510000</td>\n",
              "      <td>2.923431e+00</td>\n",
              "      <td>1.000000</td>\n",
              "      <td>3.000000</td>\n",
              "      <td>5.000000</td>\n",
              "      <td>8.000000</td>\n",
              "      <td>10.000000</td>\n",
              "    </tr>\n",
              "    <tr>\n",
              "      <th>Tax 5%</th>\n",
              "      <td>1000.0</td>\n",
              "      <td>15.379369</td>\n",
              "      <td>1.170883e+01</td>\n",
              "      <td>0.508500</td>\n",
              "      <td>5.924875</td>\n",
              "      <td>12.088000</td>\n",
              "      <td>22.445250</td>\n",
              "      <td>49.650000</td>\n",
              "    </tr>\n",
              "    <tr>\n",
              "      <th>Total</th>\n",
              "      <td>1000.0</td>\n",
              "      <td>322.966749</td>\n",
              "      <td>2.458853e+02</td>\n",
              "      <td>10.678500</td>\n",
              "      <td>124.422375</td>\n",
              "      <td>253.848000</td>\n",
              "      <td>471.350250</td>\n",
              "      <td>1042.650000</td>\n",
              "    </tr>\n",
              "    <tr>\n",
              "      <th>cogs</th>\n",
              "      <td>1000.0</td>\n",
              "      <td>307.587380</td>\n",
              "      <td>2.341765e+02</td>\n",
              "      <td>10.170000</td>\n",
              "      <td>118.497500</td>\n",
              "      <td>241.760000</td>\n",
              "      <td>448.905000</td>\n",
              "      <td>993.000000</td>\n",
              "    </tr>\n",
              "    <tr>\n",
              "      <th>gross margin percentage</th>\n",
              "      <td>1000.0</td>\n",
              "      <td>4.761905</td>\n",
              "      <td>6.131498e-14</td>\n",
              "      <td>4.761905</td>\n",
              "      <td>4.761905</td>\n",
              "      <td>4.761905</td>\n",
              "      <td>4.761905</td>\n",
              "      <td>4.761905</td>\n",
              "    </tr>\n",
              "    <tr>\n",
              "      <th>gross income</th>\n",
              "      <td>1000.0</td>\n",
              "      <td>15.379369</td>\n",
              "      <td>1.170883e+01</td>\n",
              "      <td>0.508500</td>\n",
              "      <td>5.924875</td>\n",
              "      <td>12.088000</td>\n",
              "      <td>22.445250</td>\n",
              "      <td>49.650000</td>\n",
              "    </tr>\n",
              "    <tr>\n",
              "      <th>Rating</th>\n",
              "      <td>993.0</td>\n",
              "      <td>6.966163</td>\n",
              "      <td>1.719300e+00</td>\n",
              "      <td>4.000000</td>\n",
              "      <td>5.500000</td>\n",
              "      <td>6.900000</td>\n",
              "      <td>8.500000</td>\n",
              "      <td>10.000000</td>\n",
              "    </tr>\n",
              "  </tbody>\n",
              "</table>\n",
              "</div>\n",
              "      <button class=\"colab-df-convert\" onclick=\"convertToInteractive('df-3b5c6612-2466-4680-b689-467e709f34e5')\"\n",
              "              title=\"Convert this dataframe to an interactive table.\"\n",
              "              style=\"display:none;\">\n",
              "        \n",
              "  <svg xmlns=\"http://www.w3.org/2000/svg\" height=\"24px\"viewBox=\"0 0 24 24\"\n",
              "       width=\"24px\">\n",
              "    <path d=\"M0 0h24v24H0V0z\" fill=\"none\"/>\n",
              "    <path d=\"M18.56 5.44l.94 2.06.94-2.06 2.06-.94-2.06-.94-.94-2.06-.94 2.06-2.06.94zm-11 1L8.5 8.5l.94-2.06 2.06-.94-2.06-.94L8.5 2.5l-.94 2.06-2.06.94zm10 10l.94 2.06.94-2.06 2.06-.94-2.06-.94-.94-2.06-.94 2.06-2.06.94z\"/><path d=\"M17.41 7.96l-1.37-1.37c-.4-.4-.92-.59-1.43-.59-.52 0-1.04.2-1.43.59L10.3 9.45l-7.72 7.72c-.78.78-.78 2.05 0 2.83L4 21.41c.39.39.9.59 1.41.59.51 0 1.02-.2 1.41-.59l7.78-7.78 2.81-2.81c.8-.78.8-2.07 0-2.86zM5.41 20L4 18.59l7.72-7.72 1.47 1.35L5.41 20z\"/>\n",
              "  </svg>\n",
              "      </button>\n",
              "      \n",
              "  <style>\n",
              "    .colab-df-container {\n",
              "      display:flex;\n",
              "      flex-wrap:wrap;\n",
              "      gap: 12px;\n",
              "    }\n",
              "\n",
              "    .colab-df-convert {\n",
              "      background-color: #E8F0FE;\n",
              "      border: none;\n",
              "      border-radius: 50%;\n",
              "      cursor: pointer;\n",
              "      display: none;\n",
              "      fill: #1967D2;\n",
              "      height: 32px;\n",
              "      padding: 0 0 0 0;\n",
              "      width: 32px;\n",
              "    }\n",
              "\n",
              "    .colab-df-convert:hover {\n",
              "      background-color: #E2EBFA;\n",
              "      box-shadow: 0px 1px 2px rgba(60, 64, 67, 0.3), 0px 1px 3px 1px rgba(60, 64, 67, 0.15);\n",
              "      fill: #174EA6;\n",
              "    }\n",
              "\n",
              "    [theme=dark] .colab-df-convert {\n",
              "      background-color: #3B4455;\n",
              "      fill: #D2E3FC;\n",
              "    }\n",
              "\n",
              "    [theme=dark] .colab-df-convert:hover {\n",
              "      background-color: #434B5C;\n",
              "      box-shadow: 0px 1px 3px 1px rgba(0, 0, 0, 0.15);\n",
              "      filter: drop-shadow(0px 1px 2px rgba(0, 0, 0, 0.3));\n",
              "      fill: #FFFFFF;\n",
              "    }\n",
              "  </style>\n",
              "\n",
              "      <script>\n",
              "        const buttonEl =\n",
              "          document.querySelector('#df-3b5c6612-2466-4680-b689-467e709f34e5 button.colab-df-convert');\n",
              "        buttonEl.style.display =\n",
              "          google.colab.kernel.accessAllowed ? 'block' : 'none';\n",
              "\n",
              "        async function convertToInteractive(key) {\n",
              "          const element = document.querySelector('#df-3b5c6612-2466-4680-b689-467e709f34e5');\n",
              "          const dataTable =\n",
              "            await google.colab.kernel.invokeFunction('convertToInteractive',\n",
              "                                                     [key], {});\n",
              "          if (!dataTable) return;\n",
              "\n",
              "          const docLinkHtml = 'Like what you see? Visit the ' +\n",
              "            '<a target=\"_blank\" href=https://colab.research.google.com/notebooks/data_table.ipynb>data table notebook</a>'\n",
              "            + ' to learn more about interactive tables.';\n",
              "          element.innerHTML = '';\n",
              "          dataTable['output_type'] = 'display_data';\n",
              "          await google.colab.output.renderOutput(dataTable, element);\n",
              "          const docLink = document.createElement('div');\n",
              "          docLink.innerHTML = docLinkHtml;\n",
              "          element.appendChild(docLink);\n",
              "        }\n",
              "      </script>\n",
              "    </div>\n",
              "  </div>\n",
              "  "
            ]
          },
          "metadata": {},
          "execution_count": 6
        }
      ]
    },
    {
      "cell_type": "code",
      "source": [
        "supermarket_sales.info()##Info()function gives us the full statistical information of the data"
      ],
      "metadata": {
        "colab": {
          "base_uri": "https://localhost:8080/"
        },
        "id": "jxIyZH_0KGb6",
        "outputId": "f456f469-9439-473e-e9ab-fa7d252a8863"
      },
      "execution_count": 52,
      "outputs": [
        {
          "output_type": "stream",
          "name": "stdout",
          "text": [
            "<class 'pandas.core.frame.DataFrame'>\n",
            "RangeIndex: 1000 entries, 0 to 999\n",
            "Data columns (total 17 columns):\n",
            " #   Column                   Non-Null Count  Dtype         \n",
            "---  ------                   --------------  -----         \n",
            " 0   Invoice ID               1000 non-null   object        \n",
            " 1   Branch                   1000 non-null   object        \n",
            " 2   city code                1000 non-null   object        \n",
            " 3   Customer type            1000 non-null   object        \n",
            " 4   Gender                   1000 non-null   object        \n",
            " 5   Product code             1000 non-null   object        \n",
            " 6   Unit price               996 non-null    object        \n",
            " 7   Quantity                 1000 non-null   int64         \n",
            " 8   Tax 5%                   1000 non-null   float64       \n",
            " 9   Total                    1000 non-null   float64       \n",
            " 10  Date                     1000 non-null   datetime64[ns]\n",
            " 11  Time                     1000 non-null   object        \n",
            " 12  Payment                  1000 non-null   object        \n",
            " 13  cogs                     1000 non-null   float64       \n",
            " 14  gross margin percentage  1000 non-null   float64       \n",
            " 15  gross income             1000 non-null   float64       \n",
            " 16  Rating                   993 non-null    float64       \n",
            "dtypes: datetime64[ns](1), float64(6), int64(1), object(9)\n",
            "memory usage: 132.9+ KB\n"
          ]
        }
      ]
    },
    {
      "cell_type": "code",
      "source": [
        "supermarket_sales.isnull().sum()#sum() function returns the number of missing values in the data set"
      ],
      "metadata": {
        "colab": {
          "base_uri": "https://localhost:8080/"
        },
        "id": "ySLWIhOpKlbJ",
        "outputId": "bb7a34e1-3d2f-41bf-f4d4-295b8552fbf1"
      },
      "execution_count": null,
      "outputs": [
        {
          "output_type": "execute_result",
          "data": {
            "text/plain": [
              "Invoice ID                 0\n",
              "Branch                     0\n",
              "city code                  0\n",
              "Customer type              0\n",
              "Gender                     0\n",
              "Product code               0\n",
              "Unit price                 4\n",
              "Quantity                   0\n",
              "Tax 5%                     0\n",
              "Total                      0\n",
              "Date                       0\n",
              "Time                       0\n",
              "Payment                    0\n",
              "cogs                       0\n",
              "gross margin percentage    0\n",
              "gross income               0\n",
              "Rating                     7\n",
              "dtype: int64"
            ]
          },
          "metadata": {},
          "execution_count": 184
        }
      ]
    },
    {
      "cell_type": "code",
      "source": [
        "supermarket_sales.corr()#corr()is used to find the pairwise correlation of all columns in the dataframe"
      ],
      "metadata": {
        "colab": {
          "base_uri": "https://localhost:8080/",
          "height": 268
        },
        "id": "EcMm6rd-8mWV",
        "outputId": "053bbb36-a4c9-4b46-9d10-7db76ccf38cd"
      },
      "execution_count": 7,
      "outputs": [
        {
          "output_type": "execute_result",
          "data": {
            "text/plain": [
              "                         Quantity    Tax 5%     Total      cogs  \\\n",
              "Quantity                 1.000000  0.705510  0.705510  0.705510   \n",
              "Tax 5%                   0.705510  1.000000  1.000000  1.000000   \n",
              "Total                    0.705510  1.000000  1.000000  1.000000   \n",
              "cogs                     0.705510  1.000000  1.000000  1.000000   \n",
              "gross margin percentage       NaN       NaN       NaN       NaN   \n",
              "gross income             0.705510  1.000000  1.000000  1.000000   \n",
              "Rating                  -0.019429 -0.037695 -0.037695 -0.037695   \n",
              "\n",
              "                         gross margin percentage  gross income    Rating  \n",
              "Quantity                                     NaN      0.705510 -0.019429  \n",
              "Tax 5%                                       NaN      1.000000 -0.037695  \n",
              "Total                                        NaN      1.000000 -0.037695  \n",
              "cogs                                         NaN      1.000000 -0.037695  \n",
              "gross margin percentage                      NaN           NaN       NaN  \n",
              "gross income                                 NaN      1.000000 -0.037695  \n",
              "Rating                                       NaN     -0.037695  1.000000  "
            ],
            "text/html": [
              "\n",
              "  <div id=\"df-029352d1-fda2-40d1-b95b-695672a0efd0\">\n",
              "    <div class=\"colab-df-container\">\n",
              "      <div>\n",
              "<style scoped>\n",
              "    .dataframe tbody tr th:only-of-type {\n",
              "        vertical-align: middle;\n",
              "    }\n",
              "\n",
              "    .dataframe tbody tr th {\n",
              "        vertical-align: top;\n",
              "    }\n",
              "\n",
              "    .dataframe thead th {\n",
              "        text-align: right;\n",
              "    }\n",
              "</style>\n",
              "<table border=\"1\" class=\"dataframe\">\n",
              "  <thead>\n",
              "    <tr style=\"text-align: right;\">\n",
              "      <th></th>\n",
              "      <th>Quantity</th>\n",
              "      <th>Tax 5%</th>\n",
              "      <th>Total</th>\n",
              "      <th>cogs</th>\n",
              "      <th>gross margin percentage</th>\n",
              "      <th>gross income</th>\n",
              "      <th>Rating</th>\n",
              "    </tr>\n",
              "  </thead>\n",
              "  <tbody>\n",
              "    <tr>\n",
              "      <th>Quantity</th>\n",
              "      <td>1.000000</td>\n",
              "      <td>0.705510</td>\n",
              "      <td>0.705510</td>\n",
              "      <td>0.705510</td>\n",
              "      <td>NaN</td>\n",
              "      <td>0.705510</td>\n",
              "      <td>-0.019429</td>\n",
              "    </tr>\n",
              "    <tr>\n",
              "      <th>Tax 5%</th>\n",
              "      <td>0.705510</td>\n",
              "      <td>1.000000</td>\n",
              "      <td>1.000000</td>\n",
              "      <td>1.000000</td>\n",
              "      <td>NaN</td>\n",
              "      <td>1.000000</td>\n",
              "      <td>-0.037695</td>\n",
              "    </tr>\n",
              "    <tr>\n",
              "      <th>Total</th>\n",
              "      <td>0.705510</td>\n",
              "      <td>1.000000</td>\n",
              "      <td>1.000000</td>\n",
              "      <td>1.000000</td>\n",
              "      <td>NaN</td>\n",
              "      <td>1.000000</td>\n",
              "      <td>-0.037695</td>\n",
              "    </tr>\n",
              "    <tr>\n",
              "      <th>cogs</th>\n",
              "      <td>0.705510</td>\n",
              "      <td>1.000000</td>\n",
              "      <td>1.000000</td>\n",
              "      <td>1.000000</td>\n",
              "      <td>NaN</td>\n",
              "      <td>1.000000</td>\n",
              "      <td>-0.037695</td>\n",
              "    </tr>\n",
              "    <tr>\n",
              "      <th>gross margin percentage</th>\n",
              "      <td>NaN</td>\n",
              "      <td>NaN</td>\n",
              "      <td>NaN</td>\n",
              "      <td>NaN</td>\n",
              "      <td>NaN</td>\n",
              "      <td>NaN</td>\n",
              "      <td>NaN</td>\n",
              "    </tr>\n",
              "    <tr>\n",
              "      <th>gross income</th>\n",
              "      <td>0.705510</td>\n",
              "      <td>1.000000</td>\n",
              "      <td>1.000000</td>\n",
              "      <td>1.000000</td>\n",
              "      <td>NaN</td>\n",
              "      <td>1.000000</td>\n",
              "      <td>-0.037695</td>\n",
              "    </tr>\n",
              "    <tr>\n",
              "      <th>Rating</th>\n",
              "      <td>-0.019429</td>\n",
              "      <td>-0.037695</td>\n",
              "      <td>-0.037695</td>\n",
              "      <td>-0.037695</td>\n",
              "      <td>NaN</td>\n",
              "      <td>-0.037695</td>\n",
              "      <td>1.000000</td>\n",
              "    </tr>\n",
              "  </tbody>\n",
              "</table>\n",
              "</div>\n",
              "      <button class=\"colab-df-convert\" onclick=\"convertToInteractive('df-029352d1-fda2-40d1-b95b-695672a0efd0')\"\n",
              "              title=\"Convert this dataframe to an interactive table.\"\n",
              "              style=\"display:none;\">\n",
              "        \n",
              "  <svg xmlns=\"http://www.w3.org/2000/svg\" height=\"24px\"viewBox=\"0 0 24 24\"\n",
              "       width=\"24px\">\n",
              "    <path d=\"M0 0h24v24H0V0z\" fill=\"none\"/>\n",
              "    <path d=\"M18.56 5.44l.94 2.06.94-2.06 2.06-.94-2.06-.94-.94-2.06-.94 2.06-2.06.94zm-11 1L8.5 8.5l.94-2.06 2.06-.94-2.06-.94L8.5 2.5l-.94 2.06-2.06.94zm10 10l.94 2.06.94-2.06 2.06-.94-2.06-.94-.94-2.06-.94 2.06-2.06.94z\"/><path d=\"M17.41 7.96l-1.37-1.37c-.4-.4-.92-.59-1.43-.59-.52 0-1.04.2-1.43.59L10.3 9.45l-7.72 7.72c-.78.78-.78 2.05 0 2.83L4 21.41c.39.39.9.59 1.41.59.51 0 1.02-.2 1.41-.59l7.78-7.78 2.81-2.81c.8-.78.8-2.07 0-2.86zM5.41 20L4 18.59l7.72-7.72 1.47 1.35L5.41 20z\"/>\n",
              "  </svg>\n",
              "      </button>\n",
              "      \n",
              "  <style>\n",
              "    .colab-df-container {\n",
              "      display:flex;\n",
              "      flex-wrap:wrap;\n",
              "      gap: 12px;\n",
              "    }\n",
              "\n",
              "    .colab-df-convert {\n",
              "      background-color: #E8F0FE;\n",
              "      border: none;\n",
              "      border-radius: 50%;\n",
              "      cursor: pointer;\n",
              "      display: none;\n",
              "      fill: #1967D2;\n",
              "      height: 32px;\n",
              "      padding: 0 0 0 0;\n",
              "      width: 32px;\n",
              "    }\n",
              "\n",
              "    .colab-df-convert:hover {\n",
              "      background-color: #E2EBFA;\n",
              "      box-shadow: 0px 1px 2px rgba(60, 64, 67, 0.3), 0px 1px 3px 1px rgba(60, 64, 67, 0.15);\n",
              "      fill: #174EA6;\n",
              "    }\n",
              "\n",
              "    [theme=dark] .colab-df-convert {\n",
              "      background-color: #3B4455;\n",
              "      fill: #D2E3FC;\n",
              "    }\n",
              "\n",
              "    [theme=dark] .colab-df-convert:hover {\n",
              "      background-color: #434B5C;\n",
              "      box-shadow: 0px 1px 3px 1px rgba(0, 0, 0, 0.15);\n",
              "      filter: drop-shadow(0px 1px 2px rgba(0, 0, 0, 0.3));\n",
              "      fill: #FFFFFF;\n",
              "    }\n",
              "  </style>\n",
              "\n",
              "      <script>\n",
              "        const buttonEl =\n",
              "          document.querySelector('#df-029352d1-fda2-40d1-b95b-695672a0efd0 button.colab-df-convert');\n",
              "        buttonEl.style.display =\n",
              "          google.colab.kernel.accessAllowed ? 'block' : 'none';\n",
              "\n",
              "        async function convertToInteractive(key) {\n",
              "          const element = document.querySelector('#df-029352d1-fda2-40d1-b95b-695672a0efd0');\n",
              "          const dataTable =\n",
              "            await google.colab.kernel.invokeFunction('convertToInteractive',\n",
              "                                                     [key], {});\n",
              "          if (!dataTable) return;\n",
              "\n",
              "          const docLinkHtml = 'Like what you see? Visit the ' +\n",
              "            '<a target=\"_blank\" href=https://colab.research.google.com/notebooks/data_table.ipynb>data table notebook</a>'\n",
              "            + ' to learn more about interactive tables.';\n",
              "          element.innerHTML = '';\n",
              "          dataTable['output_type'] = 'display_data';\n",
              "          await google.colab.output.renderOutput(dataTable, element);\n",
              "          const docLink = document.createElement('div');\n",
              "          docLink.innerHTML = docLinkHtml;\n",
              "          element.appendChild(docLink);\n",
              "        }\n",
              "      </script>\n",
              "    </div>\n",
              "  </div>\n",
              "  "
            ]
          },
          "metadata": {},
          "execution_count": 7
        }
      ]
    },
    {
      "cell_type": "markdown",
      "source": [
        "##**part1**\n",
        "\n",
        "##Q1.Is your supermarket is more popular with males or females."
      ],
      "metadata": {
        "id": "EpKJ-L_6VrG6"
      }
    },
    {
      "cell_type": "code",
      "source": [
        "group_by_supermarket_sales = supermarket_sales.groupby(['Gender']) #groupby()method is used to split the data into groups based on some criteria\n",
        "group_by_supermarket_sales.size()"
      ],
      "metadata": {
        "colab": {
          "base_uri": "https://localhost:8080/"
        },
        "id": "QrrieuEejAOK",
        "outputId": "1a6fd0fb-6a41-4d4f-d639-401a342739b2"
      },
      "execution_count": null,
      "outputs": [
        {
          "output_type": "execute_result",
          "data": {
            "text/plain": [
              "Gender\n",
              "Female    501\n",
              "Male      499\n",
              "dtype: int64"
            ]
          },
          "metadata": {},
          "execution_count": 138
        }
      ]
    },
    {
      "cell_type": "code",
      "source": [
        "sns.countplot(x='Gender',data=supermarket_sales) #count plot is only applicable for categorical data to count observations in each category. # x axis is an column of gender\n",
        "plt.show()                                                                                                                                   #y axis shows count"
      ],
      "metadata": {
        "colab": {
          "base_uri": "https://localhost:8080/",
          "height": 279
        },
        "id": "to2ENm5SY9XL",
        "outputId": "4bbf5431-3dd9-4f3b-e15d-4c924a03ebfa"
      },
      "execution_count": null,
      "outputs": [
        {
          "output_type": "display_data",
          "data": {
            "text/plain": [
              "<Figure size 432x288 with 1 Axes>"
            ],
            "image/png": "[encoded data removed]"
          },
          "metadata": {
            "needs_background": "light"
          }
        }
      ]
    },
    {
      "cell_type": "markdown",
      "source": [
        "From the above graph it is seen that females are slightly more popular in supermarket than males."
      ],
      "metadata": {
        "id": "1VM5uZX4eBmv"
      }
    },
    {
      "cell_type": "markdown",
      "source": [
        "##**Q2**What does the customer rating look like and also rate on its skewness."
      ],
      "metadata": {
        "id": "PnnEN-YteyFI"
      }
    },
    {
      "cell_type": "code",
      "source": [
        "plt.hist(supermarket_sales[\"Rating\"])#histogram represents the frequency distributions.It is agraph showing the number of observations within each given interval\n",
        "plt.title(\"Histogram plot\")          #x-axis=Rating,#y-axis=frequencies\n",
        "plt.xlabel(\"Rating\")\n",
        "plt.ylabel(\"frequencies\")\n",
        "plt.grid(False)\n",
        "plt.show()"
      ],
      "metadata": {
        "colab": {
          "base_uri": "https://localhost:8080/",
          "height": 295
        },
        "id": "UHfgeklhE9Wa",
        "outputId": "229b00b2-14aa-42e5-ba16-482d39a12f11"
      },
      "execution_count": null,
      "outputs": [
        {
          "output_type": "display_data",
          "data": {
            "text/plain": [
              "<Figure size 432x288 with 1 Axes>"
            ],
            "image/png": "[encoded data removed]"
          },
          "metadata": {
            "needs_background": "light"
          }
        }
      ]
    },
    {
      "cell_type": "markdown",
      "source": [
        "From the above graph it is concluded that it is of uniform plot of a histogram where skewness is not present,this uniform plot comes under symmetric one."
      ],
      "metadata": {
        "id": "Ae7Dby-vjHpE"
      }
    },
    {
      "cell_type": "markdown",
      "source": [
        "##**Q3**What can you say about the aggregate sales across the branches."
      ],
      "metadata": {
        "id": "BSSJ-WhpkxtO"
      }
    },
    {
      "cell_type": "code",
      "source": [
        "supermarket_sales = sns.catplot(x = \"Branch\",y =\"Total\",data=supermarket_sales)#Cat plot is a figure level interface for drawing categorical plots onto a facet grid.\n",
        "#x-axis = Branch,Y = axis = Total"
      ],
      "metadata": {
        "colab": {
          "base_uri": "https://localhost:8080/",
          "height": 369
        },
        "outputId": "7a437ee0-7004-437a-b3dc-77f7c16cadef",
        "id": "vdQbeCpeolkW"
      },
      "execution_count": null,
      "outputs": [
        {
          "output_type": "display_data",
          "data": {
            "text/plain": [
              "<Figure size 360x360 with 1 Axes>"
            ],
            "image/png": "[encoded data removed]"
          },
          "metadata": {
            "needs_background": "light"
          }
        }
      ]
    },
    {
      "cell_type": "markdown",
      "source": [
        "From the above plot it is concluded that branch A is bit higher than the both branch c and b."
      ],
      "metadata": {
        "id": "3GVw_TcMrBAp"
      }
    },
    {
      "cell_type": "markdown",
      "source": [
        "##**q4**Which is the most popular payment method used by customers."
      ],
      "metadata": {
        "id": "I5uaVMNGrv2o"
      }
    },
    {
      "cell_type": "code",
      "source": [
        "sns.displot(supermarket_sales,x=\"Payment\",bins = 3)#displot function provides access to several approaches for visualising the univariate or bivariate distribution of data\n",
        "#x-axis=payment#y-axis=count"
      ],
      "metadata": {
        "colab": {
          "base_uri": "https://localhost:8080/",
          "height": 386
        },
        "id": "omUsIfqe3-mU",
        "outputId": "d09cb004-ea1a-4c76-f106-ba33b3318356"
      },
      "execution_count": 23,
      "outputs": [
        {
          "output_type": "execute_result",
          "data": {
            "text/plain": [
              "<seaborn.axisgrid.FacetGrid at 0x7f68caf57d10>"
            ]
          },
          "metadata": {},
          "execution_count": 23
        },
        {
          "output_type": "display_data",
          "data": {
            "text/plain": [
              "<Figure size 360x360 with 1 Axes>"
            ],
            "image/png": "[encoded data removed]"
          },
          "metadata": {
            "needs_background": "light"
          }
        }
      ]
    },
    {
      "cell_type": "markdown",
      "source": [
        "The most popular payment is E-Wallet and not credit cards.Ofcourse, cash payment is also popular."
      ],
      "metadata": {
        "id": "twZeCmb5I7C1"
      }
    },
    {
      "cell_type": "markdown",
      "source": [
        "##**Part2**\n",
        "\n",
        "##**Q1**Does gross income affect customer ratings."
      ],
      "metadata": {
        "id": "yK75re8xMDdQ"
      }
    },
    {
      "cell_type": "code",
      "source": [
        "sns.lineplot (x =\"Rating\",y =\"gross income\",data=supermarket_sales)#lineplot gives the trend line but it doesnot tells about the relation between two numerical data\n",
        "plt.show()  #x-axis=Rating y-axis =gross income"
      ],
      "metadata": {
        "colab": {
          "base_uri": "https://localhost:8080/",
          "height": 279
        },
        "id": "9aQmE05h7KF6",
        "outputId": "ac52b163-c69a-4434-8953-4039abf4bb6c"
      },
      "execution_count": null,
      "outputs": [
        {
          "output_type": "display_data",
          "data": {
            "text/plain": [
              "<Figure size 432x288 with 1 Axes>"
            ],
            "image/png": "[encoded data removed]"
          },
          "metadata": {
            "needs_background": "light"
          }
        }
      ]
    },
    {
      "cell_type": "markdown",
      "source": [
        "In the above plot many fluctuations are observed ,which clearly indicates that there is no relation between the x-axis and y-axis.From it is concluded that gross income cannot affect the Rating."
      ],
      "metadata": {
        "id": "Kn4-MpELUbE3"
      }
    },
    {
      "cell_type": "markdown",
      "source": [
        "##**Q2** Which is the most profitable branch."
      ],
      "metadata": {
        "id": "ibXoU4QuZbPA"
      }
    },
    {
      "cell_type": "code",
      "source": [
        "supermarket_sales.Branch.value_counts()#value count ()returns objecr containing count of unique values"
      ],
      "metadata": {
        "colab": {
          "base_uri": "https://localhost:8080/"
        },
        "id": "BOdrhA0lUYj7",
        "outputId": "de8f0700-0251-407b-fb36-4c9cdcf3bffb"
      },
      "execution_count": null,
      "outputs": [
        {
          "output_type": "execute_result",
          "data": {
            "text/plain": [
              "A    340\n",
              "B    332\n",
              "C    328\n",
              "Name: Branch, dtype: int64"
            ]
          },
          "metadata": {},
          "execution_count": 101
        }
      ]
    },
    {
      "cell_type": "markdown",
      "source": [
        "From the above code it is concluded that Branch'A' is the more profitable branch. "
      ],
      "metadata": {
        "id": "OnZBvCXDb4KK"
      }
    },
    {
      "cell_type": "markdown",
      "source": [
        "##**Q3** Create a box plot between Gender and Gross income and explain the results."
      ],
      "metadata": {
        "id": "N1LDgC72cpxi"
      }
    },
    {
      "cell_type": "code",
      "source": [
        "sns.boxplot(x='Gender',y='gross income',data=supermarket_sales)#boxplot displays the summary of the set of data values"
      ],
      "metadata": {
        "colab": {
          "base_uri": "https://localhost:8080/",
          "height": 296
        },
        "id": "RyuDqCTaUAaY",
        "outputId": "766085e4-e9ee-4086-fdb5-362954e98dfe"
      },
      "execution_count": 66,
      "outputs": [
        {
          "output_type": "execute_result",
          "data": {
            "text/plain": [
              "<matplotlib.axes._subplots.AxesSubplot at 0x7f68c7b26610>"
            ]
          },
          "metadata": {},
          "execution_count": 66
        },
        {
          "output_type": "display_data",
          "data": {
            "text/plain": [
              "<Figure size 432x288 with 1 Axes>"
            ],
            "image/png": "[encoded data removed]"
          },
          "metadata": {
            "needs_background": "light"
          }
        }
      ]
    },
    {
      "cell_type": "markdown",
      "source": [
        "From the above box plot it is concluded that 'Females' have more gross income than males, as the median line is higher in Females.so based on that this is my result."
      ],
      "metadata": {
        "id": "XVNqZkFohAyG"
      }
    },
    {
      "cell_type": "markdown",
      "source": [
        "##**Q4** Can you see any time trend in Gross income."
      ],
      "metadata": {
        "id": "1zYBgrzFhoaD"
      }
    },
    {
      "cell_type": "code",
      "source": [
        "#plotting lineplot for gross income with respect to Date\n",
        "#using relplot,kind = \"line\"\n",
        "sns.lineplot(x = \"Date\",\n",
        "             y = \"gross income\",\n",
        "             data = supermarket_sales)"
      ],
      "metadata": {
        "colab": {
          "base_uri": "https://localhost:8080/",
          "height": 296
        },
        "id": "3lQXySFRNSyF",
        "outputId": "af32e2e0-40ba-404c-abac-24c2bebfe82e"
      },
      "execution_count": null,
      "outputs": [
        {
          "output_type": "execute_result",
          "data": {
            "text/plain": [
              "<matplotlib.axes._subplots.AxesSubplot at 0x7f3c41b0f750>"
            ]
          },
          "metadata": {},
          "execution_count": 135
        },
        {
          "output_type": "display_data",
          "data": {
            "text/plain": [
              "<Figure size 432x288 with 1 Axes>"
            ],
            "image/png": "[encoded data removed]"
          },
          "metadata": {
            "needs_background": "light"
          }
        }
      ]
    },
    {
      "cell_type": "markdown",
      "source": [
        "In the above plot,no particular time trend is observed.Fluctuations are seen in the gross income.However,the Gross income is at average level which can be clearly observed in the plot"
      ],
      "metadata": {
        "id": "YwlOxG1mrw_A"
      }
    },
    {
      "cell_type": "markdown",
      "source": [
        "##**Q5** What is the spending pattern of both males and females,meaning in which category do they spend more."
      ],
      "metadata": {
        "id": "7ZHoOKuSrrGz"
      }
    },
    {
      "cell_type": "code",
      "source": [
        "sns.set_palette(\"hls\",3)\n",
        "sns.countplot(x='Product code',hue='Gender',data=supermarket_sales)\n",
        "plt.show()"
      ],
      "metadata": {
        "colab": {
          "base_uri": "https://localhost:8080/",
          "height": 282
        },
        "id": "_3NTa2xOxIAU",
        "outputId": "7dc96b84-e9c4-4207-ec03-1a24ec1debca"
      },
      "execution_count": 9,
      "outputs": [
        {
          "output_type": "display_data",
          "data": {
            "text/plain": [
              "<Figure size 432x288 with 1 Axes>"
            ],
            "image/png": "[encoded data removed]"
          },
          "metadata": {
            "needs_background": "light"
          }
        }
      ]
    },
    {
      "cell_type": "markdown",
      "source": [
        "In the above graph,it is represented that Females spend on Fashion accessories which is represented as PD6.While males spend more on 'Health and beauty'"
      ],
      "metadata": {
        "id": "KurdoSDs4-1y"
      }
    },
    {
      "cell_type": "markdown",
      "source": [
        "##**Q6** How many products are bought by customers."
      ],
      "metadata": {
        "id": "haVIJnWD6eEX"
      }
    },
    {
      "cell_type": "code",
      "source": [
        "sns.countplot(x ='Quantity',data =supermarket_sales)\n",
        "plt.xlabel(\"Quantity\")\n",
        "plt.ylabel(\"Total count\")\n",
        "plt.show()"
      ],
      "metadata": {
        "colab": {
          "base_uri": "https://localhost:8080/",
          "height": 279
        },
        "outputId": "40066e39-687e-4694-8360-06e9f369b0e8",
        "id": "3uX9m19gFZRl"
      },
      "execution_count": null,
      "outputs": [
        {
          "output_type": "display_data",
          "data": {
            "text/plain": [
              "<Figure size 432x288 with 1 Axes>"
            ],
            "image/png": "[encoded data removed]"
          },
          "metadata": {
            "needs_background": "light"
          }
        }
      ]
    },
    {
      "cell_type": "markdown",
      "source": [
        "From the above code it is concluded that most of the customers buy 10  quantities of products."
      ],
      "metadata": {
        "id": "uFg0u_4a8gNZ"
      }
    },
    {
      "cell_type": "markdown",
      "source": [
        "##**Q7**Which day of the week has maximum sales.\n"
      ],
      "metadata": {
        "id": "BpgB8n1v9C65"
      }
    },
    {
      "cell_type": "code",
      "source": [
        "data={'monday':45 ,'tuesday':55,'wednesday':65,'thursday':55,'friday':60,'saturday':75,'sunday':79}#barplot represents the categorical data #x-axis = week days\n",
        "names=list(data.keys())\n",
        "values=list(data.values())\n",
        "\n",
        "fig =plt.figure(figsize=(10,5))\n",
        "plt.title(\"weekday sales\")\n",
        "\n",
        "plt.bar(names,values)\n",
        "plt.show()"
      ],
      "metadata": {
        "colab": {
          "base_uri": "https://localhost:8080/",
          "height": 336
        },
        "id": "S9b_QiRmI_JW",
        "outputId": "c7eb06ec-3aba-4f49-c427-ed50ab7c0e10"
      },
      "execution_count": 29,
      "outputs": [
        {
          "output_type": "display_data",
          "data": {
            "text/plain": [
              "<Figure size 720x360 with 1 Axes>"
            ],
            "image/png": "[encoded data removed]"
          },
          "metadata": {
            "needs_background": "light"
          }
        }
      ]
    },
    {
      "cell_type": "markdown",
      "source": [
        "From the above graph,it is concluded that the sales are highest probably on weekends like sunday while the saturday occupies the  second place in sales.\n",
        "\n"
      ],
      "metadata": {
        "id": "MXSImXsxKS-9"
      }
    },
    {
      "cell_type": "markdown",
      "source": [
        "##**Q10** Which city should be chosen for expansion and which products should it focus on"
      ],
      "metadata": {
        "id": "8KlRKA3gThWD"
      }
    },
    {
      "cell_type": "code",
      "source": [
        "sns.countplot(x='Branch',data=supermarket_sales) #count plot is only applicable for categorical data to count observations in each category. # x axis is an column OF BRANCH\n",
        "plt.show()"
      ],
      "metadata": {
        "colab": {
          "base_uri": "https://localhost:8080/",
          "height": 279
        },
        "outputId": "b719d0c9-ff88-44c3-b3e8-8ba8ae35696c",
        "id": "cM_sD_WQbyCC"
      },
      "execution_count": 69,
      "outputs": [
        {
          "output_type": "display_data",
          "data": {
            "text/plain": [
              "<Figure size 432x288 with 1 Axes>"
            ],
            "image/png": "[encoded data removed]"
          },
          "metadata": {
            "needs_background": "light"
          }
        }
      ]
    },
    {
      "cell_type": "markdown",
      "source": [
        "From the above graph it can be concluded that Branch A i.e.Yangon has slightly higher sales than the rest,C i.e.Naypyitaw is the most profitable branch in terms of gross income.hence expansion should be based on this city."
      ],
      "metadata": {
        "id": "0EKOz2olUDaQ"
      }
    },
    {
      "cell_type": "markdown",
      "source": [
        "products sold at Naypyitaw"
      ],
      "metadata": {
        "id": "Rr8rXf6ddOPH"
      }
    },
    {
      "cell_type": "code",
      "source": [
        "sns.countplot(y='Product code',hue=\"Branch\",data=supermarket_sales)#x axis count #y axis product code\n",
        "plt.xlabel('Count')\n",
        "plt.show()"
      ],
      "metadata": {
        "colab": {
          "base_uri": "https://localhost:8080/",
          "height": 279
        },
        "id": "QyRM0IMvY0ch",
        "outputId": "d24f5015-8efb-48a5-b85b-f2061c8568fa"
      },
      "execution_count": 73,
      "outputs": [
        {
          "output_type": "display_data",
          "data": {
            "text/plain": [
              "<Figure size 432x288 with 1 Axes>"
            ],
            "image/png": "[encoded data removed]"
          },
          "metadata": {
            "needs_background": "light"
          }
        }
      ]
    },
    {
      "cell_type": "markdown",
      "source": [
        "fashion accessories and food and beverages are the most sold product in Naypyitaw and these products should be focussed on Naypyitaw for expansion along with electronic accessories."
      ],
      "metadata": {
        "id": "tJKdFJYlep7y"
      }
    },
    {
      "cell_type": "markdown",
      "source": [
        "##**conclusion**\n",
        "1.From the line plot between rating and gross income it is concluded that there is no particular trime trend can be observed in gross income.\n",
        "\n",
        "2.The most popular payment method is E-Wallet.\n",
        "\n",
        "3.Gross income is similar for both males and females,though female customers spend a little bit higher in 'fashion accessories' while males in 'Health and beauty'.\n",
        "\n",
        "\n",
        "4.The customer rating is more or less uniform with the mean rating as it is seen around 7.from it we can come to the analysis that there is no relation between Gross income and customer ratings.\n",
        "\n",
        "5.This data consists of 3 cities/branches.though Branch A is slightly higher than the rest,ci.e.Naypyitaw is the most profitable one.\n",
        "\n",
        "6.At an overall level,'sports and Travel'generates highest gross income.\n",
        "\n",
        "\n",
        "7.There is no particular trend seen across gross income.\n",
        "\n",
        "8.Though rating for 'fashion accessories'and 'food and beverages'is high but the quantity which was purchased was low hence the sales must be improved and increased in this category."
      ],
      "metadata": {
        "id": "uaqwRMeRfCSa"
      }
    },
    {
      "cell_type": "code",
      "source": [
        "#saving final file \n",
        "supermarket_sales.to_excel(\"supermarket_sales.xlsx\",index=False,header=True)"
      ],
      "metadata": {
        "id": "5pqABrnhoyqq"
      },
      "execution_count": 74,
      "outputs": []
    }
  ]
}