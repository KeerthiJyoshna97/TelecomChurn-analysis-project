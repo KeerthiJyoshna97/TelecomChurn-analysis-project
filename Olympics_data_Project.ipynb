{
  "nbformat": 4,
  "nbformat_minor": 0,
  "metadata": {
    "colab": {
      "name": "Aluri_Keerthi_Jyoshna.Ds15_CAPSTONEPROJECT-part3.ipynb",
      "provenance": []
    },
    "kernelspec": {
      "name": "python3",
      "display_name": "Python 3"
    },
    "language_info": {
      "name": "python"
    }
  },
  "cells": [
    {
      "cell_type": "markdown",
      "source": [
        "INTRODUCTION:\n",
        "\n",
        "olympicsdata gives us an brief introduction about the olympics which had been took place at a certain period of time.various countries had participated in these olympics.The main aim of this dataset is to know how many medals that a particular country has been bagged and also to know the count of gold_medal,silver_medal,brone_medal and total_medal that a person has been awarded with."
      ],
      "metadata": {
        "id": "WNfdfYxZ3Bou"
      }
    },
    {
      "cell_type": "markdown",
      "source": [
        "DATASET EXPLANATION:\n",
        "\n",
        "The Features includes name,age of a participant who had been participated in olympics.While it also consists of country to which the participant belongs to.It also includes year,date,Sports and also the information how many gold_medals,silver_medals,brone_medals,total_medal which the participant had been bagged in the olympics."
      ],
      "metadata": {
        "id": "U7rYJ02_3DOA"
      }
    },
    {
      "cell_type": "code",
      "execution_count": 38,
      "metadata": {
        "colab": {
          "base_uri": "https://localhost:8080/"
        },
        "id": "HjvPp7d621TL",
        "outputId": "6fde8e7b-2a95-4774-ae98-be11e5ded8e3"
      },
      "outputs": [
        {
          "output_type": "stream",
          "name": "stdout",
          "text": [
            "Looking in indexes: https://pypi.org/simple, https://us-python.pkg.dev/colab-wheels/public/simple/\n",
            "Requirement already satisfied: pyspark in /usr/local/lib/python3.7/dist-packages (3.3.0)\n",
            "Requirement already satisfied: py4j==0.10.9.5 in /usr/local/lib/python3.7/dist-packages (from pyspark) (0.10.9.5)\n"
          ]
        }
      ],
      "source": [
        "pip install pyspark #Installing Pyspark"
      ]
    },
    {
      "cell_type": "code",
      "source": [
        "#Initializing PySpark\n",
        "from pyspark import SparkContext, SparkConf\n",
        "from pyspark.sql import SparkSession\n",
        "from pyspark.sql import SQLContext\n",
        "\n",
        "#Spark Config\n",
        "conf = SparkConf().setAppName(\"sample_app\")\n",
        "sc = SparkContext(conf=conf)\n",
        "spark = SparkSession.builder.appName('Test').getOrCreate()\n",
        "sqlContext = SQLContext(sc)"
      ],
      "metadata": {
        "colab": {
          "base_uri": "https://localhost:8080/"
        },
        "id": "pdEyudH_3shy",
        "outputId": "b86eb2c8-7a9d-4dce-b92b-a88e9a91e8fe"
      },
      "execution_count": 2,
      "outputs": [
        {
          "output_type": "stream",
          "name": "stderr",
          "text": [
            "/usr/local/lib/python3.7/dist-packages/pyspark/sql/context.py:114: FutureWarning: Deprecated in 3.0.0. Use SparkSession.builder.getOrCreate() instead.\n",
            "  FutureWarning,\n"
          ]
        }
      ]
    },
    {
      "cell_type": "markdown",
      "source": [
        "Write PySpark code to read the olympix_data.csv file"
      ],
      "metadata": {
        "id": "Jxa5xZB24Aum"
      }
    },
    {
      "cell_type": "code",
      "source": [
        "df = spark.read.format(\"csv\").option(\"header\",\"true\").option(\"inferSchema\",\"true\").load(\"/content/olympix_data_organized_with_header (1) (1) (1).csv\") \n",
        "df.show() \n",
        "#Reading the data set of a csv file in the form of records"
      ],
      "metadata": {
        "colab": {
          "base_uri": "https://localhost:8080/"
        },
        "id": "HsBhzn8D4B6u",
        "outputId": "984b8fea-6413-425e-add1-8c8055e15a5e"
      },
      "execution_count": 3,
      "outputs": [
        {
          "output_type": "stream",
          "name": "stdout",
          "text": [
            "+--------------------+---+-------------+----+----------+--------------------+----------+------------+-----------+-----------+\n",
            "|                name|age|      country|year|Date_Given|              sports|gold_medal|silver_medal|brone_medal|total_medal|\n",
            "+--------------------+---+-------------+----+----------+--------------------+----------+------------+-----------+-----------+\n",
            "|      Michael Phelps| 23|United States|2008| 8/24/2008|            Swimming|         8|           0|          0|          8|\n",
            "|      Michael Phelps| 19|United States|2004| 8/29/2004|            Swimming|         6|           0|          2|          8|\n",
            "|      Michael Phelps| 27|United States|2012|08-12-2012|            Swimming|         4|           2|          0|          6|\n",
            "|    Natalie Coughlin| 25|United States|2008| 8/24/2008|            Swimming|         1|           2|          3|          6|\n",
            "|       Aleksey Nemov| 24|       Russia|2000|10-01-2000|          Gymnastics|         2|           1|          3|          6|\n",
            "|       Alicia Coutts| 24|    Australia|2012|08-12-2012|            Swimming|         1|           3|          1|          5|\n",
            "|      Missy Franklin| 17|United States|2012|08-12-2012|            Swimming|         4|           0|          1|          5|\n",
            "|         Ryan Lochte| 27|United States|2012|08-12-2012|            Swimming|         2|           2|          1|          5|\n",
            "|     Allison Schmitt| 22|United States|2012|08-12-2012|            Swimming|         3|           1|          1|          5|\n",
            "|    Natalie Coughlin| 21|United States|2004| 8/29/2004|            Swimming|         2|           2|          1|          5|\n",
            "|          Ian Thorpe| 17|    Australia|2000|10-01-2000|            Swimming|         3|           2|          0|          5|\n",
            "|         Dara Torres| 33|United States|2000|10-01-2000|            Swimming|         2|           0|          3|          5|\n",
            "|       Cindy Klassen| 26|       Canada|2006| 2/26/2006|       Speed Skating|         1|           2|          2|          5|\n",
            "|       Nastia Liukin| 18|United States|2008| 8/24/2008|          Gymnastics|         1|           3|          1|          5|\n",
            "|       Marit Bjørgen| 29|       Norway|2010| 2/28/2010|Cross Country Skiing|         3|           1|          1|          5|\n",
            "|            Sun Yang| 20|        China|2012|08-12-2012|            Swimming|         2|           1|          1|          4|\n",
            "|     Kirsty Coventry| 24|     Zimbabwe|2008| 8/24/2008|            Swimming|         1|           3|          0|          4|\n",
            "|Libby Lenton-Tric...| 23|    Australia|2008| 8/24/2008|            Swimming|         2|           1|          1|          4|\n",
            "|         Ryan Lochte| 24|United States|2008| 8/24/2008|            Swimming|         2|           0|          2|          4|\n",
            "|      Inge de Bruijn| 30|  Netherlands|2004| 8/29/2004|            Swimming|         1|           1|          2|          4|\n",
            "+--------------------+---+-------------+----+----------+--------------------+----------+------------+-----------+-----------+\n",
            "only showing top 20 rows\n",
            "\n"
          ]
        }
      ]
    },
    {
      "cell_type": "markdown",
      "source": [
        "Write PySpark code to print the Olympic Sports/games in the dataset."
      ],
      "metadata": {
        "id": "1RbtRlhX4MaK"
      }
    },
    {
      "cell_type": "code",
      "source": [
        "df.select(\"sports\").show()  #the select()function allows us to select single or multiple columns in different formats\n",
        "                            #show() is used to display the contents of the dataframe in a table"
      ],
      "metadata": {
        "colab": {
          "base_uri": "https://localhost:8080/"
        },
        "id": "XP2p1yVS4Xmv",
        "outputId": "4725e91e-6dae-4ce7-e5a7-329bd4dc4a8f"
      },
      "execution_count": null,
      "outputs": [
        {
          "output_type": "stream",
          "name": "stdout",
          "text": [
            "+--------------------+\n",
            "|              sports|\n",
            "+--------------------+\n",
            "|            Swimming|\n",
            "|            Swimming|\n",
            "|            Swimming|\n",
            "|            Swimming|\n",
            "|          Gymnastics|\n",
            "|            Swimming|\n",
            "|            Swimming|\n",
            "|            Swimming|\n",
            "|            Swimming|\n",
            "|            Swimming|\n",
            "|            Swimming|\n",
            "|            Swimming|\n",
            "|       Speed Skating|\n",
            "|          Gymnastics|\n",
            "|Cross Country Skiing|\n",
            "|            Swimming|\n",
            "|            Swimming|\n",
            "|            Swimming|\n",
            "|            Swimming|\n",
            "|            Swimming|\n",
            "+--------------------+\n",
            "only showing top 20 rows\n",
            "\n"
          ]
        }
      ]
    },
    {
      "cell_type": "markdown",
      "source": [
        "From the above ,it is to be noted that the swimming is the most frequent sport in the olympics."
      ],
      "metadata": {
        "id": "lyrrzcPBqhLn"
      }
    },
    {
      "cell_type": "markdown",
      "source": [
        "Write PySpark code to plot the total number of medals in each Olympic Sport/game"
      ],
      "metadata": {
        "id": "N_-WRjfa5Jzd"
      }
    },
    {
      "cell_type": "code",
      "source": [
        "new_df = df.agg({\"total_medal\":\"count\"}).show() ##count()in pyspark is used to return the number of rows from particular coulmn in a dataframe."
      ],
      "metadata": {
        "colab": {
          "base_uri": "https://localhost:8080/"
        },
        "id": "B6kzSz035ZcF",
        "outputId": "c9cc94f8-cc81-4550-d913-6d5daa384734"
      },
      "execution_count": 4,
      "outputs": [
        {
          "output_type": "stream",
          "name": "stdout",
          "text": [
            "+------------------+\n",
            "|count(total_medal)|\n",
            "+------------------+\n",
            "|              8618|\n",
            "+------------------+\n",
            "\n"
          ]
        }
      ]
    },
    {
      "cell_type": "markdown",
      "source": [
        "The count of total_medal were 8618 for olympics."
      ],
      "metadata": {
        "id": "QBvmWeUurAl9"
      }
    },
    {
      "cell_type": "code",
      "source": [
        "res = df.groupBy(\"sports\").sum(\"total_medal\").show()  \n",
        " ##sum() in PySpark returns the total (sum) value from a particular column in the DataFrame\n",
        " ##groupBy() is used to collect the identical data into groups on the PySpark DataFrame and perform aggregate functions on the grouped data"
      ],
      "metadata": {
        "colab": {
          "base_uri": "https://localhost:8080/"
        },
        "id": "2yDOs47N5hDV",
        "outputId": "3b221be3-78c5-4655-eee1-018f955f636b"
      },
      "execution_count": 5,
      "outputs": [
        {
          "output_type": "stream",
          "name": "stdout",
          "text": [
            "+--------------------+----------------+\n",
            "|              sports|sum(total_medal)|\n",
            "+--------------------+----------------+\n",
            "|          Gymnastics|             282|\n",
            "|              Tennis|              78|\n",
            "|              Boxing|             188|\n",
            "|Short-Track Speed...|             138|\n",
            "|          Ice Hockey|             384|\n",
            "|              Rowing|             576|\n",
            "|                Judo|             224|\n",
            "|            Softball|             134|\n",
            "|             Sailing|             210|\n",
            "|            Swimming|             765|\n",
            "|       Alpine Skiing|              90|\n",
            "|          Basketball|             287|\n",
            "|            Handball|             351|\n",
            "| Rhythmic Gymnastics|              84|\n",
            "|            Biathlon|             138|\n",
            "|           Triathlon|              24|\n",
            "|           Badminton|              96|\n",
            "|           Athletics|             753|\n",
            "|      Figure Skating|              54|\n",
            "|    Beach Volleyball|              48|\n",
            "+--------------------+----------------+\n",
            "only showing top 20 rows\n",
            "\n"
          ]
        }
      ]
    },
    {
      "cell_type": "markdown",
      "source": [
        "The highest sum(total_medal) was for Swimming as well as for Athletics."
      ],
      "metadata": {
        "id": "eqo5fykCrIC8"
      }
    },
    {
      "cell_type": "code",
      "source": [
        "new_df = df.toPandas()                         #.topandas()is used to convert the pyspark dataframe to pandas dataframe\n",
        "print(new_df)"
      ],
      "metadata": {
        "colab": {
          "base_uri": "https://localhost:8080/"
        },
        "id": "4Alvun36xGMJ",
        "outputId": "87d3c5b7-8442-4a9d-da36-61557a34886c"
      },
      "execution_count": null,
      "outputs": [
        {
          "output_type": "stream",
          "name": "stdout",
          "text": [
            "                      name   age        country  year  Date_Given      sports  \\\n",
            "0           Michael Phelps  23.0  United States  2008   8/24/2008    Swimming   \n",
            "1           Michael Phelps  19.0  United States  2004   8/29/2004    Swimming   \n",
            "2           Michael Phelps  27.0  United States  2012  08-12-2012    Swimming   \n",
            "3         Natalie Coughlin  25.0  United States  2008   8/24/2008    Swimming   \n",
            "4            Aleksey Nemov  24.0         Russia  2000  10-01-2000  Gymnastics   \n",
            "...                    ...   ...            ...   ...         ...         ...   \n",
            "8613      Olena Sadovnycha  32.0        Ukraine  2000  10-01-2000     Archery   \n",
            "8614      Kateryna Serdiuk  17.0        Ukraine  2000  10-01-2000     Archery   \n",
            "8615      Wietse van Alten  21.0    Netherlands  2000  10-01-2000     Archery   \n",
            "8616  Sandra Wagner-Sachse  31.0        Germany  2000  10-01-2000     Archery   \n",
            "8617             Rod White  23.0  United States  2000  10-01-2000     Archery   \n",
            "\n",
            "      gold_medal  silver_medal  brone_medal  total_medal  \n",
            "0              8             0            0            8  \n",
            "1              6             0            2            8  \n",
            "2              4             2            0            6  \n",
            "3              1             2            3            6  \n",
            "4              2             1            3            6  \n",
            "...          ...           ...          ...          ...  \n",
            "8613           0             1            0            1  \n",
            "8614           0             1            0            1  \n",
            "8615           0             0            1            1  \n",
            "8616           0             0            1            1  \n",
            "8617           0             0            1            1  \n",
            "\n",
            "[8618 rows x 10 columns]\n"
          ]
        }
      ]
    },
    {
      "cell_type": "markdown",
      "source": [
        "From the above it is to be noted that the dataframe has been changed from pyspark to pandas dataframe ."
      ],
      "metadata": {
        "id": "KGSyt3TUo92A"
      }
    },
    {
      "cell_type": "code",
      "source": [
        "# the filereading\n",
        "import numpy as np                                \n",
        "import pandas as pd\n",
        "import seaborn as sns\n",
        "import matplotlib.pyplot as plt\n",
        "\n",
        "new_df = pd.read_csv(\"olympix_data_organized_with_header (1) (1) (1).csv\")\n",
        "print(new_df)"
      ],
      "metadata": {
        "colab": {
          "base_uri": "https://localhost:8080/"
        },
        "id": "YIWY1X7P5kLW",
        "outputId": "5fd7160a-b754-43d9-a440-c7460fdeddb5"
      },
      "execution_count": 28,
      "outputs": [
        {
          "output_type": "stream",
          "name": "stdout",
          "text": [
            "                      name   age        country  year  Date_Given      sports  \\\n",
            "0           Michael Phelps  23.0  United States  2008   8/24/2008    Swimming   \n",
            "1           Michael Phelps  19.0  United States  2004   8/29/2004    Swimming   \n",
            "2           Michael Phelps  27.0  United States  2012  08-12-2012    Swimming   \n",
            "3         Natalie Coughlin  25.0  United States  2008   8/24/2008    Swimming   \n",
            "4            Aleksey Nemov  24.0         Russia  2000  10-01-2000  Gymnastics   \n",
            "...                    ...   ...            ...   ...         ...         ...   \n",
            "8613      Olena Sadovnycha  32.0        Ukraine  2000  10-01-2000     Archery   \n",
            "8614      Kateryna Serdiuk  17.0        Ukraine  2000  10-01-2000     Archery   \n",
            "8615      Wietse van Alten  21.0    Netherlands  2000  10-01-2000     Archery   \n",
            "8616  Sandra Wagner-Sachse  31.0        Germany  2000  10-01-2000     Archery   \n",
            "8617             Rod White  23.0  United States  2000  10-01-2000     Archery   \n",
            "\n",
            "      gold_medal  silver_medal  brone_medal  total_medal  \n",
            "0              8             0            0            8  \n",
            "1              6             0            2            8  \n",
            "2              4             2            0            6  \n",
            "3              1             2            3            6  \n",
            "4              2             1            3            6  \n",
            "...          ...           ...          ...          ...  \n",
            "8613           0             1            0            1  \n",
            "8614           0             1            0            1  \n",
            "8615           0             0            1            1  \n",
            "8616           0             0            1            1  \n",
            "8617           0             0            1            1  \n",
            "\n",
            "[8618 rows x 10 columns]\n"
          ]
        }
      ]
    },
    {
      "cell_type": "code",
      "source": [
        "plt.figure(figsize=(60,10))\n",
        "sns.countplot(x='sports',data=df,color='cyan') #countplot is applicable only for categorical data to count observations in each category.\n",
        "plt.title('Count plot-sports')                            #x-axis shows about the sports\n",
        "plt.xlabel('sports')                           #y-axis shows about the sum(total_medal)\n",
        "plt.ylabel('sum(total_medal)')                           \n",
        "plt.show()"
      ],
      "metadata": {
        "colab": {
          "base_uri": "https://localhost:8080/",
          "height": 200
        },
        "id": "309G_C97AR6-",
        "outputId": "232bdb52-6366-48c1-f868-f254f5ca5177"
      },
      "execution_count": 34,
      "outputs": [
        {
          "output_type": "display_data",
          "data": {
            "text/plain": [
              "<Figure size 4320x720 with 1 Axes>"
            ],
            "image/png": "[encoded data removed]"
          },
          "metadata": {
            "needs_background": "light"
          }
        }
      ]
    },
    {
      "cell_type": "markdown",
      "source": [
        "From the above graph it is to be noted that the sum(total_medal) maximum is for Athletics and swimming."
      ],
      "metadata": {
        "id": "e4TdO_hGom5D"
      }
    },
    {
      "cell_type": "markdown",
      "source": [
        "sort the result based on the total no.of medals."
      ],
      "metadata": {
        "id": "gloDLEVNaOUy"
      }
    },
    {
      "cell_type": "code",
      "source": [
        "import pyspark.sql.functions as f\n",
        "df = spark.read.format(\"csv\").option(\"header\", \"true\").option(\"inferSchema\",\"true\").load(\"/content/olympix_data_organized_with_header (1) (1) (1).csv\")  \n",
        "df.show()"
      ],
      "metadata": {
        "id": "KZiG4hBmEZKq",
        "colab": {
          "base_uri": "https://localhost:8080/"
        },
        "outputId": "f9b6ca8d-cccc-4377-d0d2-2f2baba7fd31"
      },
      "execution_count": 14,
      "outputs": [
        {
          "output_type": "stream",
          "name": "stdout",
          "text": [
            "+--------------------+---+-------------+----+----------+--------------------+----------+------------+-----------+-----------+\n",
            "|                name|age|      country|year|Date_Given|              sports|gold_medal|silver_medal|brone_medal|total_medal|\n",
            "+--------------------+---+-------------+----+----------+--------------------+----------+------------+-----------+-----------+\n",
            "|      Michael Phelps| 23|United States|2008| 8/24/2008|            Swimming|         8|           0|          0|          8|\n",
            "|      Michael Phelps| 19|United States|2004| 8/29/2004|            Swimming|         6|           0|          2|          8|\n",
            "|      Michael Phelps| 27|United States|2012|08-12-2012|            Swimming|         4|           2|          0|          6|\n",
            "|    Natalie Coughlin| 25|United States|2008| 8/24/2008|            Swimming|         1|           2|          3|          6|\n",
            "|       Aleksey Nemov| 24|       Russia|2000|10-01-2000|          Gymnastics|         2|           1|          3|          6|\n",
            "|       Alicia Coutts| 24|    Australia|2012|08-12-2012|            Swimming|         1|           3|          1|          5|\n",
            "|      Missy Franklin| 17|United States|2012|08-12-2012|            Swimming|         4|           0|          1|          5|\n",
            "|         Ryan Lochte| 27|United States|2012|08-12-2012|            Swimming|         2|           2|          1|          5|\n",
            "|     Allison Schmitt| 22|United States|2012|08-12-2012|            Swimming|         3|           1|          1|          5|\n",
            "|    Natalie Coughlin| 21|United States|2004| 8/29/2004|            Swimming|         2|           2|          1|          5|\n",
            "|          Ian Thorpe| 17|    Australia|2000|10-01-2000|            Swimming|         3|           2|          0|          5|\n",
            "|         Dara Torres| 33|United States|2000|10-01-2000|            Swimming|         2|           0|          3|          5|\n",
            "|       Cindy Klassen| 26|       Canada|2006| 2/26/2006|       Speed Skating|         1|           2|          2|          5|\n",
            "|       Nastia Liukin| 18|United States|2008| 8/24/2008|          Gymnastics|         1|           3|          1|          5|\n",
            "|       Marit Bjørgen| 29|       Norway|2010| 2/28/2010|Cross Country Skiing|         3|           1|          1|          5|\n",
            "|            Sun Yang| 20|        China|2012|08-12-2012|            Swimming|         2|           1|          1|          4|\n",
            "|     Kirsty Coventry| 24|     Zimbabwe|2008| 8/24/2008|            Swimming|         1|           3|          0|          4|\n",
            "|Libby Lenton-Tric...| 23|    Australia|2008| 8/24/2008|            Swimming|         2|           1|          1|          4|\n",
            "|         Ryan Lochte| 24|United States|2008| 8/24/2008|            Swimming|         2|           0|          2|          4|\n",
            "|      Inge de Bruijn| 30|  Netherlands|2004| 8/29/2004|            Swimming|         1|           1|          2|          4|\n",
            "+--------------------+---+-------------+----+----------+--------------------+----------+------------+-----------+-----------+\n",
            "only showing top 20 rows\n",
            "\n"
          ]
        }
      ]
    },
    {
      "cell_type": "code",
      "source": [
        "new_df=df.orderBy(f.desc(\"total_medal\")) ##PySpark orderby is a spark sorting function used to sort the data frame / RDD in a PySpark Framework. It is used to sort one more column in a PySpark Data Frame. The Desc method is used to order the elements in descending order.\n",
        "new_df.show()"
      ],
      "metadata": {
        "colab": {
          "base_uri": "https://localhost:8080/"
        },
        "outputId": "b9f57044-12e0-42e1-8b1c-3ea82275e3af",
        "id": "xfTGUvxz4F3p"
      },
      "execution_count": 16,
      "outputs": [
        {
          "output_type": "stream",
          "name": "stdout",
          "text": [
            "+--------------------+---+-------------+----+----------+--------------------+----------+------------+-----------+-----------+\n",
            "|                name|age|      country|year|Date_Given|              sports|gold_medal|silver_medal|brone_medal|total_medal|\n",
            "+--------------------+---+-------------+----+----------+--------------------+----------+------------+-----------+-----------+\n",
            "|      Michael Phelps| 23|United States|2008| 8/24/2008|            Swimming|         8|           0|          0|          8|\n",
            "|      Michael Phelps| 19|United States|2004| 8/29/2004|            Swimming|         6|           0|          2|          8|\n",
            "|      Michael Phelps| 27|United States|2012|08-12-2012|            Swimming|         4|           2|          0|          6|\n",
            "|    Natalie Coughlin| 25|United States|2008| 8/24/2008|            Swimming|         1|           2|          3|          6|\n",
            "|       Aleksey Nemov| 24|       Russia|2000|10-01-2000|          Gymnastics|         2|           1|          3|          6|\n",
            "|      Missy Franklin| 17|United States|2012|08-12-2012|            Swimming|         4|           0|          1|          5|\n",
            "|         Dara Torres| 33|United States|2000|10-01-2000|            Swimming|         2|           0|          3|          5|\n",
            "|       Nastia Liukin| 18|United States|2008| 8/24/2008|          Gymnastics|         1|           3|          1|          5|\n",
            "|         Ryan Lochte| 27|United States|2012|08-12-2012|            Swimming|         2|           2|          1|          5|\n",
            "|          Ian Thorpe| 17|    Australia|2000|10-01-2000|            Swimming|         3|           2|          0|          5|\n",
            "|       Cindy Klassen| 26|       Canada|2006| 2/26/2006|       Speed Skating|         1|           2|          2|          5|\n",
            "|       Marit Bjørgen| 29|       Norway|2010| 2/28/2010|Cross Country Skiing|         3|           1|          1|          5|\n",
            "|     Allison Schmitt| 22|United States|2012|08-12-2012|            Swimming|         3|           1|          1|          5|\n",
            "|       Alicia Coutts| 24|    Australia|2012|08-12-2012|            Swimming|         1|           3|          1|          5|\n",
            "|    Natalie Coughlin| 21|United States|2004| 8/29/2004|            Swimming|         2|           2|          1|          5|\n",
            "|            Sun Yang| 20|        China|2012|08-12-2012|            Swimming|         2|           1|          1|          4|\n",
            "|     Kirsty Coventry| 24|     Zimbabwe|2008| 8/24/2008|            Swimming|         1|           3|          0|          4|\n",
            "|Libby Lenton-Tric...| 23|    Australia|2008| 8/24/2008|            Swimming|         2|           1|          1|          4|\n",
            "|      Inge de Bruijn| 30|  Netherlands|2004| 8/29/2004|            Swimming|         1|           1|          2|          4|\n",
            "|         Ryan Lochte| 24|United States|2008| 8/24/2008|            Swimming|         2|           0|          2|          4|\n",
            "+--------------------+---+-------------+----+----------+--------------------+----------+------------+-----------+-----------+\n",
            "only showing top 20 rows\n",
            "\n"
          ]
        }
      ]
    },
    {
      "cell_type": "markdown",
      "source": [
        "Find the total no.of medals won by each country in swimming."
      ],
      "metadata": {
        "id": "GSBfRd2paF1b"
      }
    },
    {
      "cell_type": "code",
      "source": [
        "df.filter(df.sports==\"Swimming\").groupBy(\"country\").sum(\"total_medal\").show() \n",
        "#PySpark filter() function is used to filter the rows from RDD/DataFrame based on the given condition \n",
        "##sum() in PySpark returns the total (sum) value from a particular column in the DataFrame\n",
        " ##groupBy() is used to collect the identical data into groups on the PySpark DataFrame and perform aggregate functions on the grouped data"
      ],
      "metadata": {
        "id": "Mn4hHtWBEiFs",
        "colab": {
          "base_uri": "https://localhost:8080/"
        },
        "outputId": "423a89e1-e7bf-4b26-e279-77f4a098cb88"
      },
      "execution_count": 17,
      "outputs": [
        {
          "output_type": "stream",
          "name": "stdout",
          "text": [
            "+-------------+----------------+\n",
            "|      country|sum(total_medal)|\n",
            "+-------------+----------------+\n",
            "|       Russia|              20|\n",
            "|       Sweden|               9|\n",
            "|      Germany|              32|\n",
            "|       France|              39|\n",
            "|     Slovakia|               2|\n",
            "|    Argentina|               1|\n",
            "|Great Britain|              11|\n",
            "|United States|             267|\n",
            "|        China|              35|\n",
            "|      Belarus|               2|\n",
            "|      Croatia|               1|\n",
            "|        Italy|              16|\n",
            "|    Lithuania|               1|\n",
            "|       Norway|               2|\n",
            "|        Spain|               3|\n",
            "|      Denmark|               1|\n",
            "|      Ukraine|               7|\n",
            "|  South Korea|               4|\n",
            "|     Zimbabwe|               7|\n",
            "|      Tunisia|               3|\n",
            "+-------------+----------------+\n",
            "only showing top 20 rows\n",
            "\n"
          ]
        }
      ]
    },
    {
      "cell_type": "markdown",
      "source": [
        "The highest sum(total_medal)is for the country United States in the category of swimming."
      ],
      "metadata": {
        "id": "h0-LQvSKrn6L"
      }
    },
    {
      "cell_type": "markdown",
      "source": [
        "Find the total number of medals won by each country in skeleton"
      ],
      "metadata": {
        "id": "q-Vb7LZUZ8t-"
      }
    },
    {
      "cell_type": "code",
      "source": [
        "df.filter(df.sports==\"Skeleton\").groupBy(\"country\").sum(\"total_medal\").show()\n",
        "##PySpark filter() function is used to filter the rows from RDD/DataFrame based on the given condition \n",
        "##sum() in PySpark returns the total (sum) value from a particular column in the DataFrame\n",
        " ##groupBy() is used to collect the identical data into groups on the PySpark DataFrame and perform aggregate functions on the grouped data"
      ],
      "metadata": {
        "id": "UCCv6mqgEmhh",
        "colab": {
          "base_uri": "https://localhost:8080/"
        },
        "outputId": "b3e6f5d5-db66-4557-c6d7-e510ca1d02f4"
      },
      "execution_count": 18,
      "outputs": [
        {
          "output_type": "stream",
          "name": "stdout",
          "text": [
            "+-------------+----------------+\n",
            "|      country|sum(total_medal)|\n",
            "+-------------+----------------+\n",
            "|       Russia|               1|\n",
            "|      Germany|               2|\n",
            "|Great Britain|               3|\n",
            "|United States|               3|\n",
            "|  Switzerland|               3|\n",
            "|       Latvia|               1|\n",
            "|       Canada|               4|\n",
            "|      Austria|               1|\n",
            "+-------------+----------------+\n",
            "\n"
          ]
        }
      ]
    },
    {
      "cell_type": "markdown",
      "source": [
        "In the category of sports ,in the skeleton the highest no.of sum(total_medal) is for canada."
      ],
      "metadata": {
        "id": "MPmZPBIpr3uL"
      }
    },
    {
      "cell_type": "markdown",
      "source": [
        "Find the no.of medals that the U.S.won yearly"
      ],
      "metadata": {
        "id": "50EOl9WqZ2Gm"
      }
    },
    {
      "cell_type": "code",
      "source": [
        "df.filter(df.country==\"United States\").groupBy(\"year\").sum(\"total_medal\").show()\n",
        "##sum() in PySpark returns the total (sum) value from a particular column in the DataFrame\n",
        " ##groupBy() is used to collect the identical data into groups on the PySpark DataFrame and perform aggregate functions on the grouped data"
      ],
      "metadata": {
        "id": "wFjV5jeyFGT_",
        "colab": {
          "base_uri": "https://localhost:8080/"
        },
        "outputId": "08bd8096-a0b7-4e15-ba66-52dcad55296d"
      },
      "execution_count": 19,
      "outputs": [
        {
          "output_type": "stream",
          "name": "stdout",
          "text": [
            "+----+----------------+\n",
            "|year|sum(total_medal)|\n",
            "+----+----------------+\n",
            "|2006|              52|\n",
            "|2004|             265|\n",
            "|2012|             254|\n",
            "|2000|             243|\n",
            "|2010|              97|\n",
            "|2008|             317|\n",
            "|2002|              84|\n",
            "+----+----------------+\n",
            "\n"
          ]
        }
      ]
    },
    {
      "cell_type": "markdown",
      "source": [
        "In the year 2008 the United States had bagged maximum of medals."
      ],
      "metadata": {
        "id": "8TBn4z9ssQhq"
      }
    },
    {
      "cell_type": "markdown",
      "source": [
        "Find the total number of medals won by each country"
      ],
      "metadata": {
        "id": "6wXF59GSZtbw"
      }
    },
    {
      "cell_type": "code",
      "source": [
        "df.groupBy(\"country\").sum(\"total_medal\").show() ##sum() in PySpark returns the total (sum) value from a particular column in the DataFrame\n",
        " ##groupBy() is used to collect the identical data into groups on the PySpark DataFrame and perform aggregate functions on the grouped data"
      ],
      "metadata": {
        "id": "Y282ua30FHqW",
        "colab": {
          "base_uri": "https://localhost:8080/"
        },
        "outputId": "4121fd36-f458-456d-da18-6a541209c9ba"
      },
      "execution_count": 20,
      "outputs": [
        {
          "output_type": "stream",
          "name": "stdout",
          "text": [
            "+--------------+----------------+\n",
            "|       country|sum(total_medal)|\n",
            "+--------------+----------------+\n",
            "|        Russia|             768|\n",
            "|      Paraguay|              17|\n",
            "|Chinese Taipei|              20|\n",
            "|        Sweden|             181|\n",
            "|       Eritrea|               1|\n",
            "|     Singapore|               7|\n",
            "|      Malaysia|               3|\n",
            "|        Turkey|              28|\n",
            "|       Germany|             629|\n",
            "|   Afghanistan|               2|\n",
            "|         Sudan|               1|\n",
            "|        France|             318|\n",
            "|        Greece|              59|\n",
            "|     Sri Lanka|               1|\n",
            "|       Algeria|               8|\n",
            "|          Togo|               1|\n",
            "|      Slovakia|              35|\n",
            "|     Argentina|             141|\n",
            "|       Belgium|              18|\n",
            "| Great Britain|             322|\n",
            "+--------------+----------------+\n",
            "only showing top 20 rows\n",
            "\n"
          ]
        }
      ]
    },
    {
      "cell_type": "markdown",
      "source": [
        "who was the oldest athelete in the olympics"
      ],
      "metadata": {
        "id": "YWbUwx7hZgjt"
      }
    },
    {
      "cell_type": "code",
      "source": [
        "import pyspark.sql.functions as f\n",
        "df = spark.read.format(\"csv\").option(\"header\", \"true\").option(\"inferSchema\",\"true\").load(\"/content/olympix_data_organized_with_header (1) (1) (1).csv\")  \n",
        "df.show()"
      ],
      "metadata": {
        "id": "3lpsvhq1FUrK",
        "colab": {
          "base_uri": "https://localhost:8080/"
        },
        "outputId": "1842d685-7329-4dd8-9df8-0fe27f3bf395"
      },
      "execution_count": 21,
      "outputs": [
        {
          "output_type": "stream",
          "name": "stdout",
          "text": [
            "+--------------------+---+-------------+----+----------+--------------------+----------+------------+-----------+-----------+\n",
            "|                name|age|      country|year|Date_Given|              sports|gold_medal|silver_medal|brone_medal|total_medal|\n",
            "+--------------------+---+-------------+----+----------+--------------------+----------+------------+-----------+-----------+\n",
            "|      Michael Phelps| 23|United States|2008| 8/24/2008|            Swimming|         8|           0|          0|          8|\n",
            "|      Michael Phelps| 19|United States|2004| 8/29/2004|            Swimming|         6|           0|          2|          8|\n",
            "|      Michael Phelps| 27|United States|2012|08-12-2012|            Swimming|         4|           2|          0|          6|\n",
            "|    Natalie Coughlin| 25|United States|2008| 8/24/2008|            Swimming|         1|           2|          3|          6|\n",
            "|       Aleksey Nemov| 24|       Russia|2000|10-01-2000|          Gymnastics|         2|           1|          3|          6|\n",
            "|       Alicia Coutts| 24|    Australia|2012|08-12-2012|            Swimming|         1|           3|          1|          5|\n",
            "|      Missy Franklin| 17|United States|2012|08-12-2012|            Swimming|         4|           0|          1|          5|\n",
            "|         Ryan Lochte| 27|United States|2012|08-12-2012|            Swimming|         2|           2|          1|          5|\n",
            "|     Allison Schmitt| 22|United States|2012|08-12-2012|            Swimming|         3|           1|          1|          5|\n",
            "|    Natalie Coughlin| 21|United States|2004| 8/29/2004|            Swimming|         2|           2|          1|          5|\n",
            "|          Ian Thorpe| 17|    Australia|2000|10-01-2000|            Swimming|         3|           2|          0|          5|\n",
            "|         Dara Torres| 33|United States|2000|10-01-2000|            Swimming|         2|           0|          3|          5|\n",
            "|       Cindy Klassen| 26|       Canada|2006| 2/26/2006|       Speed Skating|         1|           2|          2|          5|\n",
            "|       Nastia Liukin| 18|United States|2008| 8/24/2008|          Gymnastics|         1|           3|          1|          5|\n",
            "|       Marit Bjørgen| 29|       Norway|2010| 2/28/2010|Cross Country Skiing|         3|           1|          1|          5|\n",
            "|            Sun Yang| 20|        China|2012|08-12-2012|            Swimming|         2|           1|          1|          4|\n",
            "|     Kirsty Coventry| 24|     Zimbabwe|2008| 8/24/2008|            Swimming|         1|           3|          0|          4|\n",
            "|Libby Lenton-Tric...| 23|    Australia|2008| 8/24/2008|            Swimming|         2|           1|          1|          4|\n",
            "|         Ryan Lochte| 24|United States|2008| 8/24/2008|            Swimming|         2|           0|          2|          4|\n",
            "|      Inge de Bruijn| 30|  Netherlands|2004| 8/29/2004|            Swimming|         1|           1|          2|          4|\n",
            "+--------------------+---+-------------+----+----------+--------------------+----------+------------+-----------+-----------+\n",
            "only showing top 20 rows\n",
            "\n"
          ]
        }
      ]
    },
    {
      "cell_type": "code",
      "source": [
        "new_df=df.orderBy(f.desc(\"age\")).select(\"name\",\"age\")  ##PySpark orderby is a spark sorting function used to sort the data frame / RDD in a PySpark Framework. It is used to sort one more column in a PySpark Data Frame. The Desc method is used to order the elements in descending order.\n",
        "new_df.show()"
      ],
      "metadata": {
        "id": "LfYT0Cw0FZE8",
        "colab": {
          "base_uri": "https://localhost:8080/"
        },
        "outputId": "59dbb72f-10e5-4820-8858-d71243113c0c"
      },
      "execution_count": 22,
      "outputs": [
        {
          "output_type": "stream",
          "name": "stdout",
          "text": [
            "+--------------------+---+\n",
            "|                name|age|\n",
            "+--------------------+---+\n",
            "|          Ian Millar| 61|\n",
            "|           Mark Todd| 56|\n",
            "|            Mac Cone| 55|\n",
            "|        Nick Skelton| 54|\n",
            "|       Peter Charles| 52|\n",
            "|Lesley Thompson-W...| 52|\n",
            "|   Mary Thomson-King| 51|\n",
            "|       Ilario Di Buò| 51|\n",
            "|       Peter Thomsen| 51|\n",
            "|    Andrew Nicholson| 50|\n",
            "|        Jean Teulère| 50|\n",
            "|     Rajmond Debevec| 49|\n",
            "|        Will Simpson| 49|\n",
            "|         Russ Howard| 49|\n",
            "|     Debbie McDonald| 49|\n",
            "|        Robert Dover| 48|\n",
            "|       Kevin Burnham| 47|\n",
            "|     Harald Stenvaag| 47|\n",
            "|       Peter Thomsen| 47|\n",
            "|   Mary Thomson-King| 47|\n",
            "+--------------------+---+\n",
            "only showing top 20 rows\n",
            "\n"
          ]
        }
      ]
    },
    {
      "cell_type": "markdown",
      "source": [
        "The oldest athelete is Ian Millar "
      ],
      "metadata": {
        "id": "QdfaZcz2sdi2"
      }
    },
    {
      "cell_type": "markdown",
      "source": [
        "which country was he/she from"
      ],
      "metadata": {
        "id": "OoRAu2WqZRfC"
      }
    },
    {
      "cell_type": "code",
      "source": [
        "new_df=df.orderBy(f.desc(\"age\")).select(\"name\",\"age\",\"country\")  ##PySpark orderby is a spark sorting function used to sort the data frame / RDD in a PySpark Framework. It is used to sort one more column in a PySpark Data Frame. The Desc method is used to order the elements in descending order.\n",
        "new_df.show()"
      ],
      "metadata": {
        "id": "u4nepaA-Fdmx",
        "colab": {
          "base_uri": "https://localhost:8080/"
        },
        "outputId": "f33c3563-6432-4100-ac09-3d0b6d0b954b"
      },
      "execution_count": 23,
      "outputs": [
        {
          "output_type": "stream",
          "name": "stdout",
          "text": [
            "+--------------------+---+-------------+\n",
            "|                name|age|      country|\n",
            "+--------------------+---+-------------+\n",
            "|          Ian Millar| 61|       Canada|\n",
            "|           Mark Todd| 56|  New Zealand|\n",
            "|            Mac Cone| 55|       Canada|\n",
            "|        Nick Skelton| 54|Great Britain|\n",
            "|       Peter Charles| 52|Great Britain|\n",
            "|Lesley Thompson-W...| 52|       Canada|\n",
            "|   Mary Thomson-King| 51|Great Britain|\n",
            "|       Ilario Di Buò| 51|        Italy|\n",
            "|       Peter Thomsen| 51|      Germany|\n",
            "|    Andrew Nicholson| 50|  New Zealand|\n",
            "|        Jean Teulère| 50|       France|\n",
            "|     Rajmond Debevec| 49|     Slovenia|\n",
            "|        Will Simpson| 49|United States|\n",
            "|         Russ Howard| 49|       Canada|\n",
            "|     Debbie McDonald| 49|United States|\n",
            "|        Robert Dover| 48|United States|\n",
            "|       Kevin Burnham| 47|United States|\n",
            "|     Harald Stenvaag| 47|       Norway|\n",
            "|       Peter Thomsen| 47|      Germany|\n",
            "|   Mary Thomson-King| 47|Great Britain|\n",
            "+--------------------+---+-------------+\n",
            "only showing top 20 rows\n",
            "\n"
          ]
        }
      ]
    },
    {
      "cell_type": "markdown",
      "source": [
        "The oldest athlete is from Canada."
      ],
      "metadata": {
        "id": "vJBUaIsasn3x"
      }
    },
    {
      "cell_type": "markdown",
      "source": [
        "conclusion:\n",
        "=>The  maximum sum of total_medal has been bagged from the sport Athletics as well as swimming.\n",
        "\n",
        "=>The oldest athlete in the olympics is Ian Millar from Canada.\n",
        "\n",
        "\n",
        "=>The maximum medals bagged by United States was 317 in the year 2008.\n",
        "\n",
        "=>The count of total_medal were 8618 for olympics.\n",
        "\n",
        "=>The highest sum(total_medal)is for the country United States in the category of swimming.\n",
        "\n",
        "=>In the category of sports ,in the skeleton the highest no.of sum(total_medal) is for canada.\n"
      ],
      "metadata": {
        "id": "sQDsyTpopUSt"
      }
    }
  ]
}