{
  "cells": [
    {
      "cell_type": "markdown",
      "metadata": {
        "id": "bdDaNd5__t7x"
      },
      "source": [
        "**INTRODUCTION**: Telco_customer_churn data gives us a brief idea about the customer churn rate in the Telecommunications industry across the world.Now a days Telecommunications plays an prominent role in our day to day life.The main aim of this dataset is to predict the customer churn data that is the number of customers who left the company this quarter and the number of customers who remained in the company and to suggest the solutions to prevent the considerable churns.\n"
      ]
    },
    {
      "cell_type": "markdown",
      "metadata": {
        "id": "7gfIYiseAeCo"
      },
      "source": [
        "**DATASET EXPLANATION**:This dataset consists of information about the customer churn data which is mentioned as churn label and churn value in the dataset as well as about the paperless billing which is chosen by the customers,monthly charges and total charges of the customers,tech support which indicates whether the customer is subscribed to the additional technical support from the company or not and also about the mode of payment which is opted by the  customers,about the churn score,CLTV and the churn reason-the reason for which the customers left the company."
      ]
    },
    {
      "cell_type": "code",
      "execution_count": 165,
      "metadata": {
        "colab": {
          "base_uri": "https://localhost:8080/",
          "height": 73,
          "resources": {
            "http://localhost:8080/nbextensions/google.colab/files.js": {
              "data": "Ly8gQ29weXJpZ2h0IDIwMTcgR29vZ2xlIExMQwovLwovLyBMaWNlbnNlZCB1bmRlciB0aGUgQXBhY2hlIExpY2Vuc2UsIFZlcnNpb24gMi4wICh0aGUgIkxpY2Vuc2UiKTsKLy8geW91IG1heSBub3QgdXNlIHRoaXMgZmlsZSBleGNlcHQgaW4gY29tcGxpYW5jZSB3aXRoIHRoZSBMaWNlbnNlLgovLyBZb3UgbWF5IG9idGFpbiBhIGNvcHkgb2YgdGhlIExpY2Vuc2UgYXQKLy8KLy8gICAgICBodHRwOi8vd3d3LmFwYWNoZS5vcmcvbGljZW5zZXMvTElDRU5TRS0yLjAKLy8KLy8gVW5sZXNzIHJlcXVpcmVkIGJ5IGFwcGxpY2FibGUgbGF3IG9yIGFncmVlZCB0byBpbiB3cml0aW5nLCBzb2Z0d2FyZQovLyBkaXN0cmlidXRlZCB1bmRlciB0aGUgTGljZW5zZSBpcyBkaXN0cmlidXRlZCBvbiBhbiAiQVMgSVMiIEJBU0lTLAovLyBXSVRIT1VUIFdBUlJBTlRJRVMgT1IgQ09ORElUSU9OUyBPRiBBTlkgS0lORCwgZWl0aGVyIGV4cHJlc3Mgb3IgaW1wbGllZC4KLy8gU2VlIHRoZSBMaWNlbnNlIGZvciB0aGUgc3BlY2lmaWMgbGFuZ3VhZ2UgZ292ZXJuaW5nIHBlcm1pc3Npb25zIGFuZAovLyBsaW1pdGF0aW9ucyB1bmRlciB0aGUgTGljZW5zZS4KCi8qKgogKiBAZmlsZW92ZXJ2aWV3IEhlbHBlcnMgZm9yIGdvb2dsZS5jb2xhYiBQeXRob24gbW9kdWxlLgogKi8KKGZ1bmN0aW9uKHNjb3BlKSB7CmZ1bmN0aW9uIHNwYW4odGV4dCwgc3R5bGVBdHRyaWJ1dGVzID0ge30pIHsKICBjb25zdCBlbGVtZW50ID0gZG9jdW1lbnQuY3JlYXRlRWxlbWVudCgnc3BhbicpOwogIGVsZW1lbnQudGV4dENvbnRlbnQgPSB0ZXh0OwogIGZvciAoY29uc3Qga2V5IG9mIE9iamVjdC5rZXlzKHN0eWxlQXR0cmlidXRlcykpIHsKICAgIGVsZW1lbnQuc3R5bGVba2V5XSA9IHN0eWxlQXR0cmlidXRlc1trZXldOwogIH0KICByZXR1cm4gZWxlbWVudDsKfQoKLy8gTWF4IG51bWJlciBvZiBieXRlcyB3aGljaCB3aWxsIGJlIHVwbG9hZGVkIGF0IGEgdGltZS4KY29uc3QgTUFYX1BBWUxPQURfU0laRSA9IDEwMCAqIDEwMjQ7CgpmdW5jdGlvbiBfdXBsb2FkRmlsZXMoaW5wdXRJZCwgb3V0cHV0SWQpIHsKICBjb25zdCBzdGVwcyA9IHVwbG9hZEZpbGVzU3RlcChpbnB1dElkLCBvdXRwdXRJZCk7CiAgY29uc3Qgb3V0cHV0RWxlbWVudCA9IGRvY3VtZW50LmdldEVsZW1lbnRCeUlkKG91dHB1dElkKTsKICAvLyBDYWNoZSBzdGVwcyBvbiB0aGUgb3V0cHV0RWxlbWVudCB0byBtYWtlIGl0IGF2YWlsYWJsZSBmb3IgdGhlIG5leHQgY2FsbAogIC8vIHRvIHVwbG9hZEZpbGVzQ29udGludWUgZnJvbSBQeXRob24uCiAgb3V0cHV0RWxlbWVudC5zdGVwcyA9IHN0ZXBzOwoKICByZXR1cm4gX3VwbG9hZEZpbGVzQ29udGludWUob3V0cHV0SWQpOwp9CgovLyBUaGlzIGlzIHJvdWdobHkgYW4gYXN5bmMgZ2VuZXJhdG9yIChub3Qgc3VwcG9ydGVkIGluIHRoZSBicm93c2VyIHlldCksCi8vIHdoZXJlIHRoZXJlIGFyZSBtdWx0aXBsZSBhc3luY2hyb25vdXMgc3RlcHMgYW5kIHRoZSBQeXRob24gc2lkZSBpcyBnb2luZwovLyB0byBwb2xsIGZvciBjb21wbGV0aW9uIG9mIGVhY2ggc3RlcC4KLy8gVGhpcyB1c2VzIGEgUHJvbWlzZSB0byBibG9jayB0aGUgcHl0aG9uIHNpZGUgb24gY29tcGxldGlvbiBvZiBlYWNoIHN0ZXAsCi8vIHRoZW4gcGFzc2VzIHRoZSByZXN1bHQgb2YgdGhlIHByZXZpb3VzIHN0ZXAgYXMgdGhlIGlucHV0IHRvIHRoZSBuZXh0IHN0ZXAuCmZ1bmN0aW9uIF91cGxvYWRGaWxlc0NvbnRpbnVlKG91dHB1dElkKSB7CiAgY29uc3Qgb3V0cHV0RWxlbWVudCA9IGRvY3VtZW50LmdldEVsZW1lbnRCeUlkKG91dHB1dElkKTsKICBjb25zdCBzdGVwcyA9IG91dHB1dEVsZW1lbnQuc3RlcHM7CgogIGNvbnN0IG5leHQgPSBzdGVwcy5uZXh0KG91dHB1dEVsZW1lbnQubGFzdFByb21pc2VWYWx1ZSk7CiAgcmV0dXJuIFByb21pc2UucmVzb2x2ZShuZXh0LnZhbHVlLnByb21pc2UpLnRoZW4oKHZhbHVlKSA9PiB7CiAgICAvLyBDYWNoZSB0aGUgbGFzdCBwcm9taXNlIHZhbHVlIHRvIG1ha2UgaXQgYXZhaWxhYmxlIHRvIHRoZSBuZXh0CiAgICAvLyBzdGVwIG9mIHRoZSBnZW5lcmF0b3IuCiAgICBvdXRwdXRFbGVtZW50Lmxhc3RQcm9taXNlVmFsdWUgPSB2YWx1ZTsKICAgIHJldHVybiBuZXh0LnZhbHVlLnJlc3BvbnNlOwogIH0pOwp9CgovKioKICogR2VuZXJhdG9yIGZ1bmN0aW9uIHdoaWNoIGlzIGNhbGxlZCBiZXR3ZWVuIGVhY2ggYXN5bmMgc3RlcCBvZiB0aGUgdXBsb2FkCiAqIHByb2Nlc3MuCiAqIEBwYXJhbSB7c3RyaW5nfSBpbnB1dElkIEVsZW1lbnQgSUQgb2YgdGhlIGlucHV0IGZpbGUgcGlja2VyIGVsZW1lbnQuCiAqIEBwYXJhbSB7c3RyaW5nfSBvdXRwdXRJZCBFbGVtZW50IElEIG9mIHRoZSBvdXRwdXQgZGlzcGxheS4KICogQHJldHVybiB7IUl0ZXJhYmxlPCFPYmplY3Q+fSBJdGVyYWJsZSBvZiBuZXh0IHN0ZXBzLgogKi8KZnVuY3Rpb24qIHVwbG9hZEZpbGVzU3RlcChpbnB1dElkLCBvdXRwdXRJZCkgewogIGNvbnN0IGlucHV0RWxlbWVudCA9IGRvY3VtZW50LmdldEVsZW1lbnRCeUlkKGlucHV0SWQpOwogIGlucHV0RWxlbWVudC5kaXNhYmxlZCA9IGZhbHNlOwoKICBjb25zdCBvdXRwdXRFbGVtZW50ID0gZG9jdW1lbnQuZ2V0RWxlbWVudEJ5SWQob3V0cHV0SWQpOwogIG91dHB1dEVsZW1lbnQuaW5uZXJIVE1MID0gJyc7CgogIGNvbnN0IHBpY2tlZFByb21pc2UgPSBuZXcgUHJvbWlzZSgocmVzb2x2ZSkgPT4gewogICAgaW5wdXRFbGVtZW50LmFkZEV2ZW50TGlzdGVuZXIoJ2NoYW5nZScsIChlKSA9PiB7CiAgICAgIHJlc29sdmUoZS50YXJnZXQuZmlsZXMpOwogICAgfSk7CiAgfSk7CgogIGNvbnN0IGNhbmNlbCA9IGRvY3VtZW50LmNyZWF0ZUVsZW1lbnQoJ2J1dHRvbicpOwogIGlucHV0RWxlbWVudC5wYXJlbnRFbGVtZW50LmFwcGVuZENoaWxkKGNhbmNlbCk7CiAgY2FuY2VsLnRleHRDb250ZW50ID0gJ0NhbmNlbCB1cGxvYWQnOwogIGNvbnN0IGNhbmNlbFByb21pc2UgPSBuZXcgUHJvbWlzZSgocmVzb2x2ZSkgPT4gewogICAgY2FuY2VsLm9uY2xpY2sgPSAoKSA9PiB7CiAgICAgIHJlc29sdmUobnVsbCk7CiAgICB9OwogIH0pOwoKICAvLyBXYWl0IGZvciB0aGUgdXNlciB0byBwaWNrIHRoZSBmaWxlcy4KICBjb25zdCBmaWxlcyA9IHlpZWxkIHsKICAgIHByb21pc2U6IFByb21pc2UucmFjZShbcGlja2VkUHJvbWlzZSwgY2FuY2VsUHJvbWlzZV0pLAogICAgcmVzcG9uc2U6IHsKICAgICAgYWN0aW9uOiAnc3RhcnRpbmcnLAogICAgfQogIH07CgogIGNhbmNlbC5yZW1vdmUoKTsKCiAgLy8gRGlzYWJsZSB0aGUgaW5wdXQgZWxlbWVudCBzaW5jZSBmdXJ0aGVyIHBpY2tzIGFyZSBub3QgYWxsb3dlZC4KICBpbnB1dEVsZW1lbnQuZGlzYWJsZWQgPSB0cnVlOwoKICBpZiAoIWZpbGVzKSB7CiAgICByZXR1cm4gewogICAgICByZXNwb25zZTogewogICAgICAgIGFjdGlvbjogJ2NvbXBsZXRlJywKICAgICAgfQogICAgfTsKICB9CgogIGZvciAoY29uc3QgZmlsZSBvZiBmaWxlcykgewogICAgY29uc3QgbGkgPSBkb2N1bWVudC5jcmVhdGVFbGVtZW50KCdsaScpOwogICAgbGkuYXBwZW5kKHNwYW4oZmlsZS5uYW1lLCB7Zm9udFdlaWdodDogJ2JvbGQnfSkpOwogICAgbGkuYXBwZW5kKHNwYW4oCiAgICAgICAgYCgke2ZpbGUudHlwZSB8fCAnbi9hJ30pIC0gJHtmaWxlLnNpemV9IGJ5dGVzLCBgICsKICAgICAgICBgbGFzdCBtb2RpZmllZDogJHsKICAgICAgICAgICAgZmlsZS5sYXN0TW9kaWZpZWREYXRlID8gZmlsZS5sYXN0TW9kaWZpZWREYXRlLnRvTG9jYWxlRGF0ZVN0cmluZygpIDoKICAgICAgICAgICAgICAgICAgICAgICAgICAgICAgICAgICAgJ24vYSd9IC0gYCkpOwogICAgY29uc3QgcGVyY2VudCA9IHNwYW4oJzAlIGRvbmUnKTsKICAgIGxpLmFwcGVuZENoaWxkKHBlcmNlbnQpOwoKICAgIG91dHB1dEVsZW1lbnQuYXBwZW5kQ2hpbGQobGkpOwoKICAgIGNvbnN0IGZpbGVEYXRhUHJvbWlzZSA9IG5ldyBQcm9taXNlKChyZXNvbHZlKSA9PiB7CiAgICAgIGNvbnN0IHJlYWRlciA9IG5ldyBGaWxlUmVhZGVyKCk7CiAgICAgIHJlYWRlci5vbmxvYWQgPSAoZSkgPT4gewogICAgICAgIHJlc29sdmUoZS50YXJnZXQucmVzdWx0KTsKICAgICAgfTsKICAgICAgcmVhZGVyLnJlYWRBc0FycmF5QnVmZmVyKGZpbGUpOwogICAgfSk7CiAgICAvLyBXYWl0IGZvciB0aGUgZGF0YSB0byBiZSByZWFkeS4KICAgIGxldCBmaWxlRGF0YSA9IHlpZWxkIHsKICAgICAgcHJvbWlzZTogZmlsZURhdGFQcm9taXNlLAogICAgICByZXNwb25zZTogewogICAgICAgIGFjdGlvbjogJ2NvbnRpbnVlJywKICAgICAgfQogICAgfTsKCiAgICAvLyBVc2UgYSBjaHVua2VkIHNlbmRpbmcgdG8gYXZvaWQgbWVzc2FnZSBzaXplIGxpbWl0cy4gU2VlIGIvNjIxMTU2NjAuCiAgICBsZXQgcG9zaXRpb24gPSAwOwogICAgZG8gewogICAgICBjb25zdCBsZW5ndGggPSBNYXRoLm1pbihmaWxlRGF0YS5ieXRlTGVuZ3RoIC0gcG9zaXRpb24sIE1BWF9QQVlMT0FEX1NJWkUpOwogICAgICBjb25zdCBjaHVuayA9IG5ldyBVaW50OEFycmF5KGZpbGVEYXRhLCBwb3NpdGlvbiwgbGVuZ3RoKTsKICAgICAgcG9zaXRpb24gKz0gbGVuZ3RoOwoKICAgICAgY29uc3QgYmFzZTY0ID0gYnRvYShTdHJpbmcuZnJvbUNoYXJDb2RlLmFwcGx5KG51bGwsIGNodW5rKSk7CiAgICAgIHlpZWxkIHsKICAgICAgICByZXNwb25zZTogewogICAgICAgICAgYWN0aW9uOiAnYXBwZW5kJywKICAgICAgICAgIGZpbGU6IGZpbGUubmFtZSwKICAgICAgICAgIGRhdGE6IGJhc2U2NCwKICAgICAgICB9LAogICAgICB9OwoKICAgICAgbGV0IHBlcmNlbnREb25lID0gZmlsZURhdGEuYnl0ZUxlbmd0aCA9PT0gMCA/CiAgICAgICAgICAxMDAgOgogICAgICAgICAgTWF0aC5yb3VuZCgocG9zaXRpb24gLyBmaWxlRGF0YS5ieXRlTGVuZ3RoKSAqIDEwMCk7CiAgICAgIHBlcmNlbnQudGV4dENvbnRlbnQgPSBgJHtwZXJjZW50RG9uZX0lIGRvbmVgOwoKICAgIH0gd2hpbGUgKHBvc2l0aW9uIDwgZmlsZURhdGEuYnl0ZUxlbmd0aCk7CiAgfQoKICAvLyBBbGwgZG9uZS4KICB5aWVsZCB7CiAgICByZXNwb25zZTogewogICAgICBhY3Rpb246ICdjb21wbGV0ZScsCiAgICB9CiAgfTsKfQoKc2NvcGUuZ29vZ2xlID0gc2NvcGUuZ29vZ2xlIHx8IHt9OwpzY29wZS5nb29nbGUuY29sYWIgPSBzY29wZS5nb29nbGUuY29sYWIgfHwge307CnNjb3BlLmdvb2dsZS5jb2xhYi5fZmlsZXMgPSB7CiAgX3VwbG9hZEZpbGVzLAogIF91cGxvYWRGaWxlc0NvbnRpbnVlLAp9Owp9KShzZWxmKTsK",
              "headers": [
                [
                  "content-type",
                  "application/javascript"
                ]
              ],
              "ok": true,
              "status": 200,
              "status_text": ""
            }
          }
        },
        "id": "FzFX58B2_u99",
        "outputId": "61e0d942-b0e3-4ec0-a0fe-a5dcf786ae7b"
      },
      "outputs": [
        {
          "output_type": "display_data",
          "data": {
            "text/plain": [
              "<IPython.core.display.HTML object>"
            ],
            "text/html": [
              "\n",
              "     <input type=\"file\" id=\"files-eef908ba-7afc-4b7e-a722-4f8ba69b6b7b\" name=\"files[]\" multiple disabled\n",
              "        style=\"border:none\" />\n",
              "     <output id=\"result-eef908ba-7afc-4b7e-a722-4f8ba69b6b7b\">\n",
              "      Upload widget is only available when the cell has been executed in the\n",
              "      current browser session. Please rerun this cell to enable.\n",
              "      </output>\n",
              "      <script src=\"/nbextensions/google.colab/files.js\"></script> "
            ]
          },
          "metadata": {}
        },
        {
          "output_type": "stream",
          "name": "stdout",
          "text": [
            "Saving Telco_customer_churn.xlsx to Telco_customer_churn (3).xlsx\n"
          ]
        }
      ],
      "source": [
        "#importing file from a local folder\n",
        "from google.colab import files\n",
        "uploaded=files.upload()"
      ]
    },
    {
      "cell_type": "code",
      "execution_count": 166,
      "metadata": {
        "colab": {
          "base_uri": "https://localhost:8080/",
          "height": 748
        },
        "id": "USInn64D_sOK",
        "outputId": "c1ad614c-fbb7-4bc5-c6ca-a8f95faba372"
      },
      "outputs": [
        {
          "output_type": "execute_result",
          "data": {
            "text/plain": [
              "      CustomerID  Count        Country       State          City  Zip Code  \\\n",
              "0     3668-QPYBK      1  United States  California   Los Angeles     90003   \n",
              "1     9237-HQITU      1  United States  California   Los Angeles     90005   \n",
              "2     9305-CDSKC      1  United States  California   Los Angeles     90006   \n",
              "3     7892-POOKP      1  United States  California   Los Angeles     90010   \n",
              "4     0280-XJGEX      1  United States  California   Los Angeles     90015   \n",
              "...          ...    ...            ...         ...           ...       ...   \n",
              "7038  2569-WGERO      1  United States  California       Landers     92285   \n",
              "7039  6840-RESVB      1  United States  California      Adelanto     92301   \n",
              "7040  2234-XADUH      1  United States  California         Amboy     92304   \n",
              "7041  4801-JZAZL      1  United States  California  Angelus Oaks     92305   \n",
              "7042  3186-AJIEK      1  United States  California  Apple Valley     92308   \n",
              "\n",
              "                    Lat Long   Latitude   Longitude  Gender  ...  \\\n",
              "0     33.964131, -118.272783  33.964131 -118.272783    Male  ...   \n",
              "1      34.059281, -118.30742  34.059281 -118.307420  Female  ...   \n",
              "2     34.048013, -118.293953  34.048013 -118.293953  Female  ...   \n",
              "3     34.062125, -118.315709  34.062125 -118.315709  Female  ...   \n",
              "4     34.039224, -118.266293  34.039224 -118.266293    Male  ...   \n",
              "...                      ...        ...         ...     ...  ...   \n",
              "7038  34.341737, -116.539416  34.341737 -116.539416  Female  ...   \n",
              "7039  34.667815, -117.536183  34.667815 -117.536183    Male  ...   \n",
              "7040  34.559882, -115.637164  34.559882 -115.637164  Female  ...   \n",
              "7041     34.1678, -116.86433  34.167800 -116.864330  Female  ...   \n",
              "7042  34.424926, -117.184503  34.424926 -117.184503    Male  ...   \n",
              "\n",
              "            Contract Paperless Billing             Payment Method  \\\n",
              "0     Month-to-month               Yes               Mailed check   \n",
              "1     Month-to-month               Yes           Electronic check   \n",
              "2     Month-to-month               Yes           Electronic check   \n",
              "3     Month-to-month               Yes           Electronic check   \n",
              "4     Month-to-month               Yes  Bank transfer (automatic)   \n",
              "...              ...               ...                        ...   \n",
              "7038        Two year               Yes  Bank transfer (automatic)   \n",
              "7039        One year               Yes               Mailed check   \n",
              "7040        One year               Yes    Credit card (automatic)   \n",
              "7041  Month-to-month               Yes           Electronic check   \n",
              "7042        Two year               Yes  Bank transfer (automatic)   \n",
              "\n",
              "      Monthly Charges Total Charges Churn Label Churn Value Churn Score  CLTV  \\\n",
              "0               53.85        108.15         Yes           1          86  3239   \n",
              "1               70.70        151.65         Yes           1          67  2701   \n",
              "2               99.65         820.5         Yes           1          86  5372   \n",
              "3              104.80       3046.05         Yes           1          84  5003   \n",
              "4              103.70        5036.3         Yes           1          89  5340   \n",
              "...               ...           ...         ...         ...         ...   ...   \n",
              "7038            21.15        1419.4          No           0          45  5306   \n",
              "7039            84.80        1990.5          No           0          59  2140   \n",
              "7040           103.20        7362.9          No           0          71  5560   \n",
              "7041            29.60        346.45          No           0          59  2793   \n",
              "7042           105.65        6844.5          No           0          38  5097   \n",
              "\n",
              "                       Churn Reason  \n",
              "0      Competitor made better offer  \n",
              "1                             Moved  \n",
              "2                             Moved  \n",
              "3                             Moved  \n",
              "4     Competitor had better devices  \n",
              "...                             ...  \n",
              "7038                            NaN  \n",
              "7039                            NaN  \n",
              "7040                            NaN  \n",
              "7041                            NaN  \n",
              "7042                            NaN  \n",
              "\n",
              "[7043 rows x 33 columns]"
            ],
            "text/html": [
              "\n",
              "  <div id=\"df-1c35ede3-004b-4a4d-b340-3a9ba08f163d\">\n",
              "    <div class=\"colab-df-container\">\n",
              "      <div>\n",
              "<style scoped>\n",
              "    .dataframe tbody tr th:only-of-type {\n",
              "        vertical-align: middle;\n",
              "    }\n",
              "\n",
              "    .dataframe tbody tr th {\n",
              "        vertical-align: top;\n",
              "    }\n",
              "\n",
              "    .dataframe thead th {\n",
              "        text-align: right;\n",
              "    }\n",
              "</style>\n",
              "<table border=\"1\" class=\"dataframe\">\n",
              "  <thead>\n",
              "    <tr style=\"text-align: right;\">\n",
              "      <th></th>\n",
              "      <th>CustomerID</th>\n",
              "      <th>Count</th>\n",
              "      <th>Country</th>\n",
              "      <th>State</th>\n",
              "      <th>City</th>\n",
              "      <th>Zip Code</th>\n",
              "      <th>Lat Long</th>\n",
              "      <th>Latitude</th>\n",
              "      <th>Longitude</th>\n",
              "      <th>Gender</th>\n",
              "      <th>...</th>\n",
              "      <th>Contract</th>\n",
              "      <th>Paperless Billing</th>\n",
              "      <th>Payment Method</th>\n",
              "      <th>Monthly Charges</th>\n",
              "      <th>Total Charges</th>\n",
              "      <th>Churn Label</th>\n",
              "      <th>Churn Value</th>\n",
              "      <th>Churn Score</th>\n",
              "      <th>CLTV</th>\n",
              "      <th>Churn Reason</th>\n",
              "    </tr>\n",
              "  </thead>\n",
              "  <tbody>\n",
              "    <tr>\n",
              "      <th>0</th>\n",
              "      <td>3668-QPYBK</td>\n",
              "      <td>1</td>\n",
              "      <td>United States</td>\n",
              "      <td>California</td>\n",
              "      <td>Los Angeles</td>\n",
              "      <td>90003</td>\n",
              "      <td>33.964131, -118.272783</td>\n",
              "      <td>33.964131</td>\n",
              "      <td>-118.272783</td>\n",
              "      <td>Male</td>\n",
              "      <td>...</td>\n",
              "      <td>Month-to-month</td>\n",
              "      <td>Yes</td>\n",
              "      <td>Mailed check</td>\n",
              "      <td>53.85</td>\n",
              "      <td>108.15</td>\n",
              "      <td>Yes</td>\n",
              "      <td>1</td>\n",
              "      <td>86</td>\n",
              "      <td>3239</td>\n",
              "      <td>Competitor made better offer</td>\n",
              "    </tr>\n",
              "    <tr>\n",
              "      <th>1</th>\n",
              "      <td>9237-HQITU</td>\n",
              "      <td>1</td>\n",
              "      <td>United States</td>\n",
              "      <td>California</td>\n",
              "      <td>Los Angeles</td>\n",
              "      <td>90005</td>\n",
              "      <td>34.059281, -118.30742</td>\n",
              "      <td>34.059281</td>\n",
              "      <td>-118.307420</td>\n",
              "      <td>Female</td>\n",
              "      <td>...</td>\n",
              "      <td>Month-to-month</td>\n",
              "      <td>Yes</td>\n",
              "      <td>Electronic check</td>\n",
              "      <td>70.70</td>\n",
              "      <td>151.65</td>\n",
              "      <td>Yes</td>\n",
              "      <td>1</td>\n",
              "      <td>67</td>\n",
              "      <td>2701</td>\n",
              "      <td>Moved</td>\n",
              "    </tr>\n",
              "    <tr>\n",
              "      <th>2</th>\n",
              "      <td>9305-CDSKC</td>\n",
              "      <td>1</td>\n",
              "      <td>United States</td>\n",
              "      <td>California</td>\n",
              "      <td>Los Angeles</td>\n",
              "      <td>90006</td>\n",
              "      <td>34.048013, -118.293953</td>\n",
              "      <td>34.048013</td>\n",
              "      <td>-118.293953</td>\n",
              "      <td>Female</td>\n",
              "      <td>...</td>\n",
              "      <td>Month-to-month</td>\n",
              "      <td>Yes</td>\n",
              "      <td>Electronic check</td>\n",
              "      <td>99.65</td>\n",
              "      <td>820.5</td>\n",
              "      <td>Yes</td>\n",
              "      <td>1</td>\n",
              "      <td>86</td>\n",
              "      <td>5372</td>\n",
              "      <td>Moved</td>\n",
              "    </tr>\n",
              "    <tr>\n",
              "      <th>3</th>\n",
              "      <td>7892-POOKP</td>\n",
              "      <td>1</td>\n",
              "      <td>United States</td>\n",
              "      <td>California</td>\n",
              "      <td>Los Angeles</td>\n",
              "      <td>90010</td>\n",
              "      <td>34.062125, -118.315709</td>\n",
              "      <td>34.062125</td>\n",
              "      <td>-118.315709</td>\n",
              "      <td>Female</td>\n",
              "      <td>...</td>\n",
              "      <td>Month-to-month</td>\n",
              "      <td>Yes</td>\n",
              "      <td>Electronic check</td>\n",
              "      <td>104.80</td>\n",
              "      <td>3046.05</td>\n",
              "      <td>Yes</td>\n",
              "      <td>1</td>\n",
              "      <td>84</td>\n",
              "      <td>5003</td>\n",
              "      <td>Moved</td>\n",
              "    </tr>\n",
              "    <tr>\n",
              "      <th>4</th>\n",
              "      <td>0280-XJGEX</td>\n",
              "      <td>1</td>\n",
              "      <td>United States</td>\n",
              "      <td>California</td>\n",
              "      <td>Los Angeles</td>\n",
              "      <td>90015</td>\n",
              "      <td>34.039224, -118.266293</td>\n",
              "      <td>34.039224</td>\n",
              "      <td>-118.266293</td>\n",
              "      <td>Male</td>\n",
              "      <td>...</td>\n",
              "      <td>Month-to-month</td>\n",
              "      <td>Yes</td>\n",
              "      <td>Bank transfer (automatic)</td>\n",
              "      <td>103.70</td>\n",
              "      <td>5036.3</td>\n",
              "      <td>Yes</td>\n",
              "      <td>1</td>\n",
              "      <td>89</td>\n",
              "      <td>5340</td>\n",
              "      <td>Competitor had better devices</td>\n",
              "    </tr>\n",
              "    <tr>\n",
              "      <th>...</th>\n",
              "      <td>...</td>\n",
              "      <td>...</td>\n",
              "      <td>...</td>\n",
              "      <td>...</td>\n",
              "      <td>...</td>\n",
              "      <td>...</td>\n",
              "      <td>...</td>\n",
              "      <td>...</td>\n",
              "      <td>...</td>\n",
              "      <td>...</td>\n",
              "      <td>...</td>\n",
              "      <td>...</td>\n",
              "      <td>...</td>\n",
              "      <td>...</td>\n",
              "      <td>...</td>\n",
              "      <td>...</td>\n",
              "      <td>...</td>\n",
              "      <td>...</td>\n",
              "      <td>...</td>\n",
              "      <td>...</td>\n",
              "      <td>...</td>\n",
              "    </tr>\n",
              "    <tr>\n",
              "      <th>7038</th>\n",
              "      <td>2569-WGERO</td>\n",
              "      <td>1</td>\n",
              "      <td>United States</td>\n",
              "      <td>California</td>\n",
              "      <td>Landers</td>\n",
              "      <td>92285</td>\n",
              "      <td>34.341737, -116.539416</td>\n",
              "      <td>34.341737</td>\n",
              "      <td>-116.539416</td>\n",
              "      <td>Female</td>\n",
              "      <td>...</td>\n",
              "      <td>Two year</td>\n",
              "      <td>Yes</td>\n",
              "      <td>Bank transfer (automatic)</td>\n",
              "      <td>21.15</td>\n",
              "      <td>1419.4</td>\n",
              "      <td>No</td>\n",
              "      <td>0</td>\n",
              "      <td>45</td>\n",
              "      <td>5306</td>\n",
              "      <td>NaN</td>\n",
              "    </tr>\n",
              "    <tr>\n",
              "      <th>7039</th>\n",
              "      <td>6840-RESVB</td>\n",
              "      <td>1</td>\n",
              "      <td>United States</td>\n",
              "      <td>California</td>\n",
              "      <td>Adelanto</td>\n",
              "      <td>92301</td>\n",
              "      <td>34.667815, -117.536183</td>\n",
              "      <td>34.667815</td>\n",
              "      <td>-117.536183</td>\n",
              "      <td>Male</td>\n",
              "      <td>...</td>\n",
              "      <td>One year</td>\n",
              "      <td>Yes</td>\n",
              "      <td>Mailed check</td>\n",
              "      <td>84.80</td>\n",
              "      <td>1990.5</td>\n",
              "      <td>No</td>\n",
              "      <td>0</td>\n",
              "      <td>59</td>\n",
              "      <td>2140</td>\n",
              "      <td>NaN</td>\n",
              "    </tr>\n",
              "    <tr>\n",
              "      <th>7040</th>\n",
              "      <td>2234-XADUH</td>\n",
              "      <td>1</td>\n",
              "      <td>United States</td>\n",
              "      <td>California</td>\n",
              "      <td>Amboy</td>\n",
              "      <td>92304</td>\n",
              "      <td>34.559882, -115.637164</td>\n",
              "      <td>34.559882</td>\n",
              "      <td>-115.637164</td>\n",
              "      <td>Female</td>\n",
              "      <td>...</td>\n",
              "      <td>One year</td>\n",
              "      <td>Yes</td>\n",
              "      <td>Credit card (automatic)</td>\n",
              "      <td>103.20</td>\n",
              "      <td>7362.9</td>\n",
              "      <td>No</td>\n",
              "      <td>0</td>\n",
              "      <td>71</td>\n",
              "      <td>5560</td>\n",
              "      <td>NaN</td>\n",
              "    </tr>\n",
              "    <tr>\n",
              "      <th>7041</th>\n",
              "      <td>4801-JZAZL</td>\n",
              "      <td>1</td>\n",
              "      <td>United States</td>\n",
              "      <td>California</td>\n",
              "      <td>Angelus Oaks</td>\n",
              "      <td>92305</td>\n",
              "      <td>34.1678, -116.86433</td>\n",
              "      <td>34.167800</td>\n",
              "      <td>-116.864330</td>\n",
              "      <td>Female</td>\n",
              "      <td>...</td>\n",
              "      <td>Month-to-month</td>\n",
              "      <td>Yes</td>\n",
              "      <td>Electronic check</td>\n",
              "      <td>29.60</td>\n",
              "      <td>346.45</td>\n",
              "      <td>No</td>\n",
              "      <td>0</td>\n",
              "      <td>59</td>\n",
              "      <td>2793</td>\n",
              "      <td>NaN</td>\n",
              "    </tr>\n",
              "    <tr>\n",
              "      <th>7042</th>\n",
              "      <td>3186-AJIEK</td>\n",
              "      <td>1</td>\n",
              "      <td>United States</td>\n",
              "      <td>California</td>\n",
              "      <td>Apple Valley</td>\n",
              "      <td>92308</td>\n",
              "      <td>34.424926, -117.184503</td>\n",
              "      <td>34.424926</td>\n",
              "      <td>-117.184503</td>\n",
              "      <td>Male</td>\n",
              "      <td>...</td>\n",
              "      <td>Two year</td>\n",
              "      <td>Yes</td>\n",
              "      <td>Bank transfer (automatic)</td>\n",
              "      <td>105.65</td>\n",
              "      <td>6844.5</td>\n",
              "      <td>No</td>\n",
              "      <td>0</td>\n",
              "      <td>38</td>\n",
              "      <td>5097</td>\n",
              "      <td>NaN</td>\n",
              "    </tr>\n",
              "  </tbody>\n",
              "</table>\n",
              "<p>7043 rows × 33 columns</p>\n",
              "</div>\n",
              "      <button class=\"colab-df-convert\" onclick=\"convertToInteractive('df-1c35ede3-004b-4a4d-b340-3a9ba08f163d')\"\n",
              "              title=\"Convert this dataframe to an interactive table.\"\n",
              "              style=\"display:none;\">\n",
              "        \n",
              "  <svg xmlns=\"http://www.w3.org/2000/svg\" height=\"24px\"viewBox=\"0 0 24 24\"\n",
              "       width=\"24px\">\n",
              "    <path d=\"M0 0h24v24H0V0z\" fill=\"none\"/>\n",
              "    <path d=\"M18.56 5.44l.94 2.06.94-2.06 2.06-.94-2.06-.94-.94-2.06-.94 2.06-2.06.94zm-11 1L8.5 8.5l.94-2.06 2.06-.94-2.06-.94L8.5 2.5l-.94 2.06-2.06.94zm10 10l.94 2.06.94-2.06 2.06-.94-2.06-.94-.94-2.06-.94 2.06-2.06.94z\"/><path d=\"M17.41 7.96l-1.37-1.37c-.4-.4-.92-.59-1.43-.59-.52 0-1.04.2-1.43.59L10.3 9.45l-7.72 7.72c-.78.78-.78 2.05 0 2.83L4 21.41c.39.39.9.59 1.41.59.51 0 1.02-.2 1.41-.59l7.78-7.78 2.81-2.81c.8-.78.8-2.07 0-2.86zM5.41 20L4 18.59l7.72-7.72 1.47 1.35L5.41 20z\"/>\n",
              "  </svg>\n",
              "      </button>\n",
              "      \n",
              "  <style>\n",
              "    .colab-df-container {\n",
              "      display:flex;\n",
              "      flex-wrap:wrap;\n",
              "      gap: 12px;\n",
              "    }\n",
              "\n",
              "    .colab-df-convert {\n",
              "      background-color: #E8F0FE;\n",
              "      border: none;\n",
              "      border-radius: 50%;\n",
              "      cursor: pointer;\n",
              "      display: none;\n",
              "      fill: #1967D2;\n",
              "      height: 32px;\n",
              "      padding: 0 0 0 0;\n",
              "      width: 32px;\n",
              "    }\n",
              "\n",
              "    .colab-df-convert:hover {\n",
              "      background-color: #E2EBFA;\n",
              "      box-shadow: 0px 1px 2px rgba(60, 64, 67, 0.3), 0px 1px 3px 1px rgba(60, 64, 67, 0.15);\n",
              "      fill: #174EA6;\n",
              "    }\n",
              "\n",
              "    [theme=dark] .colab-df-convert {\n",
              "      background-color: #3B4455;\n",
              "      fill: #D2E3FC;\n",
              "    }\n",
              "\n",
              "    [theme=dark] .colab-df-convert:hover {\n",
              "      background-color: #434B5C;\n",
              "      box-shadow: 0px 1px 3px 1px rgba(0, 0, 0, 0.15);\n",
              "      filter: drop-shadow(0px 1px 2px rgba(0, 0, 0, 0.3));\n",
              "      fill: #FFFFFF;\n",
              "    }\n",
              "  </style>\n",
              "\n",
              "      <script>\n",
              "        const buttonEl =\n",
              "          document.querySelector('#df-1c35ede3-004b-4a4d-b340-3a9ba08f163d button.colab-df-convert');\n",
              "        buttonEl.style.display =\n",
              "          google.colab.kernel.accessAllowed ? 'block' : 'none';\n",
              "\n",
              "        async function convertToInteractive(key) {\n",
              "          const element = document.querySelector('#df-1c35ede3-004b-4a4d-b340-3a9ba08f163d');\n",
              "          const dataTable =\n",
              "            await google.colab.kernel.invokeFunction('convertToInteractive',\n",
              "                                                     [key], {});\n",
              "          if (!dataTable) return;\n",
              "\n",
              "          const docLinkHtml = 'Like what you see? Visit the ' +\n",
              "            '<a target=\"_blank\" href=https://colab.research.google.com/notebooks/data_table.ipynb>data table notebook</a>'\n",
              "            + ' to learn more about interactive tables.';\n",
              "          element.innerHTML = '';\n",
              "          dataTable['output_type'] = 'display_data';\n",
              "          await google.colab.output.renderOutput(dataTable, element);\n",
              "          const docLink = document.createElement('div');\n",
              "          docLink.innerHTML = docLinkHtml;\n",
              "          element.appendChild(docLink);\n",
              "        }\n",
              "      </script>\n",
              "    </div>\n",
              "  </div>\n",
              "  "
            ]
          },
          "metadata": {},
          "execution_count": 166
        }
      ],
      "source": [
        "#reading the file\n",
        "import numpy as np\n",
        "import pandas as pd\n",
        "import seaborn as sns\n",
        "import matplotlib.pyplot as plt\n",
        "\n",
        "df= pd.read_excel(\"Telco_customer_churn.xlsx\")\n",
        "#print output\n",
        "df"
      ]
    },
    {
      "cell_type": "code",
      "execution_count": null,
      "metadata": {
        "colab": {
          "base_uri": "https://localhost:8080/"
        },
        "id": "rAV1IlxdCaZa",
        "outputId": "6188c6ca-7f97-400f-bf86-56599b037be8"
      },
      "outputs": [
        {
          "data": {
            "text/plain": [
              "(7043, 33)"
            ]
          },
          "execution_count": 4,
          "metadata": {},
          "output_type": "execute_result"
        }
      ],
      "source": [
        "df.shape  #shape function() gives the number of rows and columns"
      ]
    },
    {
      "cell_type": "markdown",
      "metadata": {
        "id": "AmioWu6TDQMx"
      },
      "source": [
        "From the above code it is to be noted that this dataframe consists of 7043 rows and 33 columns."
      ]
    },
    {
      "cell_type": "markdown",
      "metadata": {
        "id": "BOEB34UJDyzN"
      },
      "source": [
        "Distribution of the churn data in this dataset:"
      ]
    },
    {
      "cell_type": "code",
      "execution_count": 109,
      "metadata": {
        "colab": {
          "base_uri": "https://localhost:8080/"
        },
        "id": "TLQX5YLyEHMM",
        "outputId": "3bc89b22-2057-4ed4-9722-700d479ca003"
      },
      "outputs": [
        {
          "output_type": "execute_result",
          "data": {
            "text/plain": [
              "0    5174\n",
              "1    1869\n",
              "Name: Churn Label, dtype: int64"
            ]
          },
          "metadata": {},
          "execution_count": 109
        }
      ],
      "source": [
        "df['Churn Label'].value_counts() #value_counts()function returns object containing counts of unique values,it is handy for categorical data\n"
      ]
    },
    {
      "cell_type": "markdown",
      "metadata": {
        "id": "RMMSKUdLD18H"
      },
      "source": [
        "From  the above code it is to be known that out of 7093(100%) customers,5174 (73.5%)customers remained with the company,while 1869 (26.5%)customers Left the company this quarter."
      ]
    },
    {
      "cell_type": "code",
      "execution_count": 108,
      "metadata": {
        "colab": {
          "base_uri": "https://localhost:8080/",
          "height": 295
        },
        "id": "i9HLIIrADh2u",
        "outputId": "d18201c4-b33a-44da-a7c5-41eb85b8acc8"
      },
      "outputs": [
        {
          "output_type": "display_data",
          "data": {
            "text/plain": [
              "<Figure size 432x288 with 1 Axes>"
            ],
            "image/png": "[encoded data removed]"
          },
          "metadata": {
            "needs_background": "light"
          }
        }
      ],
      "source": [
        "sns.countplot(x='Churn Label',data=df,color='cyan') #countplot is applicable only for categorical data to count observations in each category.\n",
        "plt.title('Churn count')                            #x-axis shows about the churn label\n",
        "plt.xlabel('Churn Label')                           #y-axis shows about the Total count\n",
        "plt.ylabel('Total count')                           \n",
        "plt.show()"
      ]
    },
    {
      "cell_type": "markdown",
      "metadata": {
        "id": "VuIaLsxYJqt-"
      },
      "source": [
        "Diagramatically from the above graph it is to be known that the count of No is greater than that of the count of yes,where no indicates the customers remained with the company,while yes indicates the customers who Left the company this quarter."
      ]
    },
    {
      "cell_type": "markdown",
      "metadata": {
        "id": "g8xDzPceLc48"
      },
      "source": [
        "1.Please read the file and explain data types statistically as well as how python is reading it. Please let us know if any data type is read wrong.\n",
        "\n",
        "\n"
      ]
    },
    {
      "cell_type": "code",
      "execution_count": null,
      "metadata": {
        "colab": {
          "base_uri": "https://localhost:8080/"
        },
        "id": "FJI5262HLa02",
        "outputId": "7eea5417-6186-43f2-d6ef-40c7b626b364"
      },
      "outputs": [
        {
          "data": {
            "text/plain": [
              "CustomerID            object\n",
              "Count                  int64\n",
              "Country               object\n",
              "State                 object\n",
              "City                  object\n",
              "Zip Code               int64\n",
              "Lat Long              object\n",
              "Latitude             float64\n",
              "Longitude            float64\n",
              "Gender                object\n",
              "Senior Citizen        object\n",
              "Partner               object\n",
              "Dependents            object\n",
              "Tenure Months          int64\n",
              "Phone Service         object\n",
              "Multiple Lines        object\n",
              "Internet Service      object\n",
              "Online Security       object\n",
              "Online Backup         object\n",
              "Device Protection     object\n",
              "Tech Support          object\n",
              "Streaming TV          object\n",
              "Streaming Movies      object\n",
              "Contract              object\n",
              "Paperless Billing     object\n",
              "Payment Method        object\n",
              "Monthly Charges      float64\n",
              "Total Charges         object\n",
              "Churn Label           object\n",
              "Churn Value            int64\n",
              "Churn Score            int64\n",
              "CLTV                   int64\n",
              "Churn Reason          object\n",
              "dtype: object"
            ]
          },
          "execution_count": 7,
          "metadata": {},
          "output_type": "execute_result"
        }
      ],
      "source": [
        "df.dtypes    #dtype()function is used to create a data type object"
      ]
    },
    {
      "cell_type": "markdown",
      "metadata": {
        "id": "oHkRDHedMTn8"
      },
      "source": [
        "It can be observed that the TotalCharges has an object data type which is read wrong but in real it has to be read as float data type.For changing the data type of Total Charges -object into float we have to use the following code."
      ]
    },
    {
      "cell_type": "code",
      "execution_count": 169,
      "metadata": {
        "colab": {
          "base_uri": "https://localhost:8080/",
          "height": 748
        },
        "id": "CGNNU7YCUVma",
        "outputId": "9455c368-2472-4237-e531-95df994334b8"
      },
      "outputs": [
        {
          "output_type": "execute_result",
          "data": {
            "text/plain": [
              "      CustomerID  Count        Country       State          City  Zip Code  \\\n",
              "0     3668-QPYBK      1  United States  California   Los Angeles     90003   \n",
              "1     9237-HQITU      1  United States  California   Los Angeles     90005   \n",
              "2     9305-CDSKC      1  United States  California   Los Angeles     90006   \n",
              "3     7892-POOKP      1  United States  California   Los Angeles     90010   \n",
              "4     0280-XJGEX      1  United States  California   Los Angeles     90015   \n",
              "...          ...    ...            ...         ...           ...       ...   \n",
              "7038  2569-WGERO      1  United States  California       Landers     92285   \n",
              "7039  6840-RESVB      1  United States  California      Adelanto     92301   \n",
              "7040  2234-XADUH      1  United States  California         Amboy     92304   \n",
              "7041  4801-JZAZL      1  United States  California  Angelus Oaks     92305   \n",
              "7042  3186-AJIEK      1  United States  California  Apple Valley     92308   \n",
              "\n",
              "                    Lat Long   Latitude   Longitude  Gender  ...  \\\n",
              "0     33.964131, -118.272783  33.964131 -118.272783    Male  ...   \n",
              "1      34.059281, -118.30742  34.059281 -118.307420  Female  ...   \n",
              "2     34.048013, -118.293953  34.048013 -118.293953  Female  ...   \n",
              "3     34.062125, -118.315709  34.062125 -118.315709  Female  ...   \n",
              "4     34.039224, -118.266293  34.039224 -118.266293    Male  ...   \n",
              "...                      ...        ...         ...     ...  ...   \n",
              "7038  34.341737, -116.539416  34.341737 -116.539416  Female  ...   \n",
              "7039  34.667815, -117.536183  34.667815 -117.536183    Male  ...   \n",
              "7040  34.559882, -115.637164  34.559882 -115.637164  Female  ...   \n",
              "7041     34.1678, -116.86433  34.167800 -116.864330  Female  ...   \n",
              "7042  34.424926, -117.184503  34.424926 -117.184503    Male  ...   \n",
              "\n",
              "            Contract Paperless Billing             Payment Method  \\\n",
              "0     Month-to-month               Yes               Mailed check   \n",
              "1     Month-to-month               Yes           Electronic check   \n",
              "2     Month-to-month               Yes           Electronic check   \n",
              "3     Month-to-month               Yes           Electronic check   \n",
              "4     Month-to-month               Yes  Bank transfer (automatic)   \n",
              "...              ...               ...                        ...   \n",
              "7038        Two year               Yes  Bank transfer (automatic)   \n",
              "7039        One year               Yes               Mailed check   \n",
              "7040        One year               Yes    Credit card (automatic)   \n",
              "7041  Month-to-month               Yes           Electronic check   \n",
              "7042        Two year               Yes  Bank transfer (automatic)   \n",
              "\n",
              "      Monthly Charges Total Charges Churn Label Churn Value Churn Score  CLTV  \\\n",
              "0               53.85        108.15         Yes           1          86  3239   \n",
              "1               70.70        151.65         Yes           1          67  2701   \n",
              "2               99.65        820.50         Yes           1          86  5372   \n",
              "3              104.80       3046.05         Yes           1          84  5003   \n",
              "4              103.70       5036.30         Yes           1          89  5340   \n",
              "...               ...           ...         ...         ...         ...   ...   \n",
              "7038            21.15       1419.40          No           0          45  5306   \n",
              "7039            84.80       1990.50          No           0          59  2140   \n",
              "7040           103.20       7362.90          No           0          71  5560   \n",
              "7041            29.60        346.45          No           0          59  2793   \n",
              "7042           105.65       6844.50          No           0          38  5097   \n",
              "\n",
              "                       Churn Reason  \n",
              "0      Competitor made better offer  \n",
              "1                             Moved  \n",
              "2                             Moved  \n",
              "3                             Moved  \n",
              "4     Competitor had better devices  \n",
              "...                             ...  \n",
              "7038                            NaN  \n",
              "7039                            NaN  \n",
              "7040                            NaN  \n",
              "7041                            NaN  \n",
              "7042                            NaN  \n",
              "\n",
              "[7043 rows x 33 columns]"
            ],
            "text/html": [
              "\n",
              "  <div id=\"df-63780787-b0c6-41f1-b341-e4d00b845765\">\n",
              "    <div class=\"colab-df-container\">\n",
              "      <div>\n",
              "<style scoped>\n",
              "    .dataframe tbody tr th:only-of-type {\n",
              "        vertical-align: middle;\n",
              "    }\n",
              "\n",
              "    .dataframe tbody tr th {\n",
              "        vertical-align: top;\n",
              "    }\n",
              "\n",
              "    .dataframe thead th {\n",
              "        text-align: right;\n",
              "    }\n",
              "</style>\n",
              "<table border=\"1\" class=\"dataframe\">\n",
              "  <thead>\n",
              "    <tr style=\"text-align: right;\">\n",
              "      <th></th>\n",
              "      <th>CustomerID</th>\n",
              "      <th>Count</th>\n",
              "      <th>Country</th>\n",
              "      <th>State</th>\n",
              "      <th>City</th>\n",
              "      <th>Zip Code</th>\n",
              "      <th>Lat Long</th>\n",
              "      <th>Latitude</th>\n",
              "      <th>Longitude</th>\n",
              "      <th>Gender</th>\n",
              "      <th>...</th>\n",
              "      <th>Contract</th>\n",
              "      <th>Paperless Billing</th>\n",
              "      <th>Payment Method</th>\n",
              "      <th>Monthly Charges</th>\n",
              "      <th>Total Charges</th>\n",
              "      <th>Churn Label</th>\n",
              "      <th>Churn Value</th>\n",
              "      <th>Churn Score</th>\n",
              "      <th>CLTV</th>\n",
              "      <th>Churn Reason</th>\n",
              "    </tr>\n",
              "  </thead>\n",
              "  <tbody>\n",
              "    <tr>\n",
              "      <th>0</th>\n",
              "      <td>3668-QPYBK</td>\n",
              "      <td>1</td>\n",
              "      <td>United States</td>\n",
              "      <td>California</td>\n",
              "      <td>Los Angeles</td>\n",
              "      <td>90003</td>\n",
              "      <td>33.964131, -118.272783</td>\n",
              "      <td>33.964131</td>\n",
              "      <td>-118.272783</td>\n",
              "      <td>Male</td>\n",
              "      <td>...</td>\n",
              "      <td>Month-to-month</td>\n",
              "      <td>Yes</td>\n",
              "      <td>Mailed check</td>\n",
              "      <td>53.85</td>\n",
              "      <td>108.15</td>\n",
              "      <td>Yes</td>\n",
              "      <td>1</td>\n",
              "      <td>86</td>\n",
              "      <td>3239</td>\n",
              "      <td>Competitor made better offer</td>\n",
              "    </tr>\n",
              "    <tr>\n",
              "      <th>1</th>\n",
              "      <td>9237-HQITU</td>\n",
              "      <td>1</td>\n",
              "      <td>United States</td>\n",
              "      <td>California</td>\n",
              "      <td>Los Angeles</td>\n",
              "      <td>90005</td>\n",
              "      <td>34.059281, -118.30742</td>\n",
              "      <td>34.059281</td>\n",
              "      <td>-118.307420</td>\n",
              "      <td>Female</td>\n",
              "      <td>...</td>\n",
              "      <td>Month-to-month</td>\n",
              "      <td>Yes</td>\n",
              "      <td>Electronic check</td>\n",
              "      <td>70.70</td>\n",
              "      <td>151.65</td>\n",
              "      <td>Yes</td>\n",
              "      <td>1</td>\n",
              "      <td>67</td>\n",
              "      <td>2701</td>\n",
              "      <td>Moved</td>\n",
              "    </tr>\n",
              "    <tr>\n",
              "      <th>2</th>\n",
              "      <td>9305-CDSKC</td>\n",
              "      <td>1</td>\n",
              "      <td>United States</td>\n",
              "      <td>California</td>\n",
              "      <td>Los Angeles</td>\n",
              "      <td>90006</td>\n",
              "      <td>34.048013, -118.293953</td>\n",
              "      <td>34.048013</td>\n",
              "      <td>-118.293953</td>\n",
              "      <td>Female</td>\n",
              "      <td>...</td>\n",
              "      <td>Month-to-month</td>\n",
              "      <td>Yes</td>\n",
              "      <td>Electronic check</td>\n",
              "      <td>99.65</td>\n",
              "      <td>820.50</td>\n",
              "      <td>Yes</td>\n",
              "      <td>1</td>\n",
              "      <td>86</td>\n",
              "      <td>5372</td>\n",
              "      <td>Moved</td>\n",
              "    </tr>\n",
              "    <tr>\n",
              "      <th>3</th>\n",
              "      <td>7892-POOKP</td>\n",
              "      <td>1</td>\n",
              "      <td>United States</td>\n",
              "      <td>California</td>\n",
              "      <td>Los Angeles</td>\n",
              "      <td>90010</td>\n",
              "      <td>34.062125, -118.315709</td>\n",
              "      <td>34.062125</td>\n",
              "      <td>-118.315709</td>\n",
              "      <td>Female</td>\n",
              "      <td>...</td>\n",
              "      <td>Month-to-month</td>\n",
              "      <td>Yes</td>\n",
              "      <td>Electronic check</td>\n",
              "      <td>104.80</td>\n",
              "      <td>3046.05</td>\n",
              "      <td>Yes</td>\n",
              "      <td>1</td>\n",
              "      <td>84</td>\n",
              "      <td>5003</td>\n",
              "      <td>Moved</td>\n",
              "    </tr>\n",
              "    <tr>\n",
              "      <th>4</th>\n",
              "      <td>0280-XJGEX</td>\n",
              "      <td>1</td>\n",
              "      <td>United States</td>\n",
              "      <td>California</td>\n",
              "      <td>Los Angeles</td>\n",
              "      <td>90015</td>\n",
              "      <td>34.039224, -118.266293</td>\n",
              "      <td>34.039224</td>\n",
              "      <td>-118.266293</td>\n",
              "      <td>Male</td>\n",
              "      <td>...</td>\n",
              "      <td>Month-to-month</td>\n",
              "      <td>Yes</td>\n",
              "      <td>Bank transfer (automatic)</td>\n",
              "      <td>103.70</td>\n",
              "      <td>5036.30</td>\n",
              "      <td>Yes</td>\n",
              "      <td>1</td>\n",
              "      <td>89</td>\n",
              "      <td>5340</td>\n",
              "      <td>Competitor had better devices</td>\n",
              "    </tr>\n",
              "    <tr>\n",
              "      <th>...</th>\n",
              "      <td>...</td>\n",
              "      <td>...</td>\n",
              "      <td>...</td>\n",
              "      <td>...</td>\n",
              "      <td>...</td>\n",
              "      <td>...</td>\n",
              "      <td>...</td>\n",
              "      <td>...</td>\n",
              "      <td>...</td>\n",
              "      <td>...</td>\n",
              "      <td>...</td>\n",
              "      <td>...</td>\n",
              "      <td>...</td>\n",
              "      <td>...</td>\n",
              "      <td>...</td>\n",
              "      <td>...</td>\n",
              "      <td>...</td>\n",
              "      <td>...</td>\n",
              "      <td>...</td>\n",
              "      <td>...</td>\n",
              "      <td>...</td>\n",
              "    </tr>\n",
              "    <tr>\n",
              "      <th>7038</th>\n",
              "      <td>2569-WGERO</td>\n",
              "      <td>1</td>\n",
              "      <td>United States</td>\n",
              "      <td>California</td>\n",
              "      <td>Landers</td>\n",
              "      <td>92285</td>\n",
              "      <td>34.341737, -116.539416</td>\n",
              "      <td>34.341737</td>\n",
              "      <td>-116.539416</td>\n",
              "      <td>Female</td>\n",
              "      <td>...</td>\n",
              "      <td>Two year</td>\n",
              "      <td>Yes</td>\n",
              "      <td>Bank transfer (automatic)</td>\n",
              "      <td>21.15</td>\n",
              "      <td>1419.40</td>\n",
              "      <td>No</td>\n",
              "      <td>0</td>\n",
              "      <td>45</td>\n",
              "      <td>5306</td>\n",
              "      <td>NaN</td>\n",
              "    </tr>\n",
              "    <tr>\n",
              "      <th>7039</th>\n",
              "      <td>6840-RESVB</td>\n",
              "      <td>1</td>\n",
              "      <td>United States</td>\n",
              "      <td>California</td>\n",
              "      <td>Adelanto</td>\n",
              "      <td>92301</td>\n",
              "      <td>34.667815, -117.536183</td>\n",
              "      <td>34.667815</td>\n",
              "      <td>-117.536183</td>\n",
              "      <td>Male</td>\n",
              "      <td>...</td>\n",
              "      <td>One year</td>\n",
              "      <td>Yes</td>\n",
              "      <td>Mailed check</td>\n",
              "      <td>84.80</td>\n",
              "      <td>1990.50</td>\n",
              "      <td>No</td>\n",
              "      <td>0</td>\n",
              "      <td>59</td>\n",
              "      <td>2140</td>\n",
              "      <td>NaN</td>\n",
              "    </tr>\n",
              "    <tr>\n",
              "      <th>7040</th>\n",
              "      <td>2234-XADUH</td>\n",
              "      <td>1</td>\n",
              "      <td>United States</td>\n",
              "      <td>California</td>\n",
              "      <td>Amboy</td>\n",
              "      <td>92304</td>\n",
              "      <td>34.559882, -115.637164</td>\n",
              "      <td>34.559882</td>\n",
              "      <td>-115.637164</td>\n",
              "      <td>Female</td>\n",
              "      <td>...</td>\n",
              "      <td>One year</td>\n",
              "      <td>Yes</td>\n",
              "      <td>Credit card (automatic)</td>\n",
              "      <td>103.20</td>\n",
              "      <td>7362.90</td>\n",
              "      <td>No</td>\n",
              "      <td>0</td>\n",
              "      <td>71</td>\n",
              "      <td>5560</td>\n",
              "      <td>NaN</td>\n",
              "    </tr>\n",
              "    <tr>\n",
              "      <th>7041</th>\n",
              "      <td>4801-JZAZL</td>\n",
              "      <td>1</td>\n",
              "      <td>United States</td>\n",
              "      <td>California</td>\n",
              "      <td>Angelus Oaks</td>\n",
              "      <td>92305</td>\n",
              "      <td>34.1678, -116.86433</td>\n",
              "      <td>34.167800</td>\n",
              "      <td>-116.864330</td>\n",
              "      <td>Female</td>\n",
              "      <td>...</td>\n",
              "      <td>Month-to-month</td>\n",
              "      <td>Yes</td>\n",
              "      <td>Electronic check</td>\n",
              "      <td>29.60</td>\n",
              "      <td>346.45</td>\n",
              "      <td>No</td>\n",
              "      <td>0</td>\n",
              "      <td>59</td>\n",
              "      <td>2793</td>\n",
              "      <td>NaN</td>\n",
              "    </tr>\n",
              "    <tr>\n",
              "      <th>7042</th>\n",
              "      <td>3186-AJIEK</td>\n",
              "      <td>1</td>\n",
              "      <td>United States</td>\n",
              "      <td>California</td>\n",
              "      <td>Apple Valley</td>\n",
              "      <td>92308</td>\n",
              "      <td>34.424926, -117.184503</td>\n",
              "      <td>34.424926</td>\n",
              "      <td>-117.184503</td>\n",
              "      <td>Male</td>\n",
              "      <td>...</td>\n",
              "      <td>Two year</td>\n",
              "      <td>Yes</td>\n",
              "      <td>Bank transfer (automatic)</td>\n",
              "      <td>105.65</td>\n",
              "      <td>6844.50</td>\n",
              "      <td>No</td>\n",
              "      <td>0</td>\n",
              "      <td>38</td>\n",
              "      <td>5097</td>\n",
              "      <td>NaN</td>\n",
              "    </tr>\n",
              "  </tbody>\n",
              "</table>\n",
              "<p>7043 rows × 33 columns</p>\n",
              "</div>\n",
              "      <button class=\"colab-df-convert\" onclick=\"convertToInteractive('df-63780787-b0c6-41f1-b341-e4d00b845765')\"\n",
              "              title=\"Convert this dataframe to an interactive table.\"\n",
              "              style=\"display:none;\">\n",
              "        \n",
              "  <svg xmlns=\"http://www.w3.org/2000/svg\" height=\"24px\"viewBox=\"0 0 24 24\"\n",
              "       width=\"24px\">\n",
              "    <path d=\"M0 0h24v24H0V0z\" fill=\"none\"/>\n",
              "    <path d=\"M18.56 5.44l.94 2.06.94-2.06 2.06-.94-2.06-.94-.94-2.06-.94 2.06-2.06.94zm-11 1L8.5 8.5l.94-2.06 2.06-.94-2.06-.94L8.5 2.5l-.94 2.06-2.06.94zm10 10l.94 2.06.94-2.06 2.06-.94-2.06-.94-.94-2.06-.94 2.06-2.06.94z\"/><path d=\"M17.41 7.96l-1.37-1.37c-.4-.4-.92-.59-1.43-.59-.52 0-1.04.2-1.43.59L10.3 9.45l-7.72 7.72c-.78.78-.78 2.05 0 2.83L4 21.41c.39.39.9.59 1.41.59.51 0 1.02-.2 1.41-.59l7.78-7.78 2.81-2.81c.8-.78.8-2.07 0-2.86zM5.41 20L4 18.59l7.72-7.72 1.47 1.35L5.41 20z\"/>\n",
              "  </svg>\n",
              "      </button>\n",
              "      \n",
              "  <style>\n",
              "    .colab-df-container {\n",
              "      display:flex;\n",
              "      flex-wrap:wrap;\n",
              "      gap: 12px;\n",
              "    }\n",
              "\n",
              "    .colab-df-convert {\n",
              "      background-color: #E8F0FE;\n",
              "      border: none;\n",
              "      border-radius: 50%;\n",
              "      cursor: pointer;\n",
              "      display: none;\n",
              "      fill: #1967D2;\n",
              "      height: 32px;\n",
              "      padding: 0 0 0 0;\n",
              "      width: 32px;\n",
              "    }\n",
              "\n",
              "    .colab-df-convert:hover {\n",
              "      background-color: #E2EBFA;\n",
              "      box-shadow: 0px 1px 2px rgba(60, 64, 67, 0.3), 0px 1px 3px 1px rgba(60, 64, 67, 0.15);\n",
              "      fill: #174EA6;\n",
              "    }\n",
              "\n",
              "    [theme=dark] .colab-df-convert {\n",
              "      background-color: #3B4455;\n",
              "      fill: #D2E3FC;\n",
              "    }\n",
              "\n",
              "    [theme=dark] .colab-df-convert:hover {\n",
              "      background-color: #434B5C;\n",
              "      box-shadow: 0px 1px 3px 1px rgba(0, 0, 0, 0.15);\n",
              "      filter: drop-shadow(0px 1px 2px rgba(0, 0, 0, 0.3));\n",
              "      fill: #FFFFFF;\n",
              "    }\n",
              "  </style>\n",
              "\n",
              "      <script>\n",
              "        const buttonEl =\n",
              "          document.querySelector('#df-63780787-b0c6-41f1-b341-e4d00b845765 button.colab-df-convert');\n",
              "        buttonEl.style.display =\n",
              "          google.colab.kernel.accessAllowed ? 'block' : 'none';\n",
              "\n",
              "        async function convertToInteractive(key) {\n",
              "          const element = document.querySelector('#df-63780787-b0c6-41f1-b341-e4d00b845765');\n",
              "          const dataTable =\n",
              "            await google.colab.kernel.invokeFunction('convertToInteractive',\n",
              "                                                     [key], {});\n",
              "          if (!dataTable) return;\n",
              "\n",
              "          const docLinkHtml = 'Like what you see? Visit the ' +\n",
              "            '<a target=\"_blank\" href=https://colab.research.google.com/notebooks/data_table.ipynb>data table notebook</a>'\n",
              "            + ' to learn more about interactive tables.';\n",
              "          element.innerHTML = '';\n",
              "          dataTable['output_type'] = 'display_data';\n",
              "          await google.colab.output.renderOutput(dataTable, element);\n",
              "          const docLink = document.createElement('div');\n",
              "          docLink.innerHTML = docLinkHtml;\n",
              "          element.appendChild(docLink);\n",
              "        }\n",
              "      </script>\n",
              "    </div>\n",
              "  </div>\n",
              "  "
            ]
          },
          "metadata": {},
          "execution_count": 169
        }
      ],
      "source": [
        "df['Total Charges'] = pd.to_numeric(df['Total Charges'],errors='coerce')#pd.to_numeric is an inbuilt function which is used to convert an argument like object into a numeric data type\n",
        "df                                                                       "
      ]
    },
    {
      "cell_type": "code",
      "execution_count": 170,
      "metadata": {
        "colab": {
          "base_uri": "https://localhost:8080/"
        },
        "id": "dQ21sf2cnJau",
        "outputId": "23e62cb0-3d55-4a52-9f6d-4b0a0cbd85f0"
      },
      "outputs": [
        {
          "output_type": "execute_result",
          "data": {
            "text/plain": [
              "CustomerID            object\n",
              "Count                  int64\n",
              "Country               object\n",
              "State                 object\n",
              "City                  object\n",
              "Zip Code               int64\n",
              "Lat Long              object\n",
              "Latitude             float64\n",
              "Longitude            float64\n",
              "Gender                object\n",
              "Senior Citizen        object\n",
              "Partner               object\n",
              "Dependents            object\n",
              "Tenure Months          int64\n",
              "Phone Service         object\n",
              "Multiple Lines        object\n",
              "Internet Service      object\n",
              "Online Security       object\n",
              "Online Backup         object\n",
              "Device Protection     object\n",
              "Tech Support          object\n",
              "Streaming TV          object\n",
              "Streaming Movies      object\n",
              "Contract              object\n",
              "Paperless Billing     object\n",
              "Payment Method        object\n",
              "Monthly Charges      float64\n",
              "Total Charges        float64\n",
              "Churn Label           object\n",
              "Churn Value            int64\n",
              "Churn Score            int64\n",
              "CLTV                   int64\n",
              "Churn Reason          object\n",
              "dtype: object"
            ]
          },
          "metadata": {},
          "execution_count": 170
        }
      ],
      "source": [
        "df.dtypes"
      ]
    },
    {
      "cell_type": "markdown",
      "metadata": {
        "id": "_SQ0EammnPLt"
      },
      "source": [
        "now the data type of Total Charges will be changed from object to float64."
      ]
    },
    {
      "cell_type": "markdown",
      "metadata": {
        "id": "ZK8Xl9wUNt6m"
      },
      "source": [
        "Please apply appropriate statistical measures using python based on data types."
      ]
    },
    {
      "cell_type": "markdown",
      "metadata": {
        "id": "FWnKgSejyBRN"
      },
      "source": [
        "The statistical measures are of two types:1.Measures of central tendency which comprises of mean,median,and mode while the other is 2.Measures of Dispersion which comprises of standard deviation which is represented as std,variance which is represented as var,interquartile range which is represented as iqr and max,min."
      ]
    },
    {
      "cell_type": "code",
      "execution_count": 76,
      "metadata": {
        "colab": {
          "base_uri": "https://localhost:8080/",
          "height": 438
        },
        "id": "Pu8mrq0TUsni",
        "outputId": "66b12246-aee7-45e7-d5a7-938e2b5a2502"
      },
      "outputs": [
        {
          "output_type": "execute_result",
          "data": {
            "text/plain": [
              "   CustomerID  Count        Country       State         City  Zip Code  \\\n",
              "0  3668-QPYBK      1  United States  California  Los Angeles     90003   \n",
              "1  9237-HQITU      1  United States  California  Los Angeles     90005   \n",
              "2  9305-CDSKC      1  United States  California  Los Angeles     90006   \n",
              "3  7892-POOKP      1  United States  California  Los Angeles     90010   \n",
              "4  0280-XJGEX      1  United States  California  Los Angeles     90015   \n",
              "\n",
              "                 Lat Long   Latitude   Longitude  Gender  ...        Contract  \\\n",
              "0  33.964131, -118.272783  33.964131 -118.272783    Male  ...  Month-to-month   \n",
              "1   34.059281, -118.30742  34.059281 -118.307420  Female  ...  Month-to-month   \n",
              "2  34.048013, -118.293953  34.048013 -118.293953  Female  ...  Month-to-month   \n",
              "3  34.062125, -118.315709  34.062125 -118.315709  Female  ...  Month-to-month   \n",
              "4  34.039224, -118.266293  34.039224 -118.266293    Male  ...  Month-to-month   \n",
              "\n",
              "  Paperless Billing             Payment Method  Monthly Charges Total Charges  \\\n",
              "0               Yes               Mailed check            53.85        108.15   \n",
              "1               Yes           Electronic check            70.70        151.65   \n",
              "2               Yes           Electronic check            99.65        820.50   \n",
              "3               Yes           Electronic check           104.80       3046.05   \n",
              "4               Yes  Bank transfer (automatic)           103.70       5036.30   \n",
              "\n",
              "  Churn Label Churn Value Churn Score  CLTV                   Churn Reason  \n",
              "0         Yes           1          86  3239   Competitor made better offer  \n",
              "1         Yes           1          67  2701                          Moved  \n",
              "2         Yes           1          86  5372                          Moved  \n",
              "3         Yes           1          84  5003                          Moved  \n",
              "4         Yes           1          89  5340  Competitor had better devices  \n",
              "\n",
              "[5 rows x 33 columns]"
            ],
            "text/html": [
              "\n",
              "  <div id=\"df-64c7ad29-67c2-477f-bf88-16daedd11cfb\">\n",
              "    <div class=\"colab-df-container\">\n",
              "      <div>\n",
              "<style scoped>\n",
              "    .dataframe tbody tr th:only-of-type {\n",
              "        vertical-align: middle;\n",
              "    }\n",
              "\n",
              "    .dataframe tbody tr th {\n",
              "        vertical-align: top;\n",
              "    }\n",
              "\n",
              "    .dataframe thead th {\n",
              "        text-align: right;\n",
              "    }\n",
              "</style>\n",
              "<table border=\"1\" class=\"dataframe\">\n",
              "  <thead>\n",
              "    <tr style=\"text-align: right;\">\n",
              "      <th></th>\n",
              "      <th>CustomerID</th>\n",
              "      <th>Count</th>\n",
              "      <th>Country</th>\n",
              "      <th>State</th>\n",
              "      <th>City</th>\n",
              "      <th>Zip Code</th>\n",
              "      <th>Lat Long</th>\n",
              "      <th>Latitude</th>\n",
              "      <th>Longitude</th>\n",
              "      <th>Gender</th>\n",
              "      <th>...</th>\n",
              "      <th>Contract</th>\n",
              "      <th>Paperless Billing</th>\n",
              "      <th>Payment Method</th>\n",
              "      <th>Monthly Charges</th>\n",
              "      <th>Total Charges</th>\n",
              "      <th>Churn Label</th>\n",
              "      <th>Churn Value</th>\n",
              "      <th>Churn Score</th>\n",
              "      <th>CLTV</th>\n",
              "      <th>Churn Reason</th>\n",
              "    </tr>\n",
              "  </thead>\n",
              "  <tbody>\n",
              "    <tr>\n",
              "      <th>0</th>\n",
              "      <td>3668-QPYBK</td>\n",
              "      <td>1</td>\n",
              "      <td>United States</td>\n",
              "      <td>California</td>\n",
              "      <td>Los Angeles</td>\n",
              "      <td>90003</td>\n",
              "      <td>33.964131, -118.272783</td>\n",
              "      <td>33.964131</td>\n",
              "      <td>-118.272783</td>\n",
              "      <td>Male</td>\n",
              "      <td>...</td>\n",
              "      <td>Month-to-month</td>\n",
              "      <td>Yes</td>\n",
              "      <td>Mailed check</td>\n",
              "      <td>53.85</td>\n",
              "      <td>108.15</td>\n",
              "      <td>Yes</td>\n",
              "      <td>1</td>\n",
              "      <td>86</td>\n",
              "      <td>3239</td>\n",
              "      <td>Competitor made better offer</td>\n",
              "    </tr>\n",
              "    <tr>\n",
              "      <th>1</th>\n",
              "      <td>9237-HQITU</td>\n",
              "      <td>1</td>\n",
              "      <td>United States</td>\n",
              "      <td>California</td>\n",
              "      <td>Los Angeles</td>\n",
              "      <td>90005</td>\n",
              "      <td>34.059281, -118.30742</td>\n",
              "      <td>34.059281</td>\n",
              "      <td>-118.307420</td>\n",
              "      <td>Female</td>\n",
              "      <td>...</td>\n",
              "      <td>Month-to-month</td>\n",
              "      <td>Yes</td>\n",
              "      <td>Electronic check</td>\n",
              "      <td>70.70</td>\n",
              "      <td>151.65</td>\n",
              "      <td>Yes</td>\n",
              "      <td>1</td>\n",
              "      <td>67</td>\n",
              "      <td>2701</td>\n",
              "      <td>Moved</td>\n",
              "    </tr>\n",
              "    <tr>\n",
              "      <th>2</th>\n",
              "      <td>9305-CDSKC</td>\n",
              "      <td>1</td>\n",
              "      <td>United States</td>\n",
              "      <td>California</td>\n",
              "      <td>Los Angeles</td>\n",
              "      <td>90006</td>\n",
              "      <td>34.048013, -118.293953</td>\n",
              "      <td>34.048013</td>\n",
              "      <td>-118.293953</td>\n",
              "      <td>Female</td>\n",
              "      <td>...</td>\n",
              "      <td>Month-to-month</td>\n",
              "      <td>Yes</td>\n",
              "      <td>Electronic check</td>\n",
              "      <td>99.65</td>\n",
              "      <td>820.50</td>\n",
              "      <td>Yes</td>\n",
              "      <td>1</td>\n",
              "      <td>86</td>\n",
              "      <td>5372</td>\n",
              "      <td>Moved</td>\n",
              "    </tr>\n",
              "    <tr>\n",
              "      <th>3</th>\n",
              "      <td>7892-POOKP</td>\n",
              "      <td>1</td>\n",
              "      <td>United States</td>\n",
              "      <td>California</td>\n",
              "      <td>Los Angeles</td>\n",
              "      <td>90010</td>\n",
              "      <td>34.062125, -118.315709</td>\n",
              "      <td>34.062125</td>\n",
              "      <td>-118.315709</td>\n",
              "      <td>Female</td>\n",
              "      <td>...</td>\n",
              "      <td>Month-to-month</td>\n",
              "      <td>Yes</td>\n",
              "      <td>Electronic check</td>\n",
              "      <td>104.80</td>\n",
              "      <td>3046.05</td>\n",
              "      <td>Yes</td>\n",
              "      <td>1</td>\n",
              "      <td>84</td>\n",
              "      <td>5003</td>\n",
              "      <td>Moved</td>\n",
              "    </tr>\n",
              "    <tr>\n",
              "      <th>4</th>\n",
              "      <td>0280-XJGEX</td>\n",
              "      <td>1</td>\n",
              "      <td>United States</td>\n",
              "      <td>California</td>\n",
              "      <td>Los Angeles</td>\n",
              "      <td>90015</td>\n",
              "      <td>34.039224, -118.266293</td>\n",
              "      <td>34.039224</td>\n",
              "      <td>-118.266293</td>\n",
              "      <td>Male</td>\n",
              "      <td>...</td>\n",
              "      <td>Month-to-month</td>\n",
              "      <td>Yes</td>\n",
              "      <td>Bank transfer (automatic)</td>\n",
              "      <td>103.70</td>\n",
              "      <td>5036.30</td>\n",
              "      <td>Yes</td>\n",
              "      <td>1</td>\n",
              "      <td>89</td>\n",
              "      <td>5340</td>\n",
              "      <td>Competitor had better devices</td>\n",
              "    </tr>\n",
              "  </tbody>\n",
              "</table>\n",
              "<p>5 rows × 33 columns</p>\n",
              "</div>\n",
              "      <button class=\"colab-df-convert\" onclick=\"convertToInteractive('df-64c7ad29-67c2-477f-bf88-16daedd11cfb')\"\n",
              "              title=\"Convert this dataframe to an interactive table.\"\n",
              "              style=\"display:none;\">\n",
              "        \n",
              "  <svg xmlns=\"http://www.w3.org/2000/svg\" height=\"24px\"viewBox=\"0 0 24 24\"\n",
              "       width=\"24px\">\n",
              "    <path d=\"M0 0h24v24H0V0z\" fill=\"none\"/>\n",
              "    <path d=\"M18.56 5.44l.94 2.06.94-2.06 2.06-.94-2.06-.94-.94-2.06-.94 2.06-2.06.94zm-11 1L8.5 8.5l.94-2.06 2.06-.94-2.06-.94L8.5 2.5l-.94 2.06-2.06.94zm10 10l.94 2.06.94-2.06 2.06-.94-2.06-.94-.94-2.06-.94 2.06-2.06.94z\"/><path d=\"M17.41 7.96l-1.37-1.37c-.4-.4-.92-.59-1.43-.59-.52 0-1.04.2-1.43.59L10.3 9.45l-7.72 7.72c-.78.78-.78 2.05 0 2.83L4 21.41c.39.39.9.59 1.41.59.51 0 1.02-.2 1.41-.59l7.78-7.78 2.81-2.81c.8-.78.8-2.07 0-2.86zM5.41 20L4 18.59l7.72-7.72 1.47 1.35L5.41 20z\"/>\n",
              "  </svg>\n",
              "      </button>\n",
              "      \n",
              "  <style>\n",
              "    .colab-df-container {\n",
              "      display:flex;\n",
              "      flex-wrap:wrap;\n",
              "      gap: 12px;\n",
              "    }\n",
              "\n",
              "    .colab-df-convert {\n",
              "      background-color: #E8F0FE;\n",
              "      border: none;\n",
              "      border-radius: 50%;\n",
              "      cursor: pointer;\n",
              "      display: none;\n",
              "      fill: #1967D2;\n",
              "      height: 32px;\n",
              "      padding: 0 0 0 0;\n",
              "      width: 32px;\n",
              "    }\n",
              "\n",
              "    .colab-df-convert:hover {\n",
              "      background-color: #E2EBFA;\n",
              "      box-shadow: 0px 1px 2px rgba(60, 64, 67, 0.3), 0px 1px 3px 1px rgba(60, 64, 67, 0.15);\n",
              "      fill: #174EA6;\n",
              "    }\n",
              "\n",
              "    [theme=dark] .colab-df-convert {\n",
              "      background-color: #3B4455;\n",
              "      fill: #D2E3FC;\n",
              "    }\n",
              "\n",
              "    [theme=dark] .colab-df-convert:hover {\n",
              "      background-color: #434B5C;\n",
              "      box-shadow: 0px 1px 3px 1px rgba(0, 0, 0, 0.15);\n",
              "      filter: drop-shadow(0px 1px 2px rgba(0, 0, 0, 0.3));\n",
              "      fill: #FFFFFF;\n",
              "    }\n",
              "  </style>\n",
              "\n",
              "      <script>\n",
              "        const buttonEl =\n",
              "          document.querySelector('#df-64c7ad29-67c2-477f-bf88-16daedd11cfb button.colab-df-convert');\n",
              "        buttonEl.style.display =\n",
              "          google.colab.kernel.accessAllowed ? 'block' : 'none';\n",
              "\n",
              "        async function convertToInteractive(key) {\n",
              "          const element = document.querySelector('#df-64c7ad29-67c2-477f-bf88-16daedd11cfb');\n",
              "          const dataTable =\n",
              "            await google.colab.kernel.invokeFunction('convertToInteractive',\n",
              "                                                     [key], {});\n",
              "          if (!dataTable) return;\n",
              "\n",
              "          const docLinkHtml = 'Like what you see? Visit the ' +\n",
              "            '<a target=\"_blank\" href=https://colab.research.google.com/notebooks/data_table.ipynb>data table notebook</a>'\n",
              "            + ' to learn more about interactive tables.';\n",
              "          element.innerHTML = '';\n",
              "          dataTable['output_type'] = 'display_data';\n",
              "          await google.colab.output.renderOutput(dataTable, element);\n",
              "          const docLink = document.createElement('div');\n",
              "          docLink.innerHTML = docLinkHtml;\n",
              "          element.appendChild(docLink);\n",
              "        }\n",
              "      </script>\n",
              "    </div>\n",
              "  </div>\n",
              "  "
            ]
          },
          "metadata": {},
          "execution_count": 76
        }
      ],
      "source": [
        "df.head(5)  #head()function reads the first 5 records."
      ]
    },
    {
      "cell_type": "markdown",
      "metadata": {
        "id": "T6SIP1S7WKaY"
      },
      "source": [
        "**Mean()**\n",
        "\n",
        "mean()function gives the mean of the values for the requested axis\n",
        "mean is commonly used for Discrete and continuous data,not applicable for nominal and ordinal level of data except for when we have dichotomous data.\n",
        "\n",
        "mean() is extremely sensitive to outliers.\n",
        "                    "
      ]
    },
    {
      "cell_type": "code",
      "execution_count": 77,
      "metadata": {
        "colab": {
          "base_uri": "https://localhost:8080/"
        },
        "id": "4Ox_gQEFO53c",
        "outputId": "40f475a3-5fd9-4ee9-c1c5-5d1218d68549"
      },
      "outputs": [
        {
          "output_type": "stream",
          "name": "stderr",
          "text": [
            "/usr/local/lib/python3.7/dist-packages/ipykernel_launcher.py:1: FutureWarning: Dropping of nuisance columns in DataFrame reductions (with 'numeric_only=None') is deprecated; in a future version this will raise TypeError.  Select only valid columns before calling the reduction.\n",
            "  \"\"\"Entry point for launching an IPython kernel.\n"
          ]
        },
        {
          "output_type": "execute_result",
          "data": {
            "text/plain": [
              "Count                  1.000000\n",
              "Zip Code           93521.964646\n",
              "Latitude              36.282441\n",
              "Longitude           -119.798880\n",
              "Tenure Months         32.371149\n",
              "Monthly Charges       64.761692\n",
              "Total Charges       2283.300441\n",
              "Churn Value            0.265370\n",
              "Churn Score           58.699418\n",
              "CLTV                4400.295755\n",
              "dtype: float64"
            ]
          },
          "metadata": {},
          "execution_count": 77
        }
      ],
      "source": [
        "df.mean()  #mean()function gives the mean of the values for the requested axis\n",
        "                    #mean is commonly used for Discrete and continuous data,not applicable for nominal and ordinal level of data except for when we have dichotomous data\n",
        "                    "
      ]
    },
    {
      "cell_type": "markdown",
      "metadata": {
        "id": "OCDYMvepRdxp"
      },
      "source": [
        "From the above code it is to be noted that the mean of 'Count' is 1,while for Zip Code the mean is 93521.964646,while for latitude and for longitude the mean is 36.282441 and -119.798880 respectively,whereas the mean of Tenure Months,Monthly charges,Total Charges is 32.371149,64.761692 and 2283.300441.While coming to the Churn Value,Churn Score and CLTV the mean values are as follows\n",
        "0.265370,58.699418 and 4400.295755 respectively."
      ]
    },
    {
      "cell_type": "markdown",
      "metadata": {
        "id": "9jLxDlnhRw56"
      },
      "source": [
        "Median()\n",
        "\n",
        "Basically it is defined as the 50th percentile of the set of measurements,when observed measurements are ranked from smallest to highest. It is not Sensitive to Outliers. Commonly used by Discrete and Continuous data."
      ]
    },
    {
      "cell_type": "code",
      "execution_count": 78,
      "metadata": {
        "colab": {
          "base_uri": "https://localhost:8080/"
        },
        "id": "cSb8nOxTPktY",
        "outputId": "a0a52aa0-c804-4c85-b43e-6cf9534f7b0d"
      },
      "outputs": [
        {
          "output_type": "stream",
          "name": "stderr",
          "text": [
            "/usr/local/lib/python3.7/dist-packages/ipykernel_launcher.py:1: FutureWarning: Dropping of nuisance columns in DataFrame reductions (with 'numeric_only=None') is deprecated; in a future version this will raise TypeError.  Select only valid columns before calling the reduction.\n",
            "  \"\"\"Entry point for launching an IPython kernel.\n"
          ]
        },
        {
          "output_type": "execute_result",
          "data": {
            "text/plain": [
              "Count                  1.000000\n",
              "Zip Code           93552.000000\n",
              "Latitude              36.391777\n",
              "Longitude           -119.730885\n",
              "Tenure Months         29.000000\n",
              "Monthly Charges       70.350000\n",
              "Total Charges       1397.475000\n",
              "Churn Value            0.000000\n",
              "Churn Score           61.000000\n",
              "CLTV                4527.000000\n",
              "dtype: float64"
            ]
          },
          "metadata": {},
          "execution_count": 78
        }
      ],
      "source": [
        "df.median()         #median function() gives the median value that is 50th percentile of the set of all observations."
      ]
    },
    {
      "cell_type": "markdown",
      "metadata": {
        "id": "hL1QvECbR7ko"
      },
      "source": [
        "From the above code it is to be noted that the median() of Count is 1,while the median value for Zip Code is 93552.000000.While coming to Latitude,Longitude,Tenure Months,Monthly Charges,Total Charges the median values are as follows 36.391777,-119.730885,29.000000,70.350000,1397.475000.The median values () of Churn Value ,Churn Score and CLTV are as follows:0.000000,61.000000,4527.000000"
      ]
    },
    {
      "cell_type": "markdown",
      "source": [
        "Mode()\n",
        "\n",
        "Mode() function is used for numerical as well as for Categorical data types.it is used to know about the observations that occurs more frequently."
      ],
      "metadata": {
        "id": "cg5wZIkJegOu"
      }
    },
    {
      "cell_type": "code",
      "source": [
        "df['Longitude'].mode()"
      ],
      "metadata": {
        "colab": {
          "base_uri": "https://localhost:8080/"
        },
        "id": "jMHCc9fyENGg",
        "outputId": "e744228d-9b56-475b-896b-73652950b7b5"
      },
      "execution_count": 178,
      "outputs": [
        {
          "output_type": "execute_result",
          "data": {
            "text/plain": [
              "0   -121.994813\n",
              "dtype: float64"
            ]
          },
          "metadata": {},
          "execution_count": 178
        }
      ]
    },
    {
      "cell_type": "markdown",
      "source": [
        "From the above code it is to be noted that the mode() of Longitude and tenure months is -121.994813, and 1."
      ],
      "metadata": {
        "id": "vkSVJVSRmm70"
      }
    },
    {
      "cell_type": "code",
      "source": [
        "df['Payment Method'].mode()"
      ],
      "metadata": {
        "colab": {
          "base_uri": "https://localhost:8080/"
        },
        "id": "CHgoCDTJElp7",
        "outputId": "44d04ff3-ca6e-491a-a5db-8cd283de9303"
      },
      "execution_count": 179,
      "outputs": [
        {
          "output_type": "execute_result",
          "data": {
            "text/plain": [
              "0    Electronic check\n",
              "dtype: object"
            ]
          },
          "metadata": {},
          "execution_count": 179
        }
      ]
    },
    {
      "cell_type": "code",
      "source": [
        "df['Gender'].mode()"
      ],
      "metadata": {
        "colab": {
          "base_uri": "https://localhost:8080/"
        },
        "id": "hw7vqFhOEXLw",
        "outputId": "3164c929-f9eb-4ffb-f4e6-b88e19654191"
      },
      "execution_count": 180,
      "outputs": [
        {
          "output_type": "execute_result",
          "data": {
            "text/plain": [
              "0    Male\n",
              "dtype: object"
            ]
          },
          "metadata": {},
          "execution_count": 180
        }
      ]
    },
    {
      "cell_type": "code",
      "source": [
        "df['Paperless Billing'].mode()\n"
      ],
      "metadata": {
        "colab": {
          "base_uri": "https://localhost:8080/"
        },
        "id": "ihdvOaB8FLbR",
        "outputId": "872199b1-ff39-45f5-f284-55909b3047af"
      },
      "execution_count": 184,
      "outputs": [
        {
          "output_type": "execute_result",
          "data": {
            "text/plain": [
              "0    Yes\n",
              "dtype: object"
            ]
          },
          "metadata": {},
          "execution_count": 184
        }
      ]
    },
    {
      "cell_type": "markdown",
      "source": [
        "The mode() of Paperless Billing is Yes.From this we can come to the analysis that majority of the customers had been opted for paperless billing."
      ],
      "metadata": {
        "id": "fU3k7Msjo3mo"
      }
    },
    {
      "cell_type": "code",
      "source": [
        "df['Contract'].mode()"
      ],
      "metadata": {
        "colab": {
          "base_uri": "https://localhost:8080/"
        },
        "id": "vwnSt4wfFkTN",
        "outputId": "7c67f26b-352f-4897-e6bf-6ce50e81e754"
      },
      "execution_count": 186,
      "outputs": [
        {
          "output_type": "execute_result",
          "data": {
            "text/plain": [
              "0    Month-to-month\n",
              "dtype: object"
            ]
          },
          "metadata": {},
          "execution_count": 186
        }
      ]
    },
    {
      "cell_type": "markdown",
      "source": [
        "The mode() of Contract is month-to-month.From this we can come to the analysis that majority of the Customers had been opted for month-to-month Contract."
      ],
      "metadata": {
        "id": "0tR5iVotp4tK"
      }
    },
    {
      "cell_type": "code",
      "source": [
        "df['Internet Service'].mode()"
      ],
      "metadata": {
        "colab": {
          "base_uri": "https://localhost:8080/"
        },
        "id": "KcrDnBCsGC7R",
        "outputId": "051fc854-d9f4-498b-e7af-6452dce00173"
      },
      "execution_count": 188,
      "outputs": [
        {
          "output_type": "execute_result",
          "data": {
            "text/plain": [
              "0    Fiber optic\n",
              "dtype: object"
            ]
          },
          "metadata": {},
          "execution_count": 188
        }
      ]
    },
    {
      "cell_type": "markdown",
      "source": [
        "The mode() of Internet Service is Fiber Optic.It is to be known that majority of the customers choose Fiber Optic as their Internet Service."
      ],
      "metadata": {
        "id": "Q7U_8Am6spOe"
      }
    },
    {
      "cell_type": "code",
      "source": [
        "df['Monthly Charges'].mode()"
      ],
      "metadata": {
        "colab": {
          "base_uri": "https://localhost:8080/"
        },
        "id": "qjwKuPEaE7h4",
        "outputId": "3312c3dc-f7e7-4cd5-ef1f-c875702b115e"
      },
      "execution_count": 181,
      "outputs": [
        {
          "output_type": "execute_result",
          "data": {
            "text/plain": [
              "0    20.05\n",
              "dtype: float64"
            ]
          },
          "metadata": {},
          "execution_count": 181
        }
      ]
    },
    {
      "cell_type": "markdown",
      "source": [
        "The mode() of Monthly Charges is 20.5."
      ],
      "metadata": {
        "id": "xzs2HM5twehx"
      }
    },
    {
      "cell_type": "code",
      "source": [
        "df['Total Charges'].mode()"
      ],
      "metadata": {
        "colab": {
          "base_uri": "https://localhost:8080/"
        },
        "id": "7PNW7_PoF5q6",
        "outputId": "87ab722a-563f-4d36-e4db-dfbb8d819293"
      },
      "execution_count": 187,
      "outputs": [
        {
          "output_type": "execute_result",
          "data": {
            "text/plain": [
              "0    20.2\n",
              "dtype: float64"
            ]
          },
          "metadata": {},
          "execution_count": 187
        }
      ]
    },
    {
      "cell_type": "markdown",
      "source": [
        "The mode() of Total Charges is 20.2"
      ],
      "metadata": {
        "id": "G9za9dkdwt4Z"
      }
    },
    {
      "cell_type": "code",
      "source": [
        "df['Churn Label'].mode()"
      ],
      "metadata": {
        "colab": {
          "base_uri": "https://localhost:8080/"
        },
        "id": "upK3fEwjGWOQ",
        "outputId": "0e990232-d96b-4934-9fda-0333ac3a9bef"
      },
      "execution_count": 189,
      "outputs": [
        {
          "output_type": "execute_result",
          "data": {
            "text/plain": [
              "0    No\n",
              "dtype: object"
            ]
          },
          "metadata": {},
          "execution_count": 189
        }
      ]
    },
    {
      "cell_type": "markdown",
      "source": [
        "The most frequently occured Churn Label is No. It means that majority of the customers had remained with the company this quarter."
      ],
      "metadata": {
        "id": "S6Cxz5SQxVA_"
      }
    },
    {
      "cell_type": "markdown",
      "source": [
        "**Standard deviation**()\n",
        "\n",
        "It is a measure of the amount of variation or dispersion of a set of values.It is nothing but the square root of variance."
      ],
      "metadata": {
        "id": "tNBJU2QmzOvp"
      }
    },
    {
      "cell_type": "code",
      "source": [
        "df.std()"
      ],
      "metadata": {
        "colab": {
          "base_uri": "https://localhost:8080/"
        },
        "id": "lbur7M0g4BYH",
        "outputId": "9f643a82-0745-408e-f411-189bbdd612fb"
      },
      "execution_count": 80,
      "outputs": [
        {
          "output_type": "stream",
          "name": "stderr",
          "text": [
            "/usr/local/lib/python3.7/dist-packages/ipykernel_launcher.py:1: FutureWarning: Dropping of nuisance columns in DataFrame reductions (with 'numeric_only=None') is deprecated; in a future version this will raise TypeError.  Select only valid columns before calling the reduction.\n",
            "  \"\"\"Entry point for launching an IPython kernel.\n"
          ]
        },
        {
          "output_type": "execute_result",
          "data": {
            "text/plain": [
              "Count                 0.000000\n",
              "Zip Code           1865.794555\n",
              "Latitude              2.455723\n",
              "Longitude             2.157889\n",
              "Tenure Months        24.559481\n",
              "Monthly Charges      30.090047\n",
              "Total Charges      2266.771362\n",
              "Churn Value           0.441561\n",
              "Churn Score          21.525131\n",
              "CLTV               1183.057152\n",
              "dtype: float64"
            ]
          },
          "metadata": {},
          "execution_count": 80
        }
      ]
    },
    {
      "cell_type": "markdown",
      "source": [
        "From the above code it is to be known that standard deviation value of Count is 0.000000 while Zip Code is 1865.794555,while coming to Latitudes and Longitudes the standard deviation is 2.455723,2.157889.The std() value of Monthly and Total Charges are as follows:30.090047,2266.771362.The Churn value ,Churn Score and CLTV standard deviation values are as follows: 0.441561,21.525131 and 1183.057152"
      ],
      "metadata": {
        "id": "8ADqQ0YCGBSx"
      }
    },
    {
      "cell_type": "markdown",
      "source": [
        "**VARIANCE**\n",
        "Variance is a measure of dispersion that takes into account the spread of all data points in a data set.Normally,it is used along with the standard deviation which is known as the square root of variance."
      ],
      "metadata": {
        "id": "jjzpNeqBKnWO"
      }
    },
    {
      "cell_type": "code",
      "source": [
        "df.var()"
      ],
      "metadata": {
        "colab": {
          "base_uri": "https://localhost:8080/"
        },
        "id": "D9RnuVwsIU3z",
        "outputId": "ee9bf620-1d2a-4832-f52b-46074129f432"
      },
      "execution_count": 81,
      "outputs": [
        {
          "output_type": "stream",
          "name": "stderr",
          "text": [
            "/usr/local/lib/python3.7/dist-packages/ipykernel_launcher.py:1: FutureWarning: Dropping of nuisance columns in DataFrame reductions (with 'numeric_only=None') is deprecated; in a future version this will raise TypeError.  Select only valid columns before calling the reduction.\n",
            "  \"\"\"Entry point for launching an IPython kernel.\n"
          ]
        },
        {
          "output_type": "execute_result",
          "data": {
            "text/plain": [
              "Count              0.000000e+00\n",
              "Zip Code           3.481189e+06\n",
              "Latitude           6.030573e+00\n",
              "Longitude          4.656485e+00\n",
              "Tenure Months      6.031681e+02\n",
              "Monthly Charges    9.054109e+02\n",
              "Total Charges      5.138252e+06\n",
              "Churn Value        1.949764e-01\n",
              "Churn Score        4.633313e+02\n",
              "CLTV               1.399624e+06\n",
              "dtype: float64"
            ]
          },
          "metadata": {},
          "execution_count": 81
        }
      ]
    },
    {
      "cell_type": "markdown",
      "source": [
        "From the above code it is observed that the variance values of the Count is 0.000000e+00,for Zip Code it is 3.481189e+06,for Latitude and Longitude var() value is 6.030573e+00,4.656485e+00.While for Tenure Months,Monthly Charges it is 6.031681e+02,9.054109e+02.For Churn Value ,Churn Score and CLTV the var() is as follows:1.949764e-01,4.633313e+02 and 1.399624e+06 respectively"
      ],
      "metadata": {
        "id": "lsOHHnQaLzHB"
      }
    },
    {
      "cell_type": "markdown",
      "source": [
        "**IQR**-INTER QUARTILE RANGE\n",
        "It is a measure of statistical dispersion,which is the spread of the data.The IQR may also defined as the difference between the 75th and 25th percentiles of the data,that is it is the difference between the first and third quartiles (Q1 and Q3).\n",
        "\n",
        "The 'middle half' of the data is between the first and third quartile.\n",
        "\n",
        "The first quartile is the value in the data that separates the bottom 25% of values from the top 75%.\n",
        "\n",
        "The third quartile is the value in the data that separates the bottom 75% of the values from the top 25%.\n"
      ],
      "metadata": {
        "id": "ePDGVYITH-4y"
      }
    },
    {
      "cell_type": "markdown",
      "source": [
        "The Interquartile range of some values are as follows:"
      ],
      "metadata": {
        "id": "WeNa5LgMNXar"
      }
    },
    {
      "cell_type": "code",
      "source": [
        "q75, q25 = np.percentile(df['Tenure Months'], [75 ,25])\n",
        "iqr = q75 - q25\n",
        "\n",
        "iqr\n"
      ],
      "metadata": {
        "colab": {
          "base_uri": "https://localhost:8080/"
        },
        "id": "RP-RhtmaIYOK",
        "outputId": "a241a4ba-2403-4166-d386-b839b61ad7b9"
      },
      "execution_count": 82,
      "outputs": [
        {
          "output_type": "execute_result",
          "data": {
            "text/plain": [
              "46.0"
            ]
          },
          "metadata": {},
          "execution_count": 82
        }
      ]
    },
    {
      "cell_type": "markdown",
      "source": [
        "The IQR of 'Tenure Months' is 46.0, which is the difference between the 75th and 25th percentile of the given data."
      ],
      "metadata": {
        "id": "nUiPp1BINm_Q"
      }
    },
    {
      "cell_type": "code",
      "source": [
        "q75, q25 = np.percentile(df['Monthly Charges'], [75 ,25])\n",
        "iqr = q75 - q25\n",
        "\n",
        "iqr"
      ],
      "metadata": {
        "colab": {
          "base_uri": "https://localhost:8080/"
        },
        "id": "MaADEMeTNPGX",
        "outputId": "3357a87b-ed42-40ff-e429-9bb7d6a0929d"
      },
      "execution_count": 83,
      "outputs": [
        {
          "output_type": "execute_result",
          "data": {
            "text/plain": [
              "54.349999999999994"
            ]
          },
          "metadata": {},
          "execution_count": 83
        }
      ]
    },
    {
      "cell_type": "markdown",
      "source": [
        "The IQR value of 'Monthly Charges' are 54.349999999999994"
      ],
      "metadata": {
        "id": "G7_zjI5XOTrV"
      }
    },
    {
      "cell_type": "code",
      "source": [
        "q75, q25 = np.percentile(df['Churn Score'], [75 ,25])\n",
        "iqr = q75 - q25\n",
        "\n",
        "iqr"
      ],
      "metadata": {
        "colab": {
          "base_uri": "https://localhost:8080/"
        },
        "id": "MoqPWoSyOTQj",
        "outputId": "74e142ed-1e20-4947-d416-9e06171e02e0"
      },
      "execution_count": 84,
      "outputs": [
        {
          "output_type": "execute_result",
          "data": {
            "text/plain": [
              "35.0"
            ]
          },
          "metadata": {},
          "execution_count": 84
        }
      ]
    },
    {
      "cell_type": "markdown",
      "source": [
        "The IQR value of Churn Score is 35.0\n"
      ],
      "metadata": {
        "id": "MF7onNFiPGy4"
      }
    },
    {
      "cell_type": "code",
      "source": [
        "q75, q25 = np.percentile(df['CLTV'], [75 ,25])\n",
        "iqr = q75 - q25\n",
        "\n",
        "iqr"
      ],
      "metadata": {
        "colab": {
          "base_uri": "https://localhost:8080/"
        },
        "id": "sVauHABWPaQP",
        "outputId": "3b5609f3-46ef-4d63-9d7d-2c3766d450c2"
      },
      "execution_count": 85,
      "outputs": [
        {
          "output_type": "execute_result",
          "data": {
            "text/plain": [
              "1911.5"
            ]
          },
          "metadata": {},
          "execution_count": 85
        }
      ]
    },
    {
      "cell_type": "markdown",
      "source": [
        "The IQR value of CLTV is 1911.5"
      ],
      "metadata": {
        "id": "rMytcmSGPZNN"
      }
    },
    {
      "cell_type": "markdown",
      "source": [
        "**Max()**:\n",
        "Max() function gives the maximum values of the given data.\n",
        "\n"
      ],
      "metadata": {
        "id": "NLm0baPfPoZf"
      }
    },
    {
      "cell_type": "code",
      "source": [
        "df.max()"
      ],
      "metadata": {
        "colab": {
          "base_uri": "https://localhost:8080/"
        },
        "id": "IEfU01B3QoO0",
        "outputId": "f0f05ad9-fab9-423c-e0ff-889b8992e9c1"
      },
      "execution_count": 86,
      "outputs": [
        {
          "output_type": "stream",
          "name": "stderr",
          "text": [
            "/usr/local/lib/python3.7/dist-packages/ipykernel_launcher.py:1: FutureWarning: Dropping of nuisance columns in DataFrame reductions (with 'numeric_only=None') is deprecated; in a future version this will raise TypeError.  Select only valid columns before calling the reduction.\n",
            "  \"\"\"Entry point for launching an IPython kernel.\n"
          ]
        },
        {
          "output_type": "execute_result",
          "data": {
            "text/plain": [
              "CustomerID                       9995-HOTOH\n",
              "Count                                     1\n",
              "Country                       United States\n",
              "State                            California\n",
              "City                                  Zenia\n",
              "Zip Code                              96161\n",
              "Lat Long             41.962127, -122.527696\n",
              "Latitude                          41.962127\n",
              "Longitude                       -114.192901\n",
              "Gender                                 Male\n",
              "Senior Citizen                          Yes\n",
              "Partner                                 Yes\n",
              "Dependents                              Yes\n",
              "Tenure Months                            72\n",
              "Phone Service                           Yes\n",
              "Multiple Lines                          Yes\n",
              "Internet Service                         No\n",
              "Online Security                         Yes\n",
              "Online Backup                           Yes\n",
              "Device Protection                       Yes\n",
              "Tech Support                            Yes\n",
              "Streaming TV                            Yes\n",
              "Streaming Movies                        Yes\n",
              "Contract                           Two year\n",
              "Paperless Billing                       Yes\n",
              "Payment Method                 Mailed check\n",
              "Monthly Charges                      118.75\n",
              "Total Charges                        8684.8\n",
              "Churn Label                             Yes\n",
              "Churn Value                               1\n",
              "Churn Score                             100\n",
              "CLTV                                   6500\n",
              "dtype: object"
            ]
          },
          "metadata": {},
          "execution_count": 86
        }
      ]
    },
    {
      "cell_type": "markdown",
      "source": [
        "**Min**():\n",
        "Min() function gives the minimum values of the given data."
      ],
      "metadata": {
        "id": "ejEueRhmRI03"
      }
    },
    {
      "cell_type": "code",
      "source": [
        "df.min()"
      ],
      "metadata": {
        "colab": {
          "base_uri": "https://localhost:8080/"
        },
        "id": "jneRHLjRQuhp",
        "outputId": "e4613ec6-398d-4fc0-a09a-428c978e9dc6"
      },
      "execution_count": 87,
      "outputs": [
        {
          "output_type": "stream",
          "name": "stderr",
          "text": [
            "/usr/local/lib/python3.7/dist-packages/ipykernel_launcher.py:1: FutureWarning: Dropping of nuisance columns in DataFrame reductions (with 'numeric_only=None') is deprecated; in a future version this will raise TypeError.  Select only valid columns before calling the reduction.\n",
            "  \"\"\"Entry point for launching an IPython kernel.\n"
          ]
        },
        {
          "output_type": "execute_result",
          "data": {
            "text/plain": [
              "CustomerID                          0002-ORFBO\n",
              "Count                                        1\n",
              "Country                          United States\n",
              "State                               California\n",
              "City                                    Acampo\n",
              "Zip Code                                 90001\n",
              "Lat Long                32.555828, -117.040073\n",
              "Latitude                             32.555828\n",
              "Longitude                          -124.301372\n",
              "Gender                                  Female\n",
              "Senior Citizen                              No\n",
              "Partner                                     No\n",
              "Dependents                                  No\n",
              "Tenure Months                                0\n",
              "Phone Service                               No\n",
              "Multiple Lines                              No\n",
              "Internet Service                           DSL\n",
              "Online Security                             No\n",
              "Online Backup                               No\n",
              "Device Protection                           No\n",
              "Tech Support                                No\n",
              "Streaming TV                                No\n",
              "Streaming Movies                            No\n",
              "Contract                        Month-to-month\n",
              "Paperless Billing                           No\n",
              "Payment Method       Bank transfer (automatic)\n",
              "Monthly Charges                          18.25\n",
              "Total Charges                             18.8\n",
              "Churn Label                                 No\n",
              "Churn Value                                  0\n",
              "Churn Score                                  5\n",
              "CLTV                                      2003\n",
              "dtype: object"
            ]
          },
          "metadata": {},
          "execution_count": 87
        }
      ]
    },
    {
      "cell_type": "markdown",
      "source": [
        "What is the percentage of females and senior citizens in this data set? Please create appropriate plots and explain the plots."
      ],
      "metadata": {
        "id": "ha81jaXiRMib"
      }
    },
    {
      "cell_type": "code",
      "source": [
        "#Counting total numbers in each category  ##pie chart is mainly used for categorical data,which is used to know the percentage in each category.   \n",
        "count=df['Gender'].value_counts()         ## male is represented by blue color while females are represented by orange color.\n",
        "#checking the numbers          \n",
        "count\n",
        "#creating the categories\n",
        "ChurnLabel = ['Male','Female']\n",
        "#creating plot\n",
        "fig = plt.figure(figsize=(10,7))\n",
        "#show plot\n",
        "plt.pie(count,labels = ChurnLabel,autopct='%1.1f%%',shadow=True,startangle=90)\n",
        "plt.title(\"Pie Chart-GENDER\")\n",
        "plt.show()"
      ],
      "metadata": {
        "colab": {
          "base_uri": "https://localhost:8080/",
          "height": 427
        },
        "id": "2me9DRxTR8JY",
        "outputId": "631d3e3c-a3af-4565-a765-a1957a30c634"
      },
      "execution_count": 88,
      "outputs": [
        {
          "output_type": "display_data",
          "data": {
            "text/plain": [
              "<Figure size 720x504 with 1 Axes>"
            ],
            "image/png": "[encoded data removed]"
          },
          "metadata": {}
        }
      ]
    },
    {
      "cell_type": "markdown",
      "source": [
        "From the above plot it is to be known that half of the customers are male while the other half are female.While percent of male is slighthly higher than that of the females.Therefore, it is to be known that the percent of females is 49.5%."
      ],
      "metadata": {
        "id": "6neHKS5qR66h"
      }
    },
    {
      "cell_type": "code",
      "source": [
        "#Counting total numbers in each category      ##pie chart is mainly used for categorical data,which is used to know the percentage in each category.   \n",
        "count=df['Senior Citizen'].value_counts()\n",
        "#checking the numbers \n",
        "count\n",
        "#creating the categories\n",
        "ChurnLabel = ['not senior citizens','Senior Citizens']\n",
        "#creating plot\n",
        "fig = plt.figure(figsize=(10,7))\n",
        "#show plot\n",
        "plt.pie(count,labels = ChurnLabel,autopct='%1.1f%%',shadow=True,startangle=90)\n",
        "plt.title(\"Pie Chart-percentage of senior citizens\")\n",
        "plt.show()"
      ],
      "metadata": {
        "colab": {
          "base_uri": "https://localhost:8080/",
          "height": 427
        },
        "id": "E40cOkj5U0cN",
        "outputId": "7698af2c-087c-447b-844b-c19bd40c6cb0"
      },
      "execution_count": 89,
      "outputs": [
        {
          "output_type": "display_data",
          "data": {
            "text/plain": [
              "<Figure size 720x504 with 1 Axes>"
            ],
            "image/png": "[encoded data removed]"
          },
          "metadata": {}
        }
      ]
    },
    {
      "cell_type": "markdown",
      "source": [
        "From the above plot it is to be known that there are only 16% of the customers who are senior citizens,while rest of the customers are younger people. "
      ],
      "metadata": {
        "id": "Uu6_bNPpWZnn"
      }
    },
    {
      "cell_type": "markdown",
      "source": [
        "Please create an appropriate plot to examine the distribution of the tenure month column and explain the distribution. Based on distribution, perform appropriate statistical measures. Please also explain if the variable is symmetric or skewed. Please calculate it. Explain everything as asked."
      ],
      "metadata": {
        "id": "5860R0QOWwnM"
      }
    },
    {
      "cell_type": "code",
      "source": [
        "plt.hist(df[\"Tenure Months\"],color='#FF2331')  #Histogram is used to see the distribution of a numerical value.\n",
        "plt.title(\"Tenure Months - Histogram plot\")    # x-axis=Tenure,y-axis=customers\n",
        "plt.xlabel(\"Tenure\")\n",
        "plt.ylabel(\"Customers\")\n",
        "plt.grid(True)\n",
        "plt.show()"
      ],
      "metadata": {
        "colab": {
          "base_uri": "https://localhost:8080/",
          "height": 295
        },
        "id": "NMBNj4tWXjU-",
        "outputId": "79f8f483-ea40-4841-cc65-134731d77e84"
      },
      "execution_count": 90,
      "outputs": [
        {
          "output_type": "display_data",
          "data": {
            "text/plain": [
              "<Figure size 432x288 with 1 Axes>"
            ],
            "image/png": "[encoded data removed]"
          },
          "metadata": {
            "needs_background": "light"
          }
        }
      ]
    },
    {
      "cell_type": "markdown",
      "source": [
        "The tenure histogram is rightly skewed and shows that most customers have been with the telecom company for just the first few months (0-9 months). \n",
        "\n",
        "Here the plot is rightly skewed where mean is always greater than that of median and mode as because of outliers the mean is strecthed to the right side.Hence the plot is right skewed.It is positively skewed.\n",
        "\n",
        "when the data is Skewed, the data is reported by median and IQR as they are insensitive to outliers. "
      ],
      "metadata": {
        "id": "dgUzShKeYlmw"
      }
    },
    {
      "cell_type": "markdown",
      "source": [
        "The statistical measures to be performed when the data is skewed are median and IQR."
      ],
      "metadata": {
        "id": "pYtCyu9Gc5ma"
      }
    },
    {
      "cell_type": "code",
      "source": [
        "df['Tenure Months'].median()      #median value gives the 50th percentile of the data"
      ],
      "metadata": {
        "colab": {
          "base_uri": "https://localhost:8080/"
        },
        "id": "xYjL3FIGcdkB",
        "outputId": "3afc50a0-f28a-4251-882b-5407791bbc2c"
      },
      "execution_count": 91,
      "outputs": [
        {
          "output_type": "execute_result",
          "data": {
            "text/plain": [
              "29.0"
            ]
          },
          "metadata": {},
          "execution_count": 91
        }
      ]
    },
    {
      "cell_type": "code",
      "source": [
        "q75, q25 = np.percentile(df['Tenure Months'], [75 ,25]) #IQR is the difference between the first and third quartiles.\n",
        "iqr = q75 - q25\n",
        "\n",
        "iqr\n"
      ],
      "metadata": {
        "colab": {
          "base_uri": "https://localhost:8080/"
        },
        "id": "KVUNDPqqdRjG",
        "outputId": "d398f4fd-70e3-4e7a-c711-972a8e1e6d62"
      },
      "execution_count": 92,
      "outputs": [
        {
          "output_type": "execute_result",
          "data": {
            "text/plain": [
              "46.0"
            ]
          },
          "metadata": {},
          "execution_count": 92
        }
      ]
    },
    {
      "cell_type": "markdown",
      "source": [
        "The median and IQR values of Tenure Months are 29.0 and 46.0 respectively."
      ],
      "metadata": {
        "id": "0LXvVMlMdm-i"
      }
    },
    {
      "cell_type": "markdown",
      "source": [
        "Here the skewed data can be calculated by using the formula Skewed =3*(mean-median)/std()  where std() demonstrates the standard deviation."
      ],
      "metadata": {
        "id": "8zj9eWOqk1-4"
      }
    },
    {
      "cell_type": "code",
      "source": [
        "df['Tenure Months'].mean()"
      ],
      "metadata": {
        "colab": {
          "base_uri": "https://localhost:8080/"
        },
        "id": "6NYw55jHfmAa",
        "outputId": "3a9cc7c4-7d3d-445b-afdf-692de647f9fd"
      },
      "execution_count": 93,
      "outputs": [
        {
          "output_type": "execute_result",
          "data": {
            "text/plain": [
              "32.37114865824223"
            ]
          },
          "metadata": {},
          "execution_count": 93
        }
      ]
    },
    {
      "cell_type": "code",
      "source": [
        "df['Tenure Months'].std()"
      ],
      "metadata": {
        "colab": {
          "base_uri": "https://localhost:8080/"
        },
        "id": "AFuEeSXwgQnC",
        "outputId": "8af867ff-db71-4a15-de99-71811e0a3f1f"
      },
      "execution_count": 94,
      "outputs": [
        {
          "output_type": "execute_result",
          "data": {
            "text/plain": [
              "24.55948102309432"
            ]
          },
          "metadata": {},
          "execution_count": 94
        }
      ]
    },
    {
      "cell_type": "code",
      "source": [
        "Skewed = 3*(32.37114865824223-29.0)/24.55948102309432\n",
        "Skewed"
      ],
      "metadata": {
        "colab": {
          "base_uri": "https://localhost:8080/"
        },
        "id": "wGQlmH1FiC6p",
        "outputId": "3e2bf6bd-44eb-4df5-d8df-028e80713fcb"
      },
      "execution_count": 103,
      "outputs": [
        {
          "output_type": "execute_result",
          "data": {
            "text/plain": [
              "0.41179396116785116"
            ]
          },
          "metadata": {},
          "execution_count": 103
        }
      ]
    },
    {
      "cell_type": "markdown",
      "source": [
        "Here the value of skewness is0.411,which indicates that it is of symmetric as this value ranges between -0.5 to 0.5.but from the data visualisation it looks like the hist plot for 'Tenure Months'is right skewed but not symmetric."
      ],
      "metadata": {
        "id": "Ch8GV0xNmDR0"
      }
    },
    {
      "cell_type": "markdown",
      "source": [
        "Please convert all binary columns into 0 and 1 using appropriate programming constructs, not one by one."
      ],
      "metadata": {
        "id": "OMTshASbjfiT"
      }
    },
    {
      "cell_type": "code",
      "source": [
        "df=df.replace(to_replace={\"No\":0,\"Yes\":1,\"Male\":0,\"Female\":1}) #replace function is used to replace the values   \n",
        "df.head()                         #In this code \"No\" is replaced by 0,while 'Yes' is replaced by 1,Male is replaced by 0 and female by \"1\""
      ],
      "metadata": {
        "colab": {
          "base_uri": "https://localhost:8080/",
          "height": 438
        },
        "id": "62AH-SqMiBM4",
        "outputId": "437c105a-ffdb-414a-e5a0-4bd986dda4d9"
      },
      "execution_count": 105,
      "outputs": [
        {
          "output_type": "execute_result",
          "data": {
            "text/plain": [
              "   CustomerID  Count        Country       State         City  Zip Code  \\\n",
              "0  3668-QPYBK      1  United States  California  Los Angeles     90003   \n",
              "1  9237-HQITU      1  United States  California  Los Angeles     90005   \n",
              "2  9305-CDSKC      1  United States  California  Los Angeles     90006   \n",
              "3  7892-POOKP      1  United States  California  Los Angeles     90010   \n",
              "4  0280-XJGEX      1  United States  California  Los Angeles     90015   \n",
              "\n",
              "                 Lat Long   Latitude   Longitude  Gender  ...        Contract  \\\n",
              "0  33.964131, -118.272783  33.964131 -118.272783       0  ...  Month-to-month   \n",
              "1   34.059281, -118.30742  34.059281 -118.307420       1  ...  Month-to-month   \n",
              "2  34.048013, -118.293953  34.048013 -118.293953       1  ...  Month-to-month   \n",
              "3  34.062125, -118.315709  34.062125 -118.315709       1  ...  Month-to-month   \n",
              "4  34.039224, -118.266293  34.039224 -118.266293       0  ...  Month-to-month   \n",
              "\n",
              "   Paperless Billing             Payment Method  Monthly Charges  \\\n",
              "0                  1               Mailed check            53.85   \n",
              "1                  1           Electronic check            70.70   \n",
              "2                  1           Electronic check            99.65   \n",
              "3                  1           Electronic check           104.80   \n",
              "4                  1  Bank transfer (automatic)           103.70   \n",
              "\n",
              "   Total Charges Churn Label Churn Value Churn Score  CLTV  \\\n",
              "0         108.15           1           1          86  3239   \n",
              "1         151.65           1           1          67  2701   \n",
              "2         820.50           1           1          86  5372   \n",
              "3        3046.05           1           1          84  5003   \n",
              "4        5036.30           1           1          89  5340   \n",
              "\n",
              "                    Churn Reason  \n",
              "0   Competitor made better offer  \n",
              "1                          Moved  \n",
              "2                          Moved  \n",
              "3                          Moved  \n",
              "4  Competitor had better devices  \n",
              "\n",
              "[5 rows x 33 columns]"
            ],
            "text/html": [
              "\n",
              "  <div id=\"df-afdbe3df-e924-477b-b9b9-356eb979b1d2\">\n",
              "    <div class=\"colab-df-container\">\n",
              "      <div>\n",
              "<style scoped>\n",
              "    .dataframe tbody tr th:only-of-type {\n",
              "        vertical-align: middle;\n",
              "    }\n",
              "\n",
              "    .dataframe tbody tr th {\n",
              "        vertical-align: top;\n",
              "    }\n",
              "\n",
              "    .dataframe thead th {\n",
              "        text-align: right;\n",
              "    }\n",
              "</style>\n",
              "<table border=\"1\" class=\"dataframe\">\n",
              "  <thead>\n",
              "    <tr style=\"text-align: right;\">\n",
              "      <th></th>\n",
              "      <th>CustomerID</th>\n",
              "      <th>Count</th>\n",
              "      <th>Country</th>\n",
              "      <th>State</th>\n",
              "      <th>City</th>\n",
              "      <th>Zip Code</th>\n",
              "      <th>Lat Long</th>\n",
              "      <th>Latitude</th>\n",
              "      <th>Longitude</th>\n",
              "      <th>Gender</th>\n",
              "      <th>...</th>\n",
              "      <th>Contract</th>\n",
              "      <th>Paperless Billing</th>\n",
              "      <th>Payment Method</th>\n",
              "      <th>Monthly Charges</th>\n",
              "      <th>Total Charges</th>\n",
              "      <th>Churn Label</th>\n",
              "      <th>Churn Value</th>\n",
              "      <th>Churn Score</th>\n",
              "      <th>CLTV</th>\n",
              "      <th>Churn Reason</th>\n",
              "    </tr>\n",
              "  </thead>\n",
              "  <tbody>\n",
              "    <tr>\n",
              "      <th>0</th>\n",
              "      <td>3668-QPYBK</td>\n",
              "      <td>1</td>\n",
              "      <td>United States</td>\n",
              "      <td>California</td>\n",
              "      <td>Los Angeles</td>\n",
              "      <td>90003</td>\n",
              "      <td>33.964131, -118.272783</td>\n",
              "      <td>33.964131</td>\n",
              "      <td>-118.272783</td>\n",
              "      <td>0</td>\n",
              "      <td>...</td>\n",
              "      <td>Month-to-month</td>\n",
              "      <td>1</td>\n",
              "      <td>Mailed check</td>\n",
              "      <td>53.85</td>\n",
              "      <td>108.15</td>\n",
              "      <td>1</td>\n",
              "      <td>1</td>\n",
              "      <td>86</td>\n",
              "      <td>3239</td>\n",
              "      <td>Competitor made better offer</td>\n",
              "    </tr>\n",
              "    <tr>\n",
              "      <th>1</th>\n",
              "      <td>9237-HQITU</td>\n",
              "      <td>1</td>\n",
              "      <td>United States</td>\n",
              "      <td>California</td>\n",
              "      <td>Los Angeles</td>\n",
              "      <td>90005</td>\n",
              "      <td>34.059281, -118.30742</td>\n",
              "      <td>34.059281</td>\n",
              "      <td>-118.307420</td>\n",
              "      <td>1</td>\n",
              "      <td>...</td>\n",
              "      <td>Month-to-month</td>\n",
              "      <td>1</td>\n",
              "      <td>Electronic check</td>\n",
              "      <td>70.70</td>\n",
              "      <td>151.65</td>\n",
              "      <td>1</td>\n",
              "      <td>1</td>\n",
              "      <td>67</td>\n",
              "      <td>2701</td>\n",
              "      <td>Moved</td>\n",
              "    </tr>\n",
              "    <tr>\n",
              "      <th>2</th>\n",
              "      <td>9305-CDSKC</td>\n",
              "      <td>1</td>\n",
              "      <td>United States</td>\n",
              "      <td>California</td>\n",
              "      <td>Los Angeles</td>\n",
              "      <td>90006</td>\n",
              "      <td>34.048013, -118.293953</td>\n",
              "      <td>34.048013</td>\n",
              "      <td>-118.293953</td>\n",
              "      <td>1</td>\n",
              "      <td>...</td>\n",
              "      <td>Month-to-month</td>\n",
              "      <td>1</td>\n",
              "      <td>Electronic check</td>\n",
              "      <td>99.65</td>\n",
              "      <td>820.50</td>\n",
              "      <td>1</td>\n",
              "      <td>1</td>\n",
              "      <td>86</td>\n",
              "      <td>5372</td>\n",
              "      <td>Moved</td>\n",
              "    </tr>\n",
              "    <tr>\n",
              "      <th>3</th>\n",
              "      <td>7892-POOKP</td>\n",
              "      <td>1</td>\n",
              "      <td>United States</td>\n",
              "      <td>California</td>\n",
              "      <td>Los Angeles</td>\n",
              "      <td>90010</td>\n",
              "      <td>34.062125, -118.315709</td>\n",
              "      <td>34.062125</td>\n",
              "      <td>-118.315709</td>\n",
              "      <td>1</td>\n",
              "      <td>...</td>\n",
              "      <td>Month-to-month</td>\n",
              "      <td>1</td>\n",
              "      <td>Electronic check</td>\n",
              "      <td>104.80</td>\n",
              "      <td>3046.05</td>\n",
              "      <td>1</td>\n",
              "      <td>1</td>\n",
              "      <td>84</td>\n",
              "      <td>5003</td>\n",
              "      <td>Moved</td>\n",
              "    </tr>\n",
              "    <tr>\n",
              "      <th>4</th>\n",
              "      <td>0280-XJGEX</td>\n",
              "      <td>1</td>\n",
              "      <td>United States</td>\n",
              "      <td>California</td>\n",
              "      <td>Los Angeles</td>\n",
              "      <td>90015</td>\n",
              "      <td>34.039224, -118.266293</td>\n",
              "      <td>34.039224</td>\n",
              "      <td>-118.266293</td>\n",
              "      <td>0</td>\n",
              "      <td>...</td>\n",
              "      <td>Month-to-month</td>\n",
              "      <td>1</td>\n",
              "      <td>Bank transfer (automatic)</td>\n",
              "      <td>103.70</td>\n",
              "      <td>5036.30</td>\n",
              "      <td>1</td>\n",
              "      <td>1</td>\n",
              "      <td>89</td>\n",
              "      <td>5340</td>\n",
              "      <td>Competitor had better devices</td>\n",
              "    </tr>\n",
              "  </tbody>\n",
              "</table>\n",
              "<p>5 rows × 33 columns</p>\n",
              "</div>\n",
              "      <button class=\"colab-df-convert\" onclick=\"convertToInteractive('df-afdbe3df-e924-477b-b9b9-356eb979b1d2')\"\n",
              "              title=\"Convert this dataframe to an interactive table.\"\n",
              "              style=\"display:none;\">\n",
              "        \n",
              "  <svg xmlns=\"http://www.w3.org/2000/svg\" height=\"24px\"viewBox=\"0 0 24 24\"\n",
              "       width=\"24px\">\n",
              "    <path d=\"M0 0h24v24H0V0z\" fill=\"none\"/>\n",
              "    <path d=\"M18.56 5.44l.94 2.06.94-2.06 2.06-.94-2.06-.94-.94-2.06-.94 2.06-2.06.94zm-11 1L8.5 8.5l.94-2.06 2.06-.94-2.06-.94L8.5 2.5l-.94 2.06-2.06.94zm10 10l.94 2.06.94-2.06 2.06-.94-2.06-.94-.94-2.06-.94 2.06-2.06.94z\"/><path d=\"M17.41 7.96l-1.37-1.37c-.4-.4-.92-.59-1.43-.59-.52 0-1.04.2-1.43.59L10.3 9.45l-7.72 7.72c-.78.78-.78 2.05 0 2.83L4 21.41c.39.39.9.59 1.41.59.51 0 1.02-.2 1.41-.59l7.78-7.78 2.81-2.81c.8-.78.8-2.07 0-2.86zM5.41 20L4 18.59l7.72-7.72 1.47 1.35L5.41 20z\"/>\n",
              "  </svg>\n",
              "      </button>\n",
              "      \n",
              "  <style>\n",
              "    .colab-df-container {\n",
              "      display:flex;\n",
              "      flex-wrap:wrap;\n",
              "      gap: 12px;\n",
              "    }\n",
              "\n",
              "    .colab-df-convert {\n",
              "      background-color: #E8F0FE;\n",
              "      border: none;\n",
              "      border-radius: 50%;\n",
              "      cursor: pointer;\n",
              "      display: none;\n",
              "      fill: #1967D2;\n",
              "      height: 32px;\n",
              "      padding: 0 0 0 0;\n",
              "      width: 32px;\n",
              "    }\n",
              "\n",
              "    .colab-df-convert:hover {\n",
              "      background-color: #E2EBFA;\n",
              "      box-shadow: 0px 1px 2px rgba(60, 64, 67, 0.3), 0px 1px 3px 1px rgba(60, 64, 67, 0.15);\n",
              "      fill: #174EA6;\n",
              "    }\n",
              "\n",
              "    [theme=dark] .colab-df-convert {\n",
              "      background-color: #3B4455;\n",
              "      fill: #D2E3FC;\n",
              "    }\n",
              "\n",
              "    [theme=dark] .colab-df-convert:hover {\n",
              "      background-color: #434B5C;\n",
              "      box-shadow: 0px 1px 3px 1px rgba(0, 0, 0, 0.15);\n",
              "      filter: drop-shadow(0px 1px 2px rgba(0, 0, 0, 0.3));\n",
              "      fill: #FFFFFF;\n",
              "    }\n",
              "  </style>\n",
              "\n",
              "      <script>\n",
              "        const buttonEl =\n",
              "          document.querySelector('#df-afdbe3df-e924-477b-b9b9-356eb979b1d2 button.colab-df-convert');\n",
              "        buttonEl.style.display =\n",
              "          google.colab.kernel.accessAllowed ? 'block' : 'none';\n",
              "\n",
              "        async function convertToInteractive(key) {\n",
              "          const element = document.querySelector('#df-afdbe3df-e924-477b-b9b9-356eb979b1d2');\n",
              "          const dataTable =\n",
              "            await google.colab.kernel.invokeFunction('convertToInteractive',\n",
              "                                                     [key], {});\n",
              "          if (!dataTable) return;\n",
              "\n",
              "          const docLinkHtml = 'Like what you see? Visit the ' +\n",
              "            '<a target=\"_blank\" href=https://colab.research.google.com/notebooks/data_table.ipynb>data table notebook</a>'\n",
              "            + ' to learn more about interactive tables.';\n",
              "          element.innerHTML = '';\n",
              "          dataTable['output_type'] = 'display_data';\n",
              "          await google.colab.output.renderOutput(dataTable, element);\n",
              "          const docLink = document.createElement('div');\n",
              "          docLink.innerHTML = docLinkHtml;\n",
              "          element.appendChild(docLink);\n",
              "        }\n",
              "      </script>\n",
              "    </div>\n",
              "  </div>\n",
              "  "
            ]
          },
          "metadata": {},
          "execution_count": 105
        }
      ]
    },
    {
      "cell_type": "markdown",
      "source": [
        "Please examine the distribution of monthly charges between males and females using box plots. Please explain the results also."
      ],
      "metadata": {
        "id": "FUeDArjxrbKA"
      }
    },
    {
      "cell_type": "code",
      "source": [
        "sns.boxplot(x='Gender',y='Monthly Charges',data=df)  #box plot is used for Numerical data\n",
        "                                                    #A box plot is a standard way of displaying the distribution of data based on a five number summary.\n",
        "                                                    # X-axis = 'Gender',Y-axis='Monthly Charges'"
      ],
      "metadata": {
        "colab": {
          "base_uri": "https://localhost:8080/",
          "height": 296
        },
        "id": "vSyFXaG1rj3e",
        "outputId": "8e687929-1828-4f38-b53f-c80744034f52"
      },
      "execution_count": 112,
      "outputs": [
        {
          "output_type": "execute_result",
          "data": {
            "text/plain": [
              "<matplotlib.axes._subplots.AxesSubplot at 0x7efde5d02dd0>"
            ]
          },
          "metadata": {},
          "execution_count": 112
        },
        {
          "output_type": "display_data",
          "data": {
            "text/plain": [
              "<Figure size 432x288 with 1 Axes>"
            ],
            "image/png": "[encoded data removed]"
          },
          "metadata": {
            "needs_background": "light"
          }
        }
      ]
    },
    {
      "cell_type": "markdown",
      "source": [
        "it is to be noted that the Monthly charges between the male and female are almost equal. "
      ],
      "metadata": {
        "id": "4adULPoRtmqn"
      }
    },
    {
      "cell_type": "code",
      "source": [
        "sns.boxplot(x='Gender',y='Monthly Charges',hue='Churn Label',data=df) # X-axis = 'Gender',Y-axis='Monthly Charges',hue='Churn label"
      ],
      "metadata": {
        "colab": {
          "base_uri": "https://localhost:8080/",
          "height": 296
        },
        "id": "eiQhYHCxDc89",
        "outputId": "f1ddb3c6-8553-4751-f09b-7a259ef24482"
      },
      "execution_count": 176,
      "outputs": [
        {
          "output_type": "execute_result",
          "data": {
            "text/plain": [
              "<matplotlib.axes._subplots.AxesSubplot at 0x7efde1971350>"
            ]
          },
          "metadata": {},
          "execution_count": 176
        },
        {
          "output_type": "display_data",
          "data": {
            "text/plain": [
              "<Figure size 432x288 with 1 Axes>"
            ],
            "image/png": "[encoded data removed]"
          },
          "metadata": {
            "needs_background": "light"
          }
        }
      ]
    },
    {
      "cell_type": "markdown",
      "source": [
        "From the above plot it is to be assumed that the Monthly Charges of the churn label which is denoted as Yes(customers who left the company this quarter) are higher than that of the other churn label which is denoted as No(customers who remained within the company)in both male and female categories."
      ],
      "metadata": {
        "id": "1X8kd7jVDylO"
      }
    },
    {
      "cell_type": "markdown",
      "source": [
        "Please find what is the minimum total charges for Los Angeles city. Please find which zip code has the maximum total charges."
      ],
      "metadata": {
        "id": "p3xRAzbkvrC2"
      }
    },
    {
      "cell_type": "code",
      "source": [
        "df.sort_values(by=\"Total Charges\",ascending=False)  #sort_values() method sorts the data frame by the specified label.\n"
      ],
      "metadata": {
        "colab": {
          "base_uri": "https://localhost:8080/",
          "height": 783
        },
        "id": "6DD64X5cw5Al",
        "outputId": "0f916dac-2ed8-4027-8df8-32c6eba6a6cc"
      },
      "execution_count": 123,
      "outputs": [
        {
          "output_type": "execute_result",
          "data": {
            "text/plain": [
              "      CustomerID  Count        Country       State           City  Zip Code  \\\n",
              "1206  2889-FPWRM      1  United States  California  Mckinleyville     95519   \n",
              "339   0201-OAMXR      1  United States  California  Mckinleyville     95519   \n",
              "1026  3886-CERTZ      1  United States  California      Fullerton     92831   \n",
              "1729  1444-VVSGW      1  United States  California    Los Molinos     96055   \n",
              "1468  5271-YNWVR      1  United States  California    Santa Paula     93060   \n",
              "...          ...    ...            ...         ...            ...       ...   \n",
              "1471  4667-OHGKG      1  United States  California     Summerland     93067   \n",
              "558   0761-AETCS      1  United States  California         Colton     92324   \n",
              "1494  5510-BOIUJ      1  United States  California        Visalia     93277   \n",
              "1140  6121-VZNQB      1  United States  California        Bolinas     94924   \n",
              "1710  9318-NKNFC      1  United States  California          Twain     95984   \n",
              "\n",
              "                    Lat Long   Latitude   Longitude  Gender  ...  \\\n",
              "1206  40.965011, -124.015255  40.965011 -124.015255    Male  ...   \n",
              "339   40.965011, -124.015255  40.965011 -124.015255  Female  ...   \n",
              "1026  33.879983, -117.895482  33.879983 -117.895482  Female  ...   \n",
              "1729  40.059385, -122.091481  40.059385 -122.091481    Male  ...   \n",
              "1468  34.402343, -119.094824  34.402343 -119.094824    Male  ...   \n",
              "...                      ...        ...         ...     ...  ...   \n",
              "1471   34.420998, -119.60137  34.420998 -119.601370    Male  ...   \n",
              "558   34.030915, -117.273201  34.030915 -117.273201  Female  ...   \n",
              "1494  36.303793, -119.375646  36.303793 -119.375646    Male  ...   \n",
              "1140   37.943087, -122.72379  37.943087 -122.723790  Female  ...   \n",
              "1710  40.022184, -121.062384  40.022184 -121.062384    Male  ...   \n",
              "\n",
              "            Contract Paperless Billing             Payment Method  \\\n",
              "1206        One year               Yes  Bank transfer (automatic)   \n",
              "339         One year                No    Credit card (automatic)   \n",
              "1026        One year               Yes           Electronic check   \n",
              "1729        One year                No    Credit card (automatic)   \n",
              "1468        Two year               Yes           Electronic check   \n",
              "...              ...               ...                        ...   \n",
              "1471  Month-to-month               Yes               Mailed check   \n",
              "558   Month-to-month                No           Electronic check   \n",
              "1494  Month-to-month                No               Mailed check   \n",
              "1140  Month-to-month               Yes               Mailed check   \n",
              "1710  Month-to-month               Yes               Mailed check   \n",
              "\n",
              "      Monthly Charges Total Charges Churn Label Churn Value Churn Score  CLTV  \\\n",
              "1206           117.80        8684.8         Yes           1         100  4432   \n",
              "339            115.55        8127.6         Yes           1          87  4838   \n",
              "1026           109.25        8109.8         Yes           1          97  4261   \n",
              "1729           115.65       7968.85         Yes           1          99  5563   \n",
              "1468           113.15          7856         Yes           1          90  4610   \n",
              "...               ...           ...         ...         ...         ...   ...   \n",
              "1471            19.30          19.3         Yes           1          99  4266   \n",
              "558             19.30          19.3         Yes           1          92  3236   \n",
              "1494            19.25         19.25         Yes           1          80  5437   \n",
              "1140            19.10          19.1         Yes           1          84  5890   \n",
              "1710            18.85         18.85         Yes           1          90  4132   \n",
              "\n",
              "                                   Churn Reason  \n",
              "1206  Competitor offered higher download speeds  \n",
              "339                         Network reliability  \n",
              "1026               Attitude of service provider  \n",
              "1729                    Product dissatisfaction  \n",
              "1468                         Extra data charges  \n",
              "...                                         ...  \n",
              "1471                    Service dissatisfaction  \n",
              "558                  Attitude of support person  \n",
              "1494               Attitude of service provider  \n",
              "1140               Competitor made better offer  \n",
              "1710                    Service dissatisfaction  \n",
              "\n",
              "[1869 rows x 33 columns]"
            ],
            "text/html": [
              "\n",
              "  <div id=\"df-7cb68d51-4990-4707-b205-b2aebded4bc0\">\n",
              "    <div class=\"colab-df-container\">\n",
              "      <div>\n",
              "<style scoped>\n",
              "    .dataframe tbody tr th:only-of-type {\n",
              "        vertical-align: middle;\n",
              "    }\n",
              "\n",
              "    .dataframe tbody tr th {\n",
              "        vertical-align: top;\n",
              "    }\n",
              "\n",
              "    .dataframe thead th {\n",
              "        text-align: right;\n",
              "    }\n",
              "</style>\n",
              "<table border=\"1\" class=\"dataframe\">\n",
              "  <thead>\n",
              "    <tr style=\"text-align: right;\">\n",
              "      <th></th>\n",
              "      <th>CustomerID</th>\n",
              "      <th>Count</th>\n",
              "      <th>Country</th>\n",
              "      <th>State</th>\n",
              "      <th>City</th>\n",
              "      <th>Zip Code</th>\n",
              "      <th>Lat Long</th>\n",
              "      <th>Latitude</th>\n",
              "      <th>Longitude</th>\n",
              "      <th>Gender</th>\n",
              "      <th>...</th>\n",
              "      <th>Contract</th>\n",
              "      <th>Paperless Billing</th>\n",
              "      <th>Payment Method</th>\n",
              "      <th>Monthly Charges</th>\n",
              "      <th>Total Charges</th>\n",
              "      <th>Churn Label</th>\n",
              "      <th>Churn Value</th>\n",
              "      <th>Churn Score</th>\n",
              "      <th>CLTV</th>\n",
              "      <th>Churn Reason</th>\n",
              "    </tr>\n",
              "  </thead>\n",
              "  <tbody>\n",
              "    <tr>\n",
              "      <th>1206</th>\n",
              "      <td>2889-FPWRM</td>\n",
              "      <td>1</td>\n",
              "      <td>United States</td>\n",
              "      <td>California</td>\n",
              "      <td>Mckinleyville</td>\n",
              "      <td>95519</td>\n",
              "      <td>40.965011, -124.015255</td>\n",
              "      <td>40.965011</td>\n",
              "      <td>-124.015255</td>\n",
              "      <td>Male</td>\n",
              "      <td>...</td>\n",
              "      <td>One year</td>\n",
              "      <td>Yes</td>\n",
              "      <td>Bank transfer (automatic)</td>\n",
              "      <td>117.80</td>\n",
              "      <td>8684.8</td>\n",
              "      <td>Yes</td>\n",
              "      <td>1</td>\n",
              "      <td>100</td>\n",
              "      <td>4432</td>\n",
              "      <td>Competitor offered higher download speeds</td>\n",
              "    </tr>\n",
              "    <tr>\n",
              "      <th>339</th>\n",
              "      <td>0201-OAMXR</td>\n",
              "      <td>1</td>\n",
              "      <td>United States</td>\n",
              "      <td>California</td>\n",
              "      <td>Mckinleyville</td>\n",
              "      <td>95519</td>\n",
              "      <td>40.965011, -124.015255</td>\n",
              "      <td>40.965011</td>\n",
              "      <td>-124.015255</td>\n",
              "      <td>Female</td>\n",
              "      <td>...</td>\n",
              "      <td>One year</td>\n",
              "      <td>No</td>\n",
              "      <td>Credit card (automatic)</td>\n",
              "      <td>115.55</td>\n",
              "      <td>8127.6</td>\n",
              "      <td>Yes</td>\n",
              "      <td>1</td>\n",
              "      <td>87</td>\n",
              "      <td>4838</td>\n",
              "      <td>Network reliability</td>\n",
              "    </tr>\n",
              "    <tr>\n",
              "      <th>1026</th>\n",
              "      <td>3886-CERTZ</td>\n",
              "      <td>1</td>\n",
              "      <td>United States</td>\n",
              "      <td>California</td>\n",
              "      <td>Fullerton</td>\n",
              "      <td>92831</td>\n",
              "      <td>33.879983, -117.895482</td>\n",
              "      <td>33.879983</td>\n",
              "      <td>-117.895482</td>\n",
              "      <td>Female</td>\n",
              "      <td>...</td>\n",
              "      <td>One year</td>\n",
              "      <td>Yes</td>\n",
              "      <td>Electronic check</td>\n",
              "      <td>109.25</td>\n",
              "      <td>8109.8</td>\n",
              "      <td>Yes</td>\n",
              "      <td>1</td>\n",
              "      <td>97</td>\n",
              "      <td>4261</td>\n",
              "      <td>Attitude of service provider</td>\n",
              "    </tr>\n",
              "    <tr>\n",
              "      <th>1729</th>\n",
              "      <td>1444-VVSGW</td>\n",
              "      <td>1</td>\n",
              "      <td>United States</td>\n",
              "      <td>California</td>\n",
              "      <td>Los Molinos</td>\n",
              "      <td>96055</td>\n",
              "      <td>40.059385, -122.091481</td>\n",
              "      <td>40.059385</td>\n",
              "      <td>-122.091481</td>\n",
              "      <td>Male</td>\n",
              "      <td>...</td>\n",
              "      <td>One year</td>\n",
              "      <td>No</td>\n",
              "      <td>Credit card (automatic)</td>\n",
              "      <td>115.65</td>\n",
              "      <td>7968.85</td>\n",
              "      <td>Yes</td>\n",
              "      <td>1</td>\n",
              "      <td>99</td>\n",
              "      <td>5563</td>\n",
              "      <td>Product dissatisfaction</td>\n",
              "    </tr>\n",
              "    <tr>\n",
              "      <th>1468</th>\n",
              "      <td>5271-YNWVR</td>\n",
              "      <td>1</td>\n",
              "      <td>United States</td>\n",
              "      <td>California</td>\n",
              "      <td>Santa Paula</td>\n",
              "      <td>93060</td>\n",
              "      <td>34.402343, -119.094824</td>\n",
              "      <td>34.402343</td>\n",
              "      <td>-119.094824</td>\n",
              "      <td>Male</td>\n",
              "      <td>...</td>\n",
              "      <td>Two year</td>\n",
              "      <td>Yes</td>\n",
              "      <td>Electronic check</td>\n",
              "      <td>113.15</td>\n",
              "      <td>7856</td>\n",
              "      <td>Yes</td>\n",
              "      <td>1</td>\n",
              "      <td>90</td>\n",
              "      <td>4610</td>\n",
              "      <td>Extra data charges</td>\n",
              "    </tr>\n",
              "    <tr>\n",
              "      <th>...</th>\n",
              "      <td>...</td>\n",
              "      <td>...</td>\n",
              "      <td>...</td>\n",
              "      <td>...</td>\n",
              "      <td>...</td>\n",
              "      <td>...</td>\n",
              "      <td>...</td>\n",
              "      <td>...</td>\n",
              "      <td>...</td>\n",
              "      <td>...</td>\n",
              "      <td>...</td>\n",
              "      <td>...</td>\n",
              "      <td>...</td>\n",
              "      <td>...</td>\n",
              "      <td>...</td>\n",
              "      <td>...</td>\n",
              "      <td>...</td>\n",
              "      <td>...</td>\n",
              "      <td>...</td>\n",
              "      <td>...</td>\n",
              "      <td>...</td>\n",
              "    </tr>\n",
              "    <tr>\n",
              "      <th>1471</th>\n",
              "      <td>4667-OHGKG</td>\n",
              "      <td>1</td>\n",
              "      <td>United States</td>\n",
              "      <td>California</td>\n",
              "      <td>Summerland</td>\n",
              "      <td>93067</td>\n",
              "      <td>34.420998, -119.60137</td>\n",
              "      <td>34.420998</td>\n",
              "      <td>-119.601370</td>\n",
              "      <td>Male</td>\n",
              "      <td>...</td>\n",
              "      <td>Month-to-month</td>\n",
              "      <td>Yes</td>\n",
              "      <td>Mailed check</td>\n",
              "      <td>19.30</td>\n",
              "      <td>19.3</td>\n",
              "      <td>Yes</td>\n",
              "      <td>1</td>\n",
              "      <td>99</td>\n",
              "      <td>4266</td>\n",
              "      <td>Service dissatisfaction</td>\n",
              "    </tr>\n",
              "    <tr>\n",
              "      <th>558</th>\n",
              "      <td>0761-AETCS</td>\n",
              "      <td>1</td>\n",
              "      <td>United States</td>\n",
              "      <td>California</td>\n",
              "      <td>Colton</td>\n",
              "      <td>92324</td>\n",
              "      <td>34.030915, -117.273201</td>\n",
              "      <td>34.030915</td>\n",
              "      <td>-117.273201</td>\n",
              "      <td>Female</td>\n",
              "      <td>...</td>\n",
              "      <td>Month-to-month</td>\n",
              "      <td>No</td>\n",
              "      <td>Electronic check</td>\n",
              "      <td>19.30</td>\n",
              "      <td>19.3</td>\n",
              "      <td>Yes</td>\n",
              "      <td>1</td>\n",
              "      <td>92</td>\n",
              "      <td>3236</td>\n",
              "      <td>Attitude of support person</td>\n",
              "    </tr>\n",
              "    <tr>\n",
              "      <th>1494</th>\n",
              "      <td>5510-BOIUJ</td>\n",
              "      <td>1</td>\n",
              "      <td>United States</td>\n",
              "      <td>California</td>\n",
              "      <td>Visalia</td>\n",
              "      <td>93277</td>\n",
              "      <td>36.303793, -119.375646</td>\n",
              "      <td>36.303793</td>\n",
              "      <td>-119.375646</td>\n",
              "      <td>Male</td>\n",
              "      <td>...</td>\n",
              "      <td>Month-to-month</td>\n",
              "      <td>No</td>\n",
              "      <td>Mailed check</td>\n",
              "      <td>19.25</td>\n",
              "      <td>19.25</td>\n",
              "      <td>Yes</td>\n",
              "      <td>1</td>\n",
              "      <td>80</td>\n",
              "      <td>5437</td>\n",
              "      <td>Attitude of service provider</td>\n",
              "    </tr>\n",
              "    <tr>\n",
              "      <th>1140</th>\n",
              "      <td>6121-VZNQB</td>\n",
              "      <td>1</td>\n",
              "      <td>United States</td>\n",
              "      <td>California</td>\n",
              "      <td>Bolinas</td>\n",
              "      <td>94924</td>\n",
              "      <td>37.943087, -122.72379</td>\n",
              "      <td>37.943087</td>\n",
              "      <td>-122.723790</td>\n",
              "      <td>Female</td>\n",
              "      <td>...</td>\n",
              "      <td>Month-to-month</td>\n",
              "      <td>Yes</td>\n",
              "      <td>Mailed check</td>\n",
              "      <td>19.10</td>\n",
              "      <td>19.1</td>\n",
              "      <td>Yes</td>\n",
              "      <td>1</td>\n",
              "      <td>84</td>\n",
              "      <td>5890</td>\n",
              "      <td>Competitor made better offer</td>\n",
              "    </tr>\n",
              "    <tr>\n",
              "      <th>1710</th>\n",
              "      <td>9318-NKNFC</td>\n",
              "      <td>1</td>\n",
              "      <td>United States</td>\n",
              "      <td>California</td>\n",
              "      <td>Twain</td>\n",
              "      <td>95984</td>\n",
              "      <td>40.022184, -121.062384</td>\n",
              "      <td>40.022184</td>\n",
              "      <td>-121.062384</td>\n",
              "      <td>Male</td>\n",
              "      <td>...</td>\n",
              "      <td>Month-to-month</td>\n",
              "      <td>Yes</td>\n",
              "      <td>Mailed check</td>\n",
              "      <td>18.85</td>\n",
              "      <td>18.85</td>\n",
              "      <td>Yes</td>\n",
              "      <td>1</td>\n",
              "      <td>90</td>\n",
              "      <td>4132</td>\n",
              "      <td>Service dissatisfaction</td>\n",
              "    </tr>\n",
              "  </tbody>\n",
              "</table>\n",
              "<p>1869 rows × 33 columns</p>\n",
              "</div>\n",
              "      <button class=\"colab-df-convert\" onclick=\"convertToInteractive('df-7cb68d51-4990-4707-b205-b2aebded4bc0')\"\n",
              "              title=\"Convert this dataframe to an interactive table.\"\n",
              "              style=\"display:none;\">\n",
              "        \n",
              "  <svg xmlns=\"http://www.w3.org/2000/svg\" height=\"24px\"viewBox=\"0 0 24 24\"\n",
              "       width=\"24px\">\n",
              "    <path d=\"M0 0h24v24H0V0z\" fill=\"none\"/>\n",
              "    <path d=\"M18.56 5.44l.94 2.06.94-2.06 2.06-.94-2.06-.94-.94-2.06-.94 2.06-2.06.94zm-11 1L8.5 8.5l.94-2.06 2.06-.94-2.06-.94L8.5 2.5l-.94 2.06-2.06.94zm10 10l.94 2.06.94-2.06 2.06-.94-2.06-.94-.94-2.06-.94 2.06-2.06.94z\"/><path d=\"M17.41 7.96l-1.37-1.37c-.4-.4-.92-.59-1.43-.59-.52 0-1.04.2-1.43.59L10.3 9.45l-7.72 7.72c-.78.78-.78 2.05 0 2.83L4 21.41c.39.39.9.59 1.41.59.51 0 1.02-.2 1.41-.59l7.78-7.78 2.81-2.81c.8-.78.8-2.07 0-2.86zM5.41 20L4 18.59l7.72-7.72 1.47 1.35L5.41 20z\"/>\n",
              "  </svg>\n",
              "      </button>\n",
              "      \n",
              "  <style>\n",
              "    .colab-df-container {\n",
              "      display:flex;\n",
              "      flex-wrap:wrap;\n",
              "      gap: 12px;\n",
              "    }\n",
              "\n",
              "    .colab-df-convert {\n",
              "      background-color: #E8F0FE;\n",
              "      border: none;\n",
              "      border-radius: 50%;\n",
              "      cursor: pointer;\n",
              "      display: none;\n",
              "      fill: #1967D2;\n",
              "      height: 32px;\n",
              "      padding: 0 0 0 0;\n",
              "      width: 32px;\n",
              "    }\n",
              "\n",
              "    .colab-df-convert:hover {\n",
              "      background-color: #E2EBFA;\n",
              "      box-shadow: 0px 1px 2px rgba(60, 64, 67, 0.3), 0px 1px 3px 1px rgba(60, 64, 67, 0.15);\n",
              "      fill: #174EA6;\n",
              "    }\n",
              "\n",
              "    [theme=dark] .colab-df-convert {\n",
              "      background-color: #3B4455;\n",
              "      fill: #D2E3FC;\n",
              "    }\n",
              "\n",
              "    [theme=dark] .colab-df-convert:hover {\n",
              "      background-color: #434B5C;\n",
              "      box-shadow: 0px 1px 3px 1px rgba(0, 0, 0, 0.15);\n",
              "      filter: drop-shadow(0px 1px 2px rgba(0, 0, 0, 0.3));\n",
              "      fill: #FFFFFF;\n",
              "    }\n",
              "  </style>\n",
              "\n",
              "      <script>\n",
              "        const buttonEl =\n",
              "          document.querySelector('#df-7cb68d51-4990-4707-b205-b2aebded4bc0 button.colab-df-convert');\n",
              "        buttonEl.style.display =\n",
              "          google.colab.kernel.accessAllowed ? 'block' : 'none';\n",
              "\n",
              "        async function convertToInteractive(key) {\n",
              "          const element = document.querySelector('#df-7cb68d51-4990-4707-b205-b2aebded4bc0');\n",
              "          const dataTable =\n",
              "            await google.colab.kernel.invokeFunction('convertToInteractive',\n",
              "                                                     [key], {});\n",
              "          if (!dataTable) return;\n",
              "\n",
              "          const docLinkHtml = 'Like what you see? Visit the ' +\n",
              "            '<a target=\"_blank\" href=https://colab.research.google.com/notebooks/data_table.ipynb>data table notebook</a>'\n",
              "            + ' to learn more about interactive tables.';\n",
              "          element.innerHTML = '';\n",
              "          dataTable['output_type'] = 'display_data';\n",
              "          await google.colab.output.renderOutput(dataTable, element);\n",
              "          const docLink = document.createElement('div');\n",
              "          docLink.innerHTML = docLinkHtml;\n",
              "          element.appendChild(docLink);\n",
              "        }\n",
              "      </script>\n",
              "    </div>\n",
              "  </div>\n",
              "  "
            ]
          },
          "metadata": {},
          "execution_count": 123
        }
      ]
    },
    {
      "cell_type": "markdown",
      "source": [
        "The maximum and minimum values can be known by placing them in a order.\n",
        "As the values in the above table are placed in a descending order.From this , it can be Concluded that the zipcode-95519 had a maximum total charges of 8684.8.  "
      ],
      "metadata": {
        "id": "EbvNxxfhzCG9"
      }
    },
    {
      "cell_type": "code",
      "source": [
        "df[df['City']=='Los Angeles']['Total Charges'].min()"
      ],
      "metadata": {
        "colab": {
          "base_uri": "https://localhost:8080/"
        },
        "id": "12BYH---6LOf",
        "outputId": "7e052d66-2073-4556-d9e3-db627abbaf18"
      },
      "execution_count": 146,
      "outputs": [
        {
          "output_type": "execute_result",
          "data": {
            "text/plain": [
              "18.8"
            ]
          },
          "metadata": {},
          "execution_count": 146
        }
      ]
    },
    {
      "cell_type": "markdown",
      "source": [
        "from the above code it is to be known that Los Angeles has a minimum total charges of 18.80"
      ],
      "metadata": {
        "id": "XfV2AAZs0AAv"
      }
    },
    {
      "cell_type": "markdown",
      "source": [
        "Please find which payment method has the highest churn score and which has the lowest churn score."
      ],
      "metadata": {
        "id": "03W3I7fc2oHs"
      }
    },
    {
      "cell_type": "code",
      "source": [
        "df.sort_values(by='Churn Score',ascending='True')   #sort_values are used to arrange the values in a order."
      ],
      "metadata": {
        "colab": {
          "base_uri": "https://localhost:8080/",
          "height": 748
        },
        "id": "0CaBFui-3qwN",
        "outputId": "996a15fb-0816-4004-e430-8f957cb075ee"
      },
      "execution_count": 172,
      "outputs": [
        {
          "output_type": "execute_result",
          "data": {
            "text/plain": [
              "      CustomerID  Count        Country       State          City  Zip Code  \\\n",
              "2148  7156-MXBJE      1  United States  California     San Diego     92127   \n",
              "2055  4522-AKYLR      1  United States  California   Chino Hills     91709   \n",
              "2054  9058-HRZSV      1  United States  California  Baldwin Park     91706   \n",
              "1991  7554-NEWDD      1  United States  California    Long Beach     90815   \n",
              "1975  3146-MSEGF      1  United States  California     Paramount     90723   \n",
              "...          ...    ...            ...         ...           ...       ...   \n",
              "1166  3178-FESZO      1  United States  California      Clements     95227   \n",
              "780   7613-LLQFO      1  United States  California   Amador City     95601   \n",
              "151   1009-IRMNA      1  United States  California  Port Hueneme     93041   \n",
              "1322  8943-URTMR      1  United States  California      Lawndale     90260   \n",
              "439   5364-XYIRR      1  United States  California   Los Angeles     90013   \n",
              "\n",
              "                    Lat Long   Latitude   Longitude  Gender  ...  \\\n",
              "2148  33.017518, -117.118456  33.017518 -117.118456  Female  ...   \n",
              "2055  33.942895, -117.725644  33.942895 -117.725644  Female  ...   \n",
              "2054  34.098275, -117.967399  34.098275 -117.967399  Female  ...   \n",
              "1991   33.797638, -118.11662  33.797638 -118.116620    Male  ...   \n",
              "1975  33.897122, -118.164432  33.897122 -118.164432  Female  ...   \n",
              "...                      ...        ...         ...     ...  ...   \n",
              "1166   38.227285, -121.02789  38.227285 -121.027890  Female  ...   \n",
              "780     38.431407, -120.8421  38.431407 -120.842100    Male  ...   \n",
              "151   34.110124, -119.100972  34.110124 -119.100972  Female  ...   \n",
              "1322   33.88856, -118.351813  33.888560 -118.351813  Female  ...   \n",
              "439   34.044639, -118.240413  34.044639 -118.240413    Male  ...   \n",
              "\n",
              "            Contract Paperless Billing             Payment Method  \\\n",
              "2148        One year                No    Credit card (automatic)   \n",
              "2055  Month-to-month               Yes           Electronic check   \n",
              "2054  Month-to-month                No           Electronic check   \n",
              "1991        Two year                No  Bank transfer (automatic)   \n",
              "1975        Two year               Yes    Credit card (automatic)   \n",
              "...              ...               ...                        ...   \n",
              "1166  Month-to-month               Yes    Credit card (automatic)   \n",
              "780   Month-to-month               Yes           Electronic check   \n",
              "151   Month-to-month                No  Bank transfer (automatic)   \n",
              "1322  Month-to-month               Yes               Mailed check   \n",
              "439   Month-to-month               Yes           Electronic check   \n",
              "\n",
              "      Monthly Charges Total Charges Churn Label Churn Value Churn Score  CLTV  \\\n",
              "2148            85.10       3662.25          No           0           5  2319   \n",
              "2055            54.80        731.30          No           0           7  5557   \n",
              "2054            94.40       6126.15          No           0           7  5348   \n",
              "1991            25.70        251.60          No           0           8  3611   \n",
              "1975            88.05       6425.65          No           0           8  6102   \n",
              "...               ...           ...         ...         ...         ...   ...   \n",
              "1166           100.25        100.25         Yes           1         100  5797   \n",
              "780             84.45       1059.55         Yes           1         100  3330   \n",
              "151             20.00        137.60         Yes           1         100  4479   \n",
              "1322            79.65        152.70         Yes           1         100  5082   \n",
              "439             94.65       4812.75         Yes           1         100  4747   \n",
              "\n",
              "                                  Churn Reason  \n",
              "2148                                       NaN  \n",
              "2055                                       NaN  \n",
              "2054                                       NaN  \n",
              "1991                                       NaN  \n",
              "1975                                       NaN  \n",
              "...                                        ...  \n",
              "1166                                Don't know  \n",
              "780                  Limited range of services  \n",
              "151               Competitor offered more data  \n",
              "1322  Lack of affordable download/upload speed  \n",
              "439                         Extra data charges  \n",
              "\n",
              "[7043 rows x 33 columns]"
            ],
            "text/html": [
              "\n",
              "  <div id=\"df-2d4e31fc-5dee-4d89-b455-86dec98aa117\">\n",
              "    <div class=\"colab-df-container\">\n",
              "      <div>\n",
              "<style scoped>\n",
              "    .dataframe tbody tr th:only-of-type {\n",
              "        vertical-align: middle;\n",
              "    }\n",
              "\n",
              "    .dataframe tbody tr th {\n",
              "        vertical-align: top;\n",
              "    }\n",
              "\n",
              "    .dataframe thead th {\n",
              "        text-align: right;\n",
              "    }\n",
              "</style>\n",
              "<table border=\"1\" class=\"dataframe\">\n",
              "  <thead>\n",
              "    <tr style=\"text-align: right;\">\n",
              "      <th></th>\n",
              "      <th>CustomerID</th>\n",
              "      <th>Count</th>\n",
              "      <th>Country</th>\n",
              "      <th>State</th>\n",
              "      <th>City</th>\n",
              "      <th>Zip Code</th>\n",
              "      <th>Lat Long</th>\n",
              "      <th>Latitude</th>\n",
              "      <th>Longitude</th>\n",
              "      <th>Gender</th>\n",
              "      <th>...</th>\n",
              "      <th>Contract</th>\n",
              "      <th>Paperless Billing</th>\n",
              "      <th>Payment Method</th>\n",
              "      <th>Monthly Charges</th>\n",
              "      <th>Total Charges</th>\n",
              "      <th>Churn Label</th>\n",
              "      <th>Churn Value</th>\n",
              "      <th>Churn Score</th>\n",
              "      <th>CLTV</th>\n",
              "      <th>Churn Reason</th>\n",
              "    </tr>\n",
              "  </thead>\n",
              "  <tbody>\n",
              "    <tr>\n",
              "      <th>2148</th>\n",
              "      <td>7156-MXBJE</td>\n",
              "      <td>1</td>\n",
              "      <td>United States</td>\n",
              "      <td>California</td>\n",
              "      <td>San Diego</td>\n",
              "      <td>92127</td>\n",
              "      <td>33.017518, -117.118456</td>\n",
              "      <td>33.017518</td>\n",
              "      <td>-117.118456</td>\n",
              "      <td>Female</td>\n",
              "      <td>...</td>\n",
              "      <td>One year</td>\n",
              "      <td>No</td>\n",
              "      <td>Credit card (automatic)</td>\n",
              "      <td>85.10</td>\n",
              "      <td>3662.25</td>\n",
              "      <td>No</td>\n",
              "      <td>0</td>\n",
              "      <td>5</td>\n",
              "      <td>2319</td>\n",
              "      <td>NaN</td>\n",
              "    </tr>\n",
              "    <tr>\n",
              "      <th>2055</th>\n",
              "      <td>4522-AKYLR</td>\n",
              "      <td>1</td>\n",
              "      <td>United States</td>\n",
              "      <td>California</td>\n",
              "      <td>Chino Hills</td>\n",
              "      <td>91709</td>\n",
              "      <td>33.942895, -117.725644</td>\n",
              "      <td>33.942895</td>\n",
              "      <td>-117.725644</td>\n",
              "      <td>Female</td>\n",
              "      <td>...</td>\n",
              "      <td>Month-to-month</td>\n",
              "      <td>Yes</td>\n",
              "      <td>Electronic check</td>\n",
              "      <td>54.80</td>\n",
              "      <td>731.30</td>\n",
              "      <td>No</td>\n",
              "      <td>0</td>\n",
              "      <td>7</td>\n",
              "      <td>5557</td>\n",
              "      <td>NaN</td>\n",
              "    </tr>\n",
              "    <tr>\n",
              "      <th>2054</th>\n",
              "      <td>9058-HRZSV</td>\n",
              "      <td>1</td>\n",
              "      <td>United States</td>\n",
              "      <td>California</td>\n",
              "      <td>Baldwin Park</td>\n",
              "      <td>91706</td>\n",
              "      <td>34.098275, -117.967399</td>\n",
              "      <td>34.098275</td>\n",
              "      <td>-117.967399</td>\n",
              "      <td>Female</td>\n",
              "      <td>...</td>\n",
              "      <td>Month-to-month</td>\n",
              "      <td>No</td>\n",
              "      <td>Electronic check</td>\n",
              "      <td>94.40</td>\n",
              "      <td>6126.15</td>\n",
              "      <td>No</td>\n",
              "      <td>0</td>\n",
              "      <td>7</td>\n",
              "      <td>5348</td>\n",
              "      <td>NaN</td>\n",
              "    </tr>\n",
              "    <tr>\n",
              "      <th>1991</th>\n",
              "      <td>7554-NEWDD</td>\n",
              "      <td>1</td>\n",
              "      <td>United States</td>\n",
              "      <td>California</td>\n",
              "      <td>Long Beach</td>\n",
              "      <td>90815</td>\n",
              "      <td>33.797638, -118.11662</td>\n",
              "      <td>33.797638</td>\n",
              "      <td>-118.116620</td>\n",
              "      <td>Male</td>\n",
              "      <td>...</td>\n",
              "      <td>Two year</td>\n",
              "      <td>No</td>\n",
              "      <td>Bank transfer (automatic)</td>\n",
              "      <td>25.70</td>\n",
              "      <td>251.60</td>\n",
              "      <td>No</td>\n",
              "      <td>0</td>\n",
              "      <td>8</td>\n",
              "      <td>3611</td>\n",
              "      <td>NaN</td>\n",
              "    </tr>\n",
              "    <tr>\n",
              "      <th>1975</th>\n",
              "      <td>3146-MSEGF</td>\n",
              "      <td>1</td>\n",
              "      <td>United States</td>\n",
              "      <td>California</td>\n",
              "      <td>Paramount</td>\n",
              "      <td>90723</td>\n",
              "      <td>33.897122, -118.164432</td>\n",
              "      <td>33.897122</td>\n",
              "      <td>-118.164432</td>\n",
              "      <td>Female</td>\n",
              "      <td>...</td>\n",
              "      <td>Two year</td>\n",
              "      <td>Yes</td>\n",
              "      <td>Credit card (automatic)</td>\n",
              "      <td>88.05</td>\n",
              "      <td>6425.65</td>\n",
              "      <td>No</td>\n",
              "      <td>0</td>\n",
              "      <td>8</td>\n",
              "      <td>6102</td>\n",
              "      <td>NaN</td>\n",
              "    </tr>\n",
              "    <tr>\n",
              "      <th>...</th>\n",
              "      <td>...</td>\n",
              "      <td>...</td>\n",
              "      <td>...</td>\n",
              "      <td>...</td>\n",
              "      <td>...</td>\n",
              "      <td>...</td>\n",
              "      <td>...</td>\n",
              "      <td>...</td>\n",
              "      <td>...</td>\n",
              "      <td>...</td>\n",
              "      <td>...</td>\n",
              "      <td>...</td>\n",
              "      <td>...</td>\n",
              "      <td>...</td>\n",
              "      <td>...</td>\n",
              "      <td>...</td>\n",
              "      <td>...</td>\n",
              "      <td>...</td>\n",
              "      <td>...</td>\n",
              "      <td>...</td>\n",
              "      <td>...</td>\n",
              "    </tr>\n",
              "    <tr>\n",
              "      <th>1166</th>\n",
              "      <td>3178-FESZO</td>\n",
              "      <td>1</td>\n",
              "      <td>United States</td>\n",
              "      <td>California</td>\n",
              "      <td>Clements</td>\n",
              "      <td>95227</td>\n",
              "      <td>38.227285, -121.02789</td>\n",
              "      <td>38.227285</td>\n",
              "      <td>-121.027890</td>\n",
              "      <td>Female</td>\n",
              "      <td>...</td>\n",
              "      <td>Month-to-month</td>\n",
              "      <td>Yes</td>\n",
              "      <td>Credit card (automatic)</td>\n",
              "      <td>100.25</td>\n",
              "      <td>100.25</td>\n",
              "      <td>Yes</td>\n",
              "      <td>1</td>\n",
              "      <td>100</td>\n",
              "      <td>5797</td>\n",
              "      <td>Don't know</td>\n",
              "    </tr>\n",
              "    <tr>\n",
              "      <th>780</th>\n",
              "      <td>7613-LLQFO</td>\n",
              "      <td>1</td>\n",
              "      <td>United States</td>\n",
              "      <td>California</td>\n",
              "      <td>Amador City</td>\n",
              "      <td>95601</td>\n",
              "      <td>38.431407, -120.8421</td>\n",
              "      <td>38.431407</td>\n",
              "      <td>-120.842100</td>\n",
              "      <td>Male</td>\n",
              "      <td>...</td>\n",
              "      <td>Month-to-month</td>\n",
              "      <td>Yes</td>\n",
              "      <td>Electronic check</td>\n",
              "      <td>84.45</td>\n",
              "      <td>1059.55</td>\n",
              "      <td>Yes</td>\n",
              "      <td>1</td>\n",
              "      <td>100</td>\n",
              "      <td>3330</td>\n",
              "      <td>Limited range of services</td>\n",
              "    </tr>\n",
              "    <tr>\n",
              "      <th>151</th>\n",
              "      <td>1009-IRMNA</td>\n",
              "      <td>1</td>\n",
              "      <td>United States</td>\n",
              "      <td>California</td>\n",
              "      <td>Port Hueneme</td>\n",
              "      <td>93041</td>\n",
              "      <td>34.110124, -119.100972</td>\n",
              "      <td>34.110124</td>\n",
              "      <td>-119.100972</td>\n",
              "      <td>Female</td>\n",
              "      <td>...</td>\n",
              "      <td>Month-to-month</td>\n",
              "      <td>No</td>\n",
              "      <td>Bank transfer (automatic)</td>\n",
              "      <td>20.00</td>\n",
              "      <td>137.60</td>\n",
              "      <td>Yes</td>\n",
              "      <td>1</td>\n",
              "      <td>100</td>\n",
              "      <td>4479</td>\n",
              "      <td>Competitor offered more data</td>\n",
              "    </tr>\n",
              "    <tr>\n",
              "      <th>1322</th>\n",
              "      <td>8943-URTMR</td>\n",
              "      <td>1</td>\n",
              "      <td>United States</td>\n",
              "      <td>California</td>\n",
              "      <td>Lawndale</td>\n",
              "      <td>90260</td>\n",
              "      <td>33.88856, -118.351813</td>\n",
              "      <td>33.888560</td>\n",
              "      <td>-118.351813</td>\n",
              "      <td>Female</td>\n",
              "      <td>...</td>\n",
              "      <td>Month-to-month</td>\n",
              "      <td>Yes</td>\n",
              "      <td>Mailed check</td>\n",
              "      <td>79.65</td>\n",
              "      <td>152.70</td>\n",
              "      <td>Yes</td>\n",
              "      <td>1</td>\n",
              "      <td>100</td>\n",
              "      <td>5082</td>\n",
              "      <td>Lack of affordable download/upload speed</td>\n",
              "    </tr>\n",
              "    <tr>\n",
              "      <th>439</th>\n",
              "      <td>5364-XYIRR</td>\n",
              "      <td>1</td>\n",
              "      <td>United States</td>\n",
              "      <td>California</td>\n",
              "      <td>Los Angeles</td>\n",
              "      <td>90013</td>\n",
              "      <td>34.044639, -118.240413</td>\n",
              "      <td>34.044639</td>\n",
              "      <td>-118.240413</td>\n",
              "      <td>Male</td>\n",
              "      <td>...</td>\n",
              "      <td>Month-to-month</td>\n",
              "      <td>Yes</td>\n",
              "      <td>Electronic check</td>\n",
              "      <td>94.65</td>\n",
              "      <td>4812.75</td>\n",
              "      <td>Yes</td>\n",
              "      <td>1</td>\n",
              "      <td>100</td>\n",
              "      <td>4747</td>\n",
              "      <td>Extra data charges</td>\n",
              "    </tr>\n",
              "  </tbody>\n",
              "</table>\n",
              "<p>7043 rows × 33 columns</p>\n",
              "</div>\n",
              "      <button class=\"colab-df-convert\" onclick=\"convertToInteractive('df-2d4e31fc-5dee-4d89-b455-86dec98aa117')\"\n",
              "              title=\"Convert this dataframe to an interactive table.\"\n",
              "              style=\"display:none;\">\n",
              "        \n",
              "  <svg xmlns=\"http://www.w3.org/2000/svg\" height=\"24px\"viewBox=\"0 0 24 24\"\n",
              "       width=\"24px\">\n",
              "    <path d=\"M0 0h24v24H0V0z\" fill=\"none\"/>\n",
              "    <path d=\"M18.56 5.44l.94 2.06.94-2.06 2.06-.94-2.06-.94-.94-2.06-.94 2.06-2.06.94zm-11 1L8.5 8.5l.94-2.06 2.06-.94-2.06-.94L8.5 2.5l-.94 2.06-2.06.94zm10 10l.94 2.06.94-2.06 2.06-.94-2.06-.94-.94-2.06-.94 2.06-2.06.94z\"/><path d=\"M17.41 7.96l-1.37-1.37c-.4-.4-.92-.59-1.43-.59-.52 0-1.04.2-1.43.59L10.3 9.45l-7.72 7.72c-.78.78-.78 2.05 0 2.83L4 21.41c.39.39.9.59 1.41.59.51 0 1.02-.2 1.41-.59l7.78-7.78 2.81-2.81c.8-.78.8-2.07 0-2.86zM5.41 20L4 18.59l7.72-7.72 1.47 1.35L5.41 20z\"/>\n",
              "  </svg>\n",
              "      </button>\n",
              "      \n",
              "  <style>\n",
              "    .colab-df-container {\n",
              "      display:flex;\n",
              "      flex-wrap:wrap;\n",
              "      gap: 12px;\n",
              "    }\n",
              "\n",
              "    .colab-df-convert {\n",
              "      background-color: #E8F0FE;\n",
              "      border: none;\n",
              "      border-radius: 50%;\n",
              "      cursor: pointer;\n",
              "      display: none;\n",
              "      fill: #1967D2;\n",
              "      height: 32px;\n",
              "      padding: 0 0 0 0;\n",
              "      width: 32px;\n",
              "    }\n",
              "\n",
              "    .colab-df-convert:hover {\n",
              "      background-color: #E2EBFA;\n",
              "      box-shadow: 0px 1px 2px rgba(60, 64, 67, 0.3), 0px 1px 3px 1px rgba(60, 64, 67, 0.15);\n",
              "      fill: #174EA6;\n",
              "    }\n",
              "\n",
              "    [theme=dark] .colab-df-convert {\n",
              "      background-color: #3B4455;\n",
              "      fill: #D2E3FC;\n",
              "    }\n",
              "\n",
              "    [theme=dark] .colab-df-convert:hover {\n",
              "      background-color: #434B5C;\n",
              "      box-shadow: 0px 1px 3px 1px rgba(0, 0, 0, 0.15);\n",
              "      filter: drop-shadow(0px 1px 2px rgba(0, 0, 0, 0.3));\n",
              "      fill: #FFFFFF;\n",
              "    }\n",
              "  </style>\n",
              "\n",
              "      <script>\n",
              "        const buttonEl =\n",
              "          document.querySelector('#df-2d4e31fc-5dee-4d89-b455-86dec98aa117 button.colab-df-convert');\n",
              "        buttonEl.style.display =\n",
              "          google.colab.kernel.accessAllowed ? 'block' : 'none';\n",
              "\n",
              "        async function convertToInteractive(key) {\n",
              "          const element = document.querySelector('#df-2d4e31fc-5dee-4d89-b455-86dec98aa117');\n",
              "          const dataTable =\n",
              "            await google.colab.kernel.invokeFunction('convertToInteractive',\n",
              "                                                     [key], {});\n",
              "          if (!dataTable) return;\n",
              "\n",
              "          const docLinkHtml = 'Like what you see? Visit the ' +\n",
              "            '<a target=\"_blank\" href=https://colab.research.google.com/notebooks/data_table.ipynb>data table notebook</a>'\n",
              "            + ' to learn more about interactive tables.';\n",
              "          element.innerHTML = '';\n",
              "          dataTable['output_type'] = 'display_data';\n",
              "          await google.colab.output.renderOutput(dataTable, element);\n",
              "          const docLink = document.createElement('div');\n",
              "          docLink.innerHTML = docLinkHtml;\n",
              "          element.appendChild(docLink);\n",
              "        }\n",
              "      </script>\n",
              "    </div>\n",
              "  </div>\n",
              "  "
            ]
          },
          "metadata": {},
          "execution_count": 172
        }
      ]
    },
    {
      "cell_type": "code",
      "source": [
        "df.sort_values(by='Churn Score',ascending=False)"
      ],
      "metadata": {
        "colab": {
          "base_uri": "https://localhost:8080/",
          "height": 765
        },
        "id": "dXXqGxWA4_NC",
        "outputId": "c33c3fd4-02ec-43a5-aec1-d5b57cc5beb6"
      },
      "execution_count": 173,
      "outputs": [
        {
          "output_type": "execute_result",
          "data": {
            "text/plain": [
              "      CustomerID  Count        Country       State          City  Zip Code  \\\n",
              "780   7613-LLQFO      1  United States  California   Amador City     95601   \n",
              "1320  6101-IMRMM      1  United States  California    El Segundo     90245   \n",
              "1081  9189-JWSHV      1  United States  California          Helm     93627   \n",
              "100   0533-BNWKF      1  United States  California   Palm Desert     92211   \n",
              "1322  8943-URTMR      1  United States  California      Lawndale     90260   \n",
              "...          ...    ...            ...         ...           ...       ...   \n",
              "1975  3146-MSEGF      1  United States  California     Paramount     90723   \n",
              "1991  7554-NEWDD      1  United States  California    Long Beach     90815   \n",
              "2054  9058-HRZSV      1  United States  California  Baldwin Park     91706   \n",
              "2055  4522-AKYLR      1  United States  California   Chino Hills     91709   \n",
              "2148  7156-MXBJE      1  United States  California     San Diego     92127   \n",
              "\n",
              "                    Lat Long   Latitude   Longitude  Gender  ...  \\\n",
              "780     38.431407, -120.8421  38.431407 -120.842100    Male  ...   \n",
              "1320  33.917145, -118.401554  33.917145 -118.401554    Male  ...   \n",
              "1081  36.520537, -120.118055  36.520537 -120.118055  Female  ...   \n",
              "100   33.762759, -116.324817  33.762759 -116.324817  Female  ...   \n",
              "1322   33.88856, -118.351813  33.888560 -118.351813  Female  ...   \n",
              "...                      ...        ...         ...     ...  ...   \n",
              "1975  33.897122, -118.164432  33.897122 -118.164432  Female  ...   \n",
              "1991   33.797638, -118.11662  33.797638 -118.116620    Male  ...   \n",
              "2054  34.098275, -117.967399  34.098275 -117.967399  Female  ...   \n",
              "2055  33.942895, -117.725644  33.942895 -117.725644  Female  ...   \n",
              "2148  33.017518, -117.118456  33.017518 -117.118456  Female  ...   \n",
              "\n",
              "            Contract Paperless Billing             Payment Method  \\\n",
              "780   Month-to-month               Yes           Electronic check   \n",
              "1320  Month-to-month                No               Mailed check   \n",
              "1081  Month-to-month               Yes           Electronic check   \n",
              "100   Month-to-month               Yes           Electronic check   \n",
              "1322  Month-to-month               Yes               Mailed check   \n",
              "...              ...               ...                        ...   \n",
              "1975        Two year               Yes    Credit card (automatic)   \n",
              "1991        Two year                No  Bank transfer (automatic)   \n",
              "2054  Month-to-month                No           Electronic check   \n",
              "2055  Month-to-month               Yes           Electronic check   \n",
              "2148        One year                No    Credit card (automatic)   \n",
              "\n",
              "      Monthly Charges Total Charges Churn Label Churn Value Churn Score  CLTV  \\\n",
              "780             84.45       1059.55         Yes           1         100  3330   \n",
              "1320            94.50        575.45         Yes           1         100  3469   \n",
              "1081            93.55       2264.05         Yes           1         100  4937   \n",
              "100             85.45       4874.70         Yes           1         100  5502   \n",
              "1322            79.65        152.70         Yes           1         100  5082   \n",
              "...               ...           ...         ...         ...         ...   ...   \n",
              "1975            88.05       6425.65          No           0           8  6102   \n",
              "1991            25.70        251.60          No           0           8  3611   \n",
              "2054            94.40       6126.15          No           0           7  5348   \n",
              "2055            54.80        731.30          No           0           7  5557   \n",
              "2148            85.10       3662.25          No           0           5  2319   \n",
              "\n",
              "                                  Churn Reason  \n",
              "780                  Limited range of services  \n",
              "1320                       Network reliability  \n",
              "1081                            Price too high  \n",
              "100   Lack of affordable download/upload speed  \n",
              "1322  Lack of affordable download/upload speed  \n",
              "...                                        ...  \n",
              "1975                                       NaN  \n",
              "1991                                       NaN  \n",
              "2054                                       NaN  \n",
              "2055                                       NaN  \n",
              "2148                                       NaN  \n",
              "\n",
              "[7043 rows x 33 columns]"
            ],
            "text/html": [
              "\n",
              "  <div id=\"df-99ced129-e949-4643-8098-1d2e2870f0e8\">\n",
              "    <div class=\"colab-df-container\">\n",
              "      <div>\n",
              "<style scoped>\n",
              "    .dataframe tbody tr th:only-of-type {\n",
              "        vertical-align: middle;\n",
              "    }\n",
              "\n",
              "    .dataframe tbody tr th {\n",
              "        vertical-align: top;\n",
              "    }\n",
              "\n",
              "    .dataframe thead th {\n",
              "        text-align: right;\n",
              "    }\n",
              "</style>\n",
              "<table border=\"1\" class=\"dataframe\">\n",
              "  <thead>\n",
              "    <tr style=\"text-align: right;\">\n",
              "      <th></th>\n",
              "      <th>CustomerID</th>\n",
              "      <th>Count</th>\n",
              "      <th>Country</th>\n",
              "      <th>State</th>\n",
              "      <th>City</th>\n",
              "      <th>Zip Code</th>\n",
              "      <th>Lat Long</th>\n",
              "      <th>Latitude</th>\n",
              "      <th>Longitude</th>\n",
              "      <th>Gender</th>\n",
              "      <th>...</th>\n",
              "      <th>Contract</th>\n",
              "      <th>Paperless Billing</th>\n",
              "      <th>Payment Method</th>\n",
              "      <th>Monthly Charges</th>\n",
              "      <th>Total Charges</th>\n",
              "      <th>Churn Label</th>\n",
              "      <th>Churn Value</th>\n",
              "      <th>Churn Score</th>\n",
              "      <th>CLTV</th>\n",
              "      <th>Churn Reason</th>\n",
              "    </tr>\n",
              "  </thead>\n",
              "  <tbody>\n",
              "    <tr>\n",
              "      <th>780</th>\n",
              "      <td>7613-LLQFO</td>\n",
              "      <td>1</td>\n",
              "      <td>United States</td>\n",
              "      <td>California</td>\n",
              "      <td>Amador City</td>\n",
              "      <td>95601</td>\n",
              "      <td>38.431407, -120.8421</td>\n",
              "      <td>38.431407</td>\n",
              "      <td>-120.842100</td>\n",
              "      <td>Male</td>\n",
              "      <td>...</td>\n",
              "      <td>Month-to-month</td>\n",
              "      <td>Yes</td>\n",
              "      <td>Electronic check</td>\n",
              "      <td>84.45</td>\n",
              "      <td>1059.55</td>\n",
              "      <td>Yes</td>\n",
              "      <td>1</td>\n",
              "      <td>100</td>\n",
              "      <td>3330</td>\n",
              "      <td>Limited range of services</td>\n",
              "    </tr>\n",
              "    <tr>\n",
              "      <th>1320</th>\n",
              "      <td>6101-IMRMM</td>\n",
              "      <td>1</td>\n",
              "      <td>United States</td>\n",
              "      <td>California</td>\n",
              "      <td>El Segundo</td>\n",
              "      <td>90245</td>\n",
              "      <td>33.917145, -118.401554</td>\n",
              "      <td>33.917145</td>\n",
              "      <td>-118.401554</td>\n",
              "      <td>Male</td>\n",
              "      <td>...</td>\n",
              "      <td>Month-to-month</td>\n",
              "      <td>No</td>\n",
              "      <td>Mailed check</td>\n",
              "      <td>94.50</td>\n",
              "      <td>575.45</td>\n",
              "      <td>Yes</td>\n",
              "      <td>1</td>\n",
              "      <td>100</td>\n",
              "      <td>3469</td>\n",
              "      <td>Network reliability</td>\n",
              "    </tr>\n",
              "    <tr>\n",
              "      <th>1081</th>\n",
              "      <td>9189-JWSHV</td>\n",
              "      <td>1</td>\n",
              "      <td>United States</td>\n",
              "      <td>California</td>\n",
              "      <td>Helm</td>\n",
              "      <td>93627</td>\n",
              "      <td>36.520537, -120.118055</td>\n",
              "      <td>36.520537</td>\n",
              "      <td>-120.118055</td>\n",
              "      <td>Female</td>\n",
              "      <td>...</td>\n",
              "      <td>Month-to-month</td>\n",
              "      <td>Yes</td>\n",
              "      <td>Electronic check</td>\n",
              "      <td>93.55</td>\n",
              "      <td>2264.05</td>\n",
              "      <td>Yes</td>\n",
              "      <td>1</td>\n",
              "      <td>100</td>\n",
              "      <td>4937</td>\n",
              "      <td>Price too high</td>\n",
              "    </tr>\n",
              "    <tr>\n",
              "      <th>100</th>\n",
              "      <td>0533-BNWKF</td>\n",
              "      <td>1</td>\n",
              "      <td>United States</td>\n",
              "      <td>California</td>\n",
              "      <td>Palm Desert</td>\n",
              "      <td>92211</td>\n",
              "      <td>33.762759, -116.324817</td>\n",
              "      <td>33.762759</td>\n",
              "      <td>-116.324817</td>\n",
              "      <td>Female</td>\n",
              "      <td>...</td>\n",
              "      <td>Month-to-month</td>\n",
              "      <td>Yes</td>\n",
              "      <td>Electronic check</td>\n",
              "      <td>85.45</td>\n",
              "      <td>4874.70</td>\n",
              "      <td>Yes</td>\n",
              "      <td>1</td>\n",
              "      <td>100</td>\n",
              "      <td>5502</td>\n",
              "      <td>Lack of affordable download/upload speed</td>\n",
              "    </tr>\n",
              "    <tr>\n",
              "      <th>1322</th>\n",
              "      <td>8943-URTMR</td>\n",
              "      <td>1</td>\n",
              "      <td>United States</td>\n",
              "      <td>California</td>\n",
              "      <td>Lawndale</td>\n",
              "      <td>90260</td>\n",
              "      <td>33.88856, -118.351813</td>\n",
              "      <td>33.888560</td>\n",
              "      <td>-118.351813</td>\n",
              "      <td>Female</td>\n",
              "      <td>...</td>\n",
              "      <td>Month-to-month</td>\n",
              "      <td>Yes</td>\n",
              "      <td>Mailed check</td>\n",
              "      <td>79.65</td>\n",
              "      <td>152.70</td>\n",
              "      <td>Yes</td>\n",
              "      <td>1</td>\n",
              "      <td>100</td>\n",
              "      <td>5082</td>\n",
              "      <td>Lack of affordable download/upload speed</td>\n",
              "    </tr>\n",
              "    <tr>\n",
              "      <th>...</th>\n",
              "      <td>...</td>\n",
              "      <td>...</td>\n",
              "      <td>...</td>\n",
              "      <td>...</td>\n",
              "      <td>...</td>\n",
              "      <td>...</td>\n",
              "      <td>...</td>\n",
              "      <td>...</td>\n",
              "      <td>...</td>\n",
              "      <td>...</td>\n",
              "      <td>...</td>\n",
              "      <td>...</td>\n",
              "      <td>...</td>\n",
              "      <td>...</td>\n",
              "      <td>...</td>\n",
              "      <td>...</td>\n",
              "      <td>...</td>\n",
              "      <td>...</td>\n",
              "      <td>...</td>\n",
              "      <td>...</td>\n",
              "      <td>...</td>\n",
              "    </tr>\n",
              "    <tr>\n",
              "      <th>1975</th>\n",
              "      <td>3146-MSEGF</td>\n",
              "      <td>1</td>\n",
              "      <td>United States</td>\n",
              "      <td>California</td>\n",
              "      <td>Paramount</td>\n",
              "      <td>90723</td>\n",
              "      <td>33.897122, -118.164432</td>\n",
              "      <td>33.897122</td>\n",
              "      <td>-118.164432</td>\n",
              "      <td>Female</td>\n",
              "      <td>...</td>\n",
              "      <td>Two year</td>\n",
              "      <td>Yes</td>\n",
              "      <td>Credit card (automatic)</td>\n",
              "      <td>88.05</td>\n",
              "      <td>6425.65</td>\n",
              "      <td>No</td>\n",
              "      <td>0</td>\n",
              "      <td>8</td>\n",
              "      <td>6102</td>\n",
              "      <td>NaN</td>\n",
              "    </tr>\n",
              "    <tr>\n",
              "      <th>1991</th>\n",
              "      <td>7554-NEWDD</td>\n",
              "      <td>1</td>\n",
              "      <td>United States</td>\n",
              "      <td>California</td>\n",
              "      <td>Long Beach</td>\n",
              "      <td>90815</td>\n",
              "      <td>33.797638, -118.11662</td>\n",
              "      <td>33.797638</td>\n",
              "      <td>-118.116620</td>\n",
              "      <td>Male</td>\n",
              "      <td>...</td>\n",
              "      <td>Two year</td>\n",
              "      <td>No</td>\n",
              "      <td>Bank transfer (automatic)</td>\n",
              "      <td>25.70</td>\n",
              "      <td>251.60</td>\n",
              "      <td>No</td>\n",
              "      <td>0</td>\n",
              "      <td>8</td>\n",
              "      <td>3611</td>\n",
              "      <td>NaN</td>\n",
              "    </tr>\n",
              "    <tr>\n",
              "      <th>2054</th>\n",
              "      <td>9058-HRZSV</td>\n",
              "      <td>1</td>\n",
              "      <td>United States</td>\n",
              "      <td>California</td>\n",
              "      <td>Baldwin Park</td>\n",
              "      <td>91706</td>\n",
              "      <td>34.098275, -117.967399</td>\n",
              "      <td>34.098275</td>\n",
              "      <td>-117.967399</td>\n",
              "      <td>Female</td>\n",
              "      <td>...</td>\n",
              "      <td>Month-to-month</td>\n",
              "      <td>No</td>\n",
              "      <td>Electronic check</td>\n",
              "      <td>94.40</td>\n",
              "      <td>6126.15</td>\n",
              "      <td>No</td>\n",
              "      <td>0</td>\n",
              "      <td>7</td>\n",
              "      <td>5348</td>\n",
              "      <td>NaN</td>\n",
              "    </tr>\n",
              "    <tr>\n",
              "      <th>2055</th>\n",
              "      <td>4522-AKYLR</td>\n",
              "      <td>1</td>\n",
              "      <td>United States</td>\n",
              "      <td>California</td>\n",
              "      <td>Chino Hills</td>\n",
              "      <td>91709</td>\n",
              "      <td>33.942895, -117.725644</td>\n",
              "      <td>33.942895</td>\n",
              "      <td>-117.725644</td>\n",
              "      <td>Female</td>\n",
              "      <td>...</td>\n",
              "      <td>Month-to-month</td>\n",
              "      <td>Yes</td>\n",
              "      <td>Electronic check</td>\n",
              "      <td>54.80</td>\n",
              "      <td>731.30</td>\n",
              "      <td>No</td>\n",
              "      <td>0</td>\n",
              "      <td>7</td>\n",
              "      <td>5557</td>\n",
              "      <td>NaN</td>\n",
              "    </tr>\n",
              "    <tr>\n",
              "      <th>2148</th>\n",
              "      <td>7156-MXBJE</td>\n",
              "      <td>1</td>\n",
              "      <td>United States</td>\n",
              "      <td>California</td>\n",
              "      <td>San Diego</td>\n",
              "      <td>92127</td>\n",
              "      <td>33.017518, -117.118456</td>\n",
              "      <td>33.017518</td>\n",
              "      <td>-117.118456</td>\n",
              "      <td>Female</td>\n",
              "      <td>...</td>\n",
              "      <td>One year</td>\n",
              "      <td>No</td>\n",
              "      <td>Credit card (automatic)</td>\n",
              "      <td>85.10</td>\n",
              "      <td>3662.25</td>\n",
              "      <td>No</td>\n",
              "      <td>0</td>\n",
              "      <td>5</td>\n",
              "      <td>2319</td>\n",
              "      <td>NaN</td>\n",
              "    </tr>\n",
              "  </tbody>\n",
              "</table>\n",
              "<p>7043 rows × 33 columns</p>\n",
              "</div>\n",
              "      <button class=\"colab-df-convert\" onclick=\"convertToInteractive('df-99ced129-e949-4643-8098-1d2e2870f0e8')\"\n",
              "              title=\"Convert this dataframe to an interactive table.\"\n",
              "              style=\"display:none;\">\n",
              "        \n",
              "  <svg xmlns=\"http://www.w3.org/2000/svg\" height=\"24px\"viewBox=\"0 0 24 24\"\n",
              "       width=\"24px\">\n",
              "    <path d=\"M0 0h24v24H0V0z\" fill=\"none\"/>\n",
              "    <path d=\"M18.56 5.44l.94 2.06.94-2.06 2.06-.94-2.06-.94-.94-2.06-.94 2.06-2.06.94zm-11 1L8.5 8.5l.94-2.06 2.06-.94-2.06-.94L8.5 2.5l-.94 2.06-2.06.94zm10 10l.94 2.06.94-2.06 2.06-.94-2.06-.94-.94-2.06-.94 2.06-2.06.94z\"/><path d=\"M17.41 7.96l-1.37-1.37c-.4-.4-.92-.59-1.43-.59-.52 0-1.04.2-1.43.59L10.3 9.45l-7.72 7.72c-.78.78-.78 2.05 0 2.83L4 21.41c.39.39.9.59 1.41.59.51 0 1.02-.2 1.41-.59l7.78-7.78 2.81-2.81c.8-.78.8-2.07 0-2.86zM5.41 20L4 18.59l7.72-7.72 1.47 1.35L5.41 20z\"/>\n",
              "  </svg>\n",
              "      </button>\n",
              "      \n",
              "  <style>\n",
              "    .colab-df-container {\n",
              "      display:flex;\n",
              "      flex-wrap:wrap;\n",
              "      gap: 12px;\n",
              "    }\n",
              "\n",
              "    .colab-df-convert {\n",
              "      background-color: #E8F0FE;\n",
              "      border: none;\n",
              "      border-radius: 50%;\n",
              "      cursor: pointer;\n",
              "      display: none;\n",
              "      fill: #1967D2;\n",
              "      height: 32px;\n",
              "      padding: 0 0 0 0;\n",
              "      width: 32px;\n",
              "    }\n",
              "\n",
              "    .colab-df-convert:hover {\n",
              "      background-color: #E2EBFA;\n",
              "      box-shadow: 0px 1px 2px rgba(60, 64, 67, 0.3), 0px 1px 3px 1px rgba(60, 64, 67, 0.15);\n",
              "      fill: #174EA6;\n",
              "    }\n",
              "\n",
              "    [theme=dark] .colab-df-convert {\n",
              "      background-color: #3B4455;\n",
              "      fill: #D2E3FC;\n",
              "    }\n",
              "\n",
              "    [theme=dark] .colab-df-convert:hover {\n",
              "      background-color: #434B5C;\n",
              "      box-shadow: 0px 1px 3px 1px rgba(0, 0, 0, 0.15);\n",
              "      filter: drop-shadow(0px 1px 2px rgba(0, 0, 0, 0.3));\n",
              "      fill: #FFFFFF;\n",
              "    }\n",
              "  </style>\n",
              "\n",
              "      <script>\n",
              "        const buttonEl =\n",
              "          document.querySelector('#df-99ced129-e949-4643-8098-1d2e2870f0e8 button.colab-df-convert');\n",
              "        buttonEl.style.display =\n",
              "          google.colab.kernel.accessAllowed ? 'block' : 'none';\n",
              "\n",
              "        async function convertToInteractive(key) {\n",
              "          const element = document.querySelector('#df-99ced129-e949-4643-8098-1d2e2870f0e8');\n",
              "          const dataTable =\n",
              "            await google.colab.kernel.invokeFunction('convertToInteractive',\n",
              "                                                     [key], {});\n",
              "          if (!dataTable) return;\n",
              "\n",
              "          const docLinkHtml = 'Like what you see? Visit the ' +\n",
              "            '<a target=\"_blank\" href=https://colab.research.google.com/notebooks/data_table.ipynb>data table notebook</a>'\n",
              "            + ' to learn more about interactive tables.';\n",
              "          element.innerHTML = '';\n",
              "          dataTable['output_type'] = 'display_data';\n",
              "          await google.colab.output.renderOutput(dataTable, element);\n",
              "          const docLink = document.createElement('div');\n",
              "          docLink.innerHTML = docLinkHtml;\n",
              "          element.appendChild(docLink);\n",
              "        }\n",
              "      </script>\n",
              "    </div>\n",
              "  </div>\n",
              "  "
            ]
          },
          "metadata": {},
          "execution_count": 173
        }
      ]
    },
    {
      "cell_type": "markdown",
      "source": [
        "The maximum and minimum values can be known by placing them in a order. As the values in the above table are placed in a descending order and also in ascending order.From this,it is to be known that the maximum churn score is present for \"Electronic check\" which is 100.While the minimum Churn score is present for \"Credit card\"automatic which is 5. "
      ],
      "metadata": {
        "id": "gaq5q33p_Lua"
      }
    },
    {
      "cell_type": "markdown",
      "source": [
        "Please create an appropriate plot to check the count of payment methods and explain it.\n"
      ],
      "metadata": {
        "id": "9nf9O24tACHC"
      }
    },
    {
      "cell_type": "code",
      "source": [
        "sns.countplot(x='Payment Method',data=df,color='cyan') #countplot is applicable only for categorical data to count observations in each category.\n",
        "plt.title('Count plot-payment method')                            #x-axis shows about the Payment Method\n",
        "plt.xlabel('Payment Method')                           #y-axis shows about the Total Count\n",
        "plt.ylabel('Total count')                           \n",
        "plt.show()"
      ],
      "metadata": {
        "colab": {
          "base_uri": "https://localhost:8080/",
          "height": 295
        },
        "id": "309G_C97AR6-",
        "outputId": "dd5f04c4-e6d5-47d2-fc60-89f819c2455a"
      },
      "execution_count": 174,
      "outputs": [
        {
          "output_type": "display_data",
          "data": {
            "text/plain": [
              "<Figure size 432x288 with 1 Axes>"
            ],
            "image/png": "[encoded data removed]"
          },
          "metadata": {
            "needs_background": "light"
          }
        }
      ]
    },
    {
      "cell_type": "markdown",
      "source": [
        "From the above plot it is to be noted that Electronic Check had a maximum amount of payment Method,Mailed check and bank transfer had an equal amount of payment methods while credit card (automatic) had an minimum amount of payment method."
      ],
      "metadata": {
        "id": "ek4bMsL_BXFn"
      }
    },
    {
      "cell_type": "markdown",
      "source": [
        "Please create an appropriate plot to see the relationship between monthly charges and total charges."
      ],
      "metadata": {
        "id": "QyJc_IAQB-X_"
      }
    },
    {
      "cell_type": "code",
      "source": [
        "sns.scatterplot(x=\"Monthly Charges\",y=\"Total Charges\",data=df) ##scatter plot gives a relation between two numerical values.\n",
        "                                                                #x-axis Monthly Charges  #Y axis Total Charges"
      ],
      "metadata": {
        "colab": {
          "base_uri": "https://localhost:8080/",
          "height": 296
        },
        "id": "uD7Sf3pgCJOl",
        "outputId": "aa8b811d-8fa7-46a2-bb6a-089eccefe153"
      },
      "execution_count": 175,
      "outputs": [
        {
          "output_type": "execute_result",
          "data": {
            "text/plain": [
              "<matplotlib.axes._subplots.AxesSubplot at 0x7efde1f1c610>"
            ]
          },
          "metadata": {},
          "execution_count": 175
        },
        {
          "output_type": "display_data",
          "data": {
            "text/plain": [
              "<Figure size 432x288 with 1 Axes>"
            ],
            "image/png": "[encoded data removed]"
          },
          "metadata": {
            "needs_background": "light"
          }
        }
      ]
    },
    {
      "cell_type": "markdown",
      "source": [
        "From the above plot it is to be known that as the Total Charges increases,monthly charges are also increased.From this it can be said that the Total charges is directly proportional to the monthly charges."
      ],
      "metadata": {
        "id": "iQ6Oo2pQCp45"
      }
    },
    {
      "cell_type": "code",
      "source": [
        "sns.scatterplot(x=\"Monthly Charges\",y=\"Total Charges\",hue=\"Churn Value\",data=df) ##scatter plot gives a relation between two numerical values.\n",
        "                                                                                  #x-axis Monthly Charges  #Y axis Total Charges"
      ],
      "metadata": {
        "colab": {
          "base_uri": "https://localhost:8080/",
          "height": 296
        },
        "id": "AOUsOFx4T01R",
        "outputId": "56a6ca62-9947-4acc-f340-9285028c1598"
      },
      "execution_count": 197,
      "outputs": [
        {
          "output_type": "execute_result",
          "data": {
            "text/plain": [
              "<matplotlib.axes._subplots.AxesSubplot at 0x7efde1678ad0>"
            ]
          },
          "metadata": {},
          "execution_count": 197
        },
        {
          "output_type": "display_data",
          "data": {
            "text/plain": [
              "<Figure size 432x288 with 1 Axes>"
            ],
            "image/png": "[encoded data removed]"
          },
          "metadata": {
            "needs_background": "light"
          }
        }
      ]
    },
    {
      "cell_type": "markdown",
      "source": [
        "From the above plot with respect to the churn label,as the Total charges and monthly charges increases the Customers who remained with the company are also increasing."
      ],
      "metadata": {
        "id": "SQ-ESddYUKYY"
      }
    },
    {
      "cell_type": "markdown",
      "source": [
        "**CONCLUSION**\n",
        "1.From the given dataset it is to be noted that the churn rate of the customers who left the company with the quarter is less than that of the customers who remained with the company.\n",
        "a.)churn rate-No:73.5%\n",
        "b.)churn rate-Yes:26.5%\n",
        "\n",
        "2.The proportion of the Males are slighthly greater than that of the females.\n",
        "\n",
        "3.The percentage of the senior citizens is 16.2%,while the others is 83.8%.\n",
        "\n",
        "4.The hist plot of Tenure months is of Right skewed.\n",
        "\n",
        "5.Electronic check has the maximum payment method while the credit card(automatic) has the minimum payment method.\n",
        "\n",
        "6.With an increase in the total charges there is also an increase in the monthly charges.From it we can say that the Total charges are directly proportional to the monthly charges.\n",
        "\n",
        "7.Majority of the people uses fiber optic as the internet service and also majority of the people had been opted for paperless billing.\n",
        "\n",
        "8.The major Churn reason for the churns who left the company is due to the attitude of service provider and support person.\n",
        "\n",
        "\n"
      ],
      "metadata": {
        "id": "KbfiFqqvVAL1"
      }
    }
  ],
  "metadata": {
    "colab": {
      "name": "ALURI_KEERTHI_JYOSHNA.DS15_MINI_CAPSTONE.ipynb",
      "provenance": []
    },
    "kernelspec": {
      "display_name": "Python 3",
      "name": "python3"
    },
    "language_info": {
      "name": "python"
    }
  },
  "nbformat": 4,
  "nbformat_minor": 0
}